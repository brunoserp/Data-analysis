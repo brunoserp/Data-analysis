{
 "cells": [
  {
   "cell_type": "markdown",
   "id": "7bdf4c95-0488-4c53-a6cf-a5296b28f051",
   "metadata": {},
   "source": [
    "<h1>2020 USA Presidential Voter Intentions Analysis</h2>"
   ]
  },
  {
   "cell_type": "markdown",
   "id": "a6b1dc3f-85b8-4e1a-9c14-98128202957f",
   "metadata": {},
   "source": [
    "During the 2020 U.S. presidential election, voter turnout became a major point of discussion. Many Americans chose not to vote, citing logistical barriers, a lack of trust in the electoral system, and dissatisfaction with the candidates. However, some voters were more motivated than ever, feeling that the stakes were personal or that they needed to avoid potential regret. Various demographic groups, such as younger voters and those from lower-income backgrounds, faced more significant obstacles to voting. https://projects.fivethirtyeight.com/non-voters-poll-2020-election/\n",
    "\n",
    "This analysis will explore the factors influencing voter participation, highlighting key trends and insights from the data to better understand voter behavior in the 2020 election. Data source available on https://github.com/fivethirtyeight/data/tree/master/non-voters"
   ]
  },
  {
   "cell_type": "markdown",
   "id": "70b21d39-45f0-4a61-8f68-a9b0719bf98e",
   "metadata": {},
   "source": []
  },
  {
   "cell_type": "code",
   "execution_count": 2,
   "id": "e58b5511-2d1f-4013-9b24-153ae58610ab",
   "metadata": {},
   "outputs": [
    {
     "data": {
      "text/html": [
       "<div>\n",
       "<style scoped>\n",
       "    .dataframe tbody tr th:only-of-type {\n",
       "        vertical-align: middle;\n",
       "    }\n",
       "\n",
       "    .dataframe tbody tr th {\n",
       "        vertical-align: top;\n",
       "    }\n",
       "\n",
       "    .dataframe thead th {\n",
       "        text-align: right;\n",
       "    }\n",
       "</style>\n",
       "<table border=\"1\" class=\"dataframe\">\n",
       "  <thead>\n",
       "    <tr style=\"text-align: right;\">\n",
       "      <th></th>\n",
       "      <th>RespId</th>\n",
       "      <th>weight</th>\n",
       "      <th>Q1</th>\n",
       "      <th>Q2_1</th>\n",
       "      <th>Q2_2</th>\n",
       "      <th>Q2_3</th>\n",
       "      <th>Q2_4</th>\n",
       "      <th>Q2_5</th>\n",
       "      <th>Q2_6</th>\n",
       "      <th>Q2_7</th>\n",
       "      <th>...</th>\n",
       "      <th>Q30</th>\n",
       "      <th>Q31</th>\n",
       "      <th>Q32</th>\n",
       "      <th>Q33</th>\n",
       "      <th>ppage</th>\n",
       "      <th>educ</th>\n",
       "      <th>race</th>\n",
       "      <th>gender</th>\n",
       "      <th>income_cat</th>\n",
       "      <th>voter_category</th>\n",
       "    </tr>\n",
       "  </thead>\n",
       "  <tbody>\n",
       "    <tr>\n",
       "      <th>0</th>\n",
       "      <td>470001</td>\n",
       "      <td>0.7516</td>\n",
       "      <td>1</td>\n",
       "      <td>1</td>\n",
       "      <td>1</td>\n",
       "      <td>2</td>\n",
       "      <td>4</td>\n",
       "      <td>1</td>\n",
       "      <td>4</td>\n",
       "      <td>2</td>\n",
       "      <td>...</td>\n",
       "      <td>2</td>\n",
       "      <td>NaN</td>\n",
       "      <td>1.0</td>\n",
       "      <td>NaN</td>\n",
       "      <td>73</td>\n",
       "      <td>College</td>\n",
       "      <td>White</td>\n",
       "      <td>Female</td>\n",
       "      <td>$75-125k</td>\n",
       "      <td>always</td>\n",
       "    </tr>\n",
       "    <tr>\n",
       "      <th>1</th>\n",
       "      <td>470002</td>\n",
       "      <td>1.0267</td>\n",
       "      <td>1</td>\n",
       "      <td>1</td>\n",
       "      <td>2</td>\n",
       "      <td>2</td>\n",
       "      <td>3</td>\n",
       "      <td>1</td>\n",
       "      <td>1</td>\n",
       "      <td>2</td>\n",
       "      <td>...</td>\n",
       "      <td>3</td>\n",
       "      <td>NaN</td>\n",
       "      <td>NaN</td>\n",
       "      <td>1.0</td>\n",
       "      <td>90</td>\n",
       "      <td>College</td>\n",
       "      <td>White</td>\n",
       "      <td>Female</td>\n",
       "      <td>$125k or more</td>\n",
       "      <td>always</td>\n",
       "    </tr>\n",
       "    <tr>\n",
       "      <th>2</th>\n",
       "      <td>470003</td>\n",
       "      <td>1.0844</td>\n",
       "      <td>1</td>\n",
       "      <td>1</td>\n",
       "      <td>1</td>\n",
       "      <td>2</td>\n",
       "      <td>2</td>\n",
       "      <td>1</td>\n",
       "      <td>1</td>\n",
       "      <td>2</td>\n",
       "      <td>...</td>\n",
       "      <td>2</td>\n",
       "      <td>NaN</td>\n",
       "      <td>2.0</td>\n",
       "      <td>NaN</td>\n",
       "      <td>53</td>\n",
       "      <td>College</td>\n",
       "      <td>White</td>\n",
       "      <td>Male</td>\n",
       "      <td>$125k or more</td>\n",
       "      <td>sporadic</td>\n",
       "    </tr>\n",
       "    <tr>\n",
       "      <th>3</th>\n",
       "      <td>470007</td>\n",
       "      <td>0.6817</td>\n",
       "      <td>1</td>\n",
       "      <td>1</td>\n",
       "      <td>1</td>\n",
       "      <td>1</td>\n",
       "      <td>3</td>\n",
       "      <td>1</td>\n",
       "      <td>1</td>\n",
       "      <td>1</td>\n",
       "      <td>...</td>\n",
       "      <td>2</td>\n",
       "      <td>NaN</td>\n",
       "      <td>1.0</td>\n",
       "      <td>NaN</td>\n",
       "      <td>58</td>\n",
       "      <td>Some college</td>\n",
       "      <td>Black</td>\n",
       "      <td>Female</td>\n",
       "      <td>$40-75k</td>\n",
       "      <td>sporadic</td>\n",
       "    </tr>\n",
       "    <tr>\n",
       "      <th>4</th>\n",
       "      <td>480008</td>\n",
       "      <td>0.9910</td>\n",
       "      <td>1</td>\n",
       "      <td>1</td>\n",
       "      <td>1</td>\n",
       "      <td>-1</td>\n",
       "      <td>1</td>\n",
       "      <td>1</td>\n",
       "      <td>1</td>\n",
       "      <td>1</td>\n",
       "      <td>...</td>\n",
       "      <td>1</td>\n",
       "      <td>-1.0</td>\n",
       "      <td>NaN</td>\n",
       "      <td>NaN</td>\n",
       "      <td>81</td>\n",
       "      <td>High school or less</td>\n",
       "      <td>White</td>\n",
       "      <td>Male</td>\n",
       "      <td>$40-75k</td>\n",
       "      <td>always</td>\n",
       "    </tr>\n",
       "  </tbody>\n",
       "</table>\n",
       "<p>5 rows × 119 columns</p>\n",
       "</div>"
      ],
      "text/plain": [
       "   RespId  weight  Q1  Q2_1  Q2_2  Q2_3  Q2_4  Q2_5  Q2_6  Q2_7  ...  Q30  \\\n",
       "0  470001  0.7516   1     1     1     2     4     1     4     2  ...    2   \n",
       "1  470002  1.0267   1     1     2     2     3     1     1     2  ...    3   \n",
       "2  470003  1.0844   1     1     1     2     2     1     1     2  ...    2   \n",
       "3  470007  0.6817   1     1     1     1     3     1     1     1  ...    2   \n",
       "4  480008  0.9910   1     1     1    -1     1     1     1     1  ...    1   \n",
       "\n",
       "   Q31  Q32  Q33  ppage                 educ   race  gender     income_cat  \\\n",
       "0  NaN  1.0  NaN     73              College  White  Female       $75-125k   \n",
       "1  NaN  NaN  1.0     90              College  White  Female  $125k or more   \n",
       "2  NaN  2.0  NaN     53              College  White    Male  $125k or more   \n",
       "3  NaN  1.0  NaN     58         Some college  Black  Female        $40-75k   \n",
       "4 -1.0  NaN  NaN     81  High school or less  White    Male        $40-75k   \n",
       "\n",
       "   voter_category  \n",
       "0          always  \n",
       "1          always  \n",
       "2        sporadic  \n",
       "3        sporadic  \n",
       "4          always  \n",
       "\n",
       "[5 rows x 119 columns]"
      ]
     },
     "execution_count": 2,
     "metadata": {},
     "output_type": "execute_result"
    }
   ],
   "source": [
    "import pandas as pd\n",
    "import numpy as np\n",
    "import os\n",
    "import matplotlib.pyplot as plt\n",
    "import seaborn as sns\n",
    "df=pd.read_csv('nonvoters_data.csv')\n",
    "df.head(5)"
   ]
  },
  {
   "cell_type": "code",
   "execution_count": 197,
   "id": "ac620df2-f630-4e33-8342-4108a5352f1f",
   "metadata": {},
   "outputs": [
    {
     "data": {
      "text/plain": [
       "(5836, 119)"
      ]
     },
     "execution_count": 197,
     "metadata": {},
     "output_type": "execute_result"
    }
   ],
   "source": [
    "df.shape"
   ]
  },
  {
   "cell_type": "code",
   "execution_count": 198,
   "id": "8bc2c4e4-91f1-4993-adf2-80e3491737d2",
   "metadata": {},
   "outputs": [
    {
     "data": {
      "text/plain": [
       "array(['RespId', 'weight', 'Q1', 'Q2_1', 'Q2_2', 'Q2_3', 'Q2_4', 'Q2_5',\n",
       "       'Q2_6', 'Q2_7', 'Q2_8', 'Q2_9', 'Q2_10', 'Q3_1', 'Q3_2', 'Q3_3',\n",
       "       'Q3_4', 'Q3_5', 'Q3_6', 'Q4_1', 'Q4_2', 'Q4_3', 'Q4_4', 'Q4_5',\n",
       "       'Q4_6', 'Q5', 'Q6', 'Q7', 'Q8_1', 'Q8_2', 'Q8_3', 'Q8_4', 'Q8_5',\n",
       "       'Q8_6', 'Q8_7', 'Q8_8', 'Q8_9', 'Q9_1', 'Q9_2', 'Q9_3', 'Q9_4',\n",
       "       'Q10_1', 'Q10_2', 'Q10_3', 'Q10_4', 'Q11_1', 'Q11_2', 'Q11_3',\n",
       "       'Q11_4', 'Q11_5', 'Q11_6', 'Q14', 'Q15', 'Q16', 'Q17_1', 'Q17_2',\n",
       "       'Q17_3', 'Q17_4', 'Q18_1', 'Q18_2', 'Q18_3', 'Q18_4', 'Q18_5',\n",
       "       'Q18_6', 'Q18_7', 'Q18_8', 'Q18_9', 'Q18_10', 'Q19_1', 'Q19_2',\n",
       "       'Q19_3', 'Q19_4', 'Q19_5', 'Q19_6', 'Q19_7', 'Q19_8', 'Q19_9',\n",
       "       'Q19_10', 'Q20', 'Q21', 'Q22', 'Q23', 'Q24', 'Q25', 'Q26', 'Q27_1',\n",
       "       'Q27_2', 'Q27_3', 'Q27_4', 'Q27_5', 'Q27_6', 'Q28_1', 'Q28_2',\n",
       "       'Q28_3', 'Q28_4', 'Q28_5', 'Q28_6', 'Q28_7', 'Q28_8', 'Q29_1',\n",
       "       'Q29_2', 'Q29_3', 'Q29_4', 'Q29_5', 'Q29_6', 'Q29_7', 'Q29_8',\n",
       "       'Q29_9', 'Q29_10', 'Q30', 'Q31', 'Q32', 'Q33', 'ppage', 'educ',\n",
       "       'race', 'gender', 'income_cat', 'voter_category'], dtype=object)"
      ]
     },
     "execution_count": 198,
     "metadata": {},
     "output_type": "execute_result"
    }
   ],
   "source": [
    "df.columns.values"
   ]
  },
  {
   "cell_type": "markdown",
   "id": "4bcd9a18-4ca7-48c2-a60d-d84a9bc17bf0",
   "metadata": {},
   "source": [
    "All the answers are numbered based, following the pdf layout on GitHub's link. <br>\n",
    "If a question header is followed by underline and another number, means a subquestion.<br>\n",
    "&emsp;For example, the 2nd question (Q2) is about how important each subquestion is to being considered a good American.<br>\n",
    "&emsp;Than, the first subquestion, Q2_1, is voting in elections, which can receive a answer from 1 to 4, which 1 is very important, and 4 is not at all important.<br>\n",
    "&emsp;This answer scale can changes for each question.<br>\n",
    "Some questions only are asked for some given former answer."
   ]
  },
  {
   "cell_type": "markdown",
   "id": "dff0d668-260e-4a69-b53e-6e8115bb27c7",
   "metadata": {},
   "source": [
    "<hr>"
   ]
  },
  {
   "cell_type": "markdown",
   "id": "65d9172c-fa84-48b7-b125-09a740aba069",
   "metadata": {},
   "source": [
    "<h3>1. Sample characteristics</h3>"
   ]
  },
  {
   "cell_type": "code",
   "execution_count": 112,
   "id": "d1402f46-cf6f-4cee-b9b4-f91d1cfc24bf",
   "metadata": {},
   "outputs": [
    {
     "data": {
      "text/plain": [
       "count    5836\n",
       "mean       51\n",
       "std        17\n",
       "min        22\n",
       "25%        36\n",
       "50%        54\n",
       "75%        65\n",
       "max        94\n",
       "Name: ppage, dtype: int32"
      ]
     },
     "execution_count": 112,
     "metadata": {},
     "output_type": "execute_result"
    }
   ],
   "source": [
    "# age information\n",
    "df['ppage'].describe().astype(int)"
   ]
  },
  {
   "cell_type": "code",
   "execution_count": 40,
   "id": "77c890b2-6784-4b2d-9780-e5490fad9301",
   "metadata": {},
   "outputs": [
    {
     "data": {
      "text/html": [
       "<div>\n",
       "<style scoped>\n",
       "    .dataframe tbody tr th:only-of-type {\n",
       "        vertical-align: middle;\n",
       "    }\n",
       "\n",
       "    .dataframe tbody tr th {\n",
       "        vertical-align: top;\n",
       "    }\n",
       "\n",
       "    .dataframe thead th {\n",
       "        text-align: right;\n",
       "    }\n",
       "</style>\n",
       "<table border=\"1\" class=\"dataframe\">\n",
       "  <thead>\n",
       "    <tr style=\"text-align: right;\">\n",
       "      <th></th>\n",
       "      <th>Educational_level</th>\n",
       "      <th>%</th>\n",
       "      <th>Race</th>\n",
       "      <th>%</th>\n",
       "      <th>Gender</th>\n",
       "      <th>%</th>\n",
       "      <th>Income_group</th>\n",
       "      <th>%</th>\n",
       "      <th>Voter_category</th>\n",
       "      <th>%</th>\n",
       "    </tr>\n",
       "  </thead>\n",
       "  <tbody>\n",
       "    <tr>\n",
       "      <th>0</th>\n",
       "      <td>College</td>\n",
       "      <td>0.40</td>\n",
       "      <td>White</td>\n",
       "      <td>0.64</td>\n",
       "      <td>Male</td>\n",
       "      <td>0.5</td>\n",
       "      <td>$75-125k</td>\n",
       "      <td>0.28</td>\n",
       "      <td>sporadic</td>\n",
       "      <td>0.44</td>\n",
       "    </tr>\n",
       "    <tr>\n",
       "      <th>1</th>\n",
       "      <td>High school or less</td>\n",
       "      <td>0.31</td>\n",
       "      <td>Black</td>\n",
       "      <td>0.16</td>\n",
       "      <td>Female</td>\n",
       "      <td>0.5</td>\n",
       "      <td>Less than $40k</td>\n",
       "      <td>0.24</td>\n",
       "      <td>always</td>\n",
       "      <td>0.31</td>\n",
       "    </tr>\n",
       "    <tr>\n",
       "      <th>2</th>\n",
       "      <td>Some college</td>\n",
       "      <td>0.29</td>\n",
       "      <td>Hispanic</td>\n",
       "      <td>0.14</td>\n",
       "      <td>NaN</td>\n",
       "      <td>NaN</td>\n",
       "      <td>$40-75k</td>\n",
       "      <td>0.24</td>\n",
       "      <td>rarely/never</td>\n",
       "      <td>0.25</td>\n",
       "    </tr>\n",
       "    <tr>\n",
       "      <th>3</th>\n",
       "      <td>NaN</td>\n",
       "      <td>NaN</td>\n",
       "      <td>Other/Mixed</td>\n",
       "      <td>0.07</td>\n",
       "      <td>NaN</td>\n",
       "      <td>NaN</td>\n",
       "      <td>$125k or more</td>\n",
       "      <td>0.24</td>\n",
       "      <td>NaN</td>\n",
       "      <td>NaN</td>\n",
       "    </tr>\n",
       "  </tbody>\n",
       "</table>\n",
       "</div>"
      ],
      "text/plain": [
       "     Educational_level     %         Race     %  Gender    %    Income_group  \\\n",
       "0              College  0.40        White  0.64    Male  0.5        $75-125k   \n",
       "1  High school or less  0.31        Black  0.16  Female  0.5  Less than $40k   \n",
       "2         Some college  0.29     Hispanic  0.14     NaN  NaN         $40-75k   \n",
       "3                  NaN   NaN  Other/Mixed  0.07     NaN  NaN   $125k or more   \n",
       "\n",
       "      % Voter_category     %  \n",
       "0  0.28       sporadic  0.44  \n",
       "1  0.24         always  0.31  \n",
       "2  0.24   rarely/never  0.25  \n",
       "3  0.24            NaN   NaN  "
      ]
     },
     "execution_count": 40,
     "metadata": {},
     "output_type": "execute_result"
    }
   ],
   "source": [
    "# education level, race, gender, income category and voter category informations:\n",
    "educ=df['educ'].value_counts(normalize=True).round(2).to_dict()\n",
    "df_educ = pd.DataFrame([educ]).T.reset_index()\n",
    "race=df['race'].value_counts(normalize=True).round(2).to_dict()\n",
    "df_race = pd.DataFrame([race]).T.reset_index()\n",
    "gender=df['gender'].value_counts(normalize=True).round(2).to_dict()\n",
    "df_gender = pd.DataFrame([gender]).T.reset_index()\n",
    "income_cat=df['income_cat'].value_counts(normalize=True).round(2).to_dict()\n",
    "df_income_cat = pd.DataFrame([income_cat]).T.reset_index()\n",
    "voter_category=df['voter_category'].value_counts(normalize=True).round(2).to_dict()\n",
    "df_voter_category = pd.DataFrame([voter_category]).T.reset_index()\n",
    "\n",
    "df_characteristics= pd.DataFrame()\n",
    "df_characteristics = pd.concat([df_educ,df_characteristics,df_race,df_gender,df_income_cat,df_voter_category],axis=1,ignore_index=True)\n",
    "df_characteristics.rename(columns={ 0:'Educational_level',1:'%',2:'Race',3:'%',4:'Gender',5:'%',\n",
    "                                    6:'Income_group',7:'%',8:'Voter_category',9:'%' },\n",
    "                          inplace=True)\n",
    "df_characteristics"
   ]
  },
  {
   "cell_type": "markdown",
   "id": "aefa8d54-d718-46c6-8092-9a1ca477b3b1",
   "metadata": {},
   "source": [
    "The sample has 5.839 individuals (lines) with age average of 51 years old and well distributed.<br>Gender and education are nearly equal distributed, 63% are white, 44% vote sporadically, 31% vote always and 25% vote rarely/never"
   ]
  },
  {
   "cell_type": "markdown",
   "id": "91073d17-4590-411c-a0be-47960bebb924",
   "metadata": {},
   "source": [
    "<h3>1.1 Race x income categories</h3>"
   ]
  },
  {
   "cell_type": "code",
   "execution_count": 6,
   "id": "26b2dca4-71af-4a87-b03f-658f9f93bfd0",
   "metadata": {},
   "outputs": [
    {
     "data": {
      "image/png": "[encoded data removed]",
      "text/plain": [
       "<Figure size 640x480 with 1 Axes>"
      ]
     },
     "metadata": {},
     "output_type": "display_data"
    }
   ],
   "source": [
    "df_race_income_valuecounts=pd.DataFrame()\n",
    "df_race_income_valuecounts = df[['race','income_cat']].value_counts().reset_index()\n",
    "df_race_income_valuecounts = df_race_income_valuecounts.merge(df_race_income_valuecounts.groupby('race')['count'].sum(),on='race')\n",
    "df_race_income_valuecounts.rename(columns={ 'count_x':'Count', \n",
    "                                            'count_y':'Total_count_race',\n",
    "                                            'race':'Race',\n",
    "                                            'income_cat': 'Income_category',\n",
    "                                            'count':'Count'},inplace=True)\n",
    "df_race_income_valuecounts['%_within_race'] = (df_race_income_valuecounts['Count'] / df_race_income_valuecounts['Total_count_race']).round(2)\n",
    "df_race_income_valuecounts.sort_values(by='Race',inplace=True)\n",
    "\n",
    "p1 = sns.barplot(data=df_race_income_valuecounts, x='Race', y='%_within_race', hue='Income_category')\n",
    "sns.move_legend(\n",
    "    p1, \"lower center\",\n",
    "    bbox_to_anchor=(.5, 1), ncol=3, title=None, frameon=False,\n",
    ")\n",
    "for p in p1.containers:\n",
    "    p1.bar_label(p, label_type='edge')"
   ]
  },
  {
   "cell_type": "markdown",
   "id": "6616a21f-3cf2-485d-9ee4-13b3427c3f42",
   "metadata": {},
   "source": [
    "<h3>1.2 Education x income categories</h3>"
   ]
  },
  {
   "cell_type": "markdown",
   "id": "83d6cf1d-a682-469b-97fe-decfddcac5ff",
   "metadata": {},
   "source": [
    "- Who is income distribution among educational level?"
   ]
  },
  {
   "cell_type": "code",
   "execution_count": 80,
   "id": "3061fdbf-70a3-41ea-bd55-ca6ef164133b",
   "metadata": {},
   "outputs": [
    {
     "data": {
      "image/png": "[encoded data removed]",
      "text/plain": [
       "<Figure size 640x480 with 1 Axes>"
      ]
     },
     "metadata": {},
     "output_type": "display_data"
    }
   ],
   "source": [
    "df_educ_income_valuecounts = df[['educ','income_cat']].value_counts().reset_index()\n",
    "df_educ_income_valuecounts = df_educ_income_valuecounts.merge(df_educ_income_valuecounts.groupby('educ')['count'].sum(),on='educ')\n",
    "df_educ_income_valuecounts.rename(columns={'count_x': 'Count', \n",
    "                                           'count_y':'Total_educ',\n",
    "                                           'educ':'Educational_level',\n",
    "                                           'income_cat': 'Income_category'},inplace=True)\n",
    "education_order = ['High school or less', 'Some college', 'College']\n",
    "df_educ_income_valuecounts['Educational_level'] = pd.Categorical(df_educ_income_valuecounts['Educational_level'], categories=education_order, ordered=True)\n",
    "df_educ_income_valuecounts['%_within_educ'] = (df_educ_income_valuecounts['Count']/df_educ_income_valuecounts['Total_educ']).round(2)\n",
    "income_cat_order = ['Less than $40k', '$40-75k', '$75-125k', '$125k or more']\n",
    "df_educ_income_valuecounts['Income_category'] = pd.Categorical(df_educ_income_valuecounts['Income_category'], categories=income_cat_order, ordered=True)\n",
    "\n",
    "p2 = sns.barplot(data=df_educ_income_valuecounts, x='Educational_level', y='%_within_educ', hue='Income_category')\n",
    "sns.move_legend(\n",
    "    p2, \"lower center\",\n",
    "    bbox_to_anchor=(.5, 1), ncol=3, title=None, frameon=False,\n",
    ")\n",
    "for p in p2.containers:\n",
    "    p2.bar_label(p, label_type='edge')"
   ]
  },
  {
   "cell_type": "markdown",
   "id": "4f226d38-5814-4413-8c6c-86e285c62ac8",
   "metadata": {},
   "source": [
    "<hr>"
   ]
  },
  {
   "cell_type": "markdown",
   "id": "3e680327-73f4-46f4-8f08-29f166db5453",
   "metadata": {},
   "source": [
    "<h3>2. Based on the questions asked:</h3>"
   ]
  },
  {
   "cell_type": "markdown",
   "id": "1cf9e754-b6b9-43e9-b90b-f9d2fb0c41ab",
   "metadata": {},
   "source": [
    "- The voters were divided into always/sporadic/rarely-never voters.<br>How are their distribution among educational level?"
   ]
  },
  {
   "cell_type": "code",
   "execution_count": 81,
   "id": "948bdb23-7d0c-43e5-89fe-f4eb2b5d4f3d",
   "metadata": {},
   "outputs": [
    {
     "data": {
      "image/png": "[encoded data removed]",
      "text/plain": [
       "<Figure size 640x480 with 1 Axes>"
      ]
     },
     "metadata": {},
     "output_type": "display_data"
    }
   ],
   "source": [
    "df_educ_voter_valuecounts = df[['educ','voter_category']].value_counts().reset_index()\n",
    "df_educ_voter_valuecounts = df_educ_voter_valuecounts.merge(df_educ_voter_valuecounts.groupby('educ')['count'].sum(),on='educ')\n",
    "df_educ_voter_valuecounts.rename(columns={'count_x': 'Count', 'count_y':'Total_educ',\n",
    "                                          'educ':'Educational_level', 'voter_category': 'Voter_category'},inplace=True)\n",
    "df_educ_voter_valuecounts['%_within_educ'] = (df_educ_voter_valuecounts['Count']/df_educ_voter_valuecounts['Total_educ']).round(2)\n",
    "education_order = ['High school or less', 'Some college', 'College']\n",
    "df_educ_voter_valuecounts['Educational_level'] = pd.Categorical(df_educ_voter_valuecounts['Educational_level'], categories=education_order, ordered=True)\n",
    "voter_freq_order = ['rarely/never','sporadic','always']\n",
    "df_educ_voter_valuecounts['Voter_category'] = pd.Categorical(df_educ_voter_valuecounts['Voter_category'], categories=voter_freq_order, ordered=True)\n",
    "\n",
    "p3 = sns.barplot(data=df_educ_voter_valuecounts, x='Educational_level', y='%_within_educ', hue='Voter_category')\n",
    "sns.move_legend(\n",
    "    p3, \"lower center\",\n",
    "    bbox_to_anchor=(.5, 1), ncol=3, title=None, frameon=False,\n",
    ")\n",
    "for p in p3.containers:\n",
    "    p3.bar_label(p, label_type='edge')"
   ]
  },
  {
   "cell_type": "markdown",
   "id": "36bf67a3-850a-4811-a1a5-ac1de1a48a2c",
   "metadata": {},
   "source": [
    "- Does it matter who will win the election based on the country issues? How is the opinion by party preference?"
   ]
  },
  {
   "cell_type": "code",
   "execution_count": 89,
   "id": "5cd41276-b06d-4823-9659-66ee566c36b3",
   "metadata": {},
   "outputs": [
    {
     "data": {
      "text/html": [
       "<div>\n",
       "<style scoped>\n",
       "    .dataframe tbody tr th:only-of-type {\n",
       "        vertical-align: middle;\n",
       "    }\n",
       "\n",
       "    .dataframe tbody tr th {\n",
       "        vertical-align: top;\n",
       "    }\n",
       "\n",
       "    .dataframe thead th {\n",
       "        text-align: right;\n",
       "    }\n",
       "</style>\n",
       "<table border=\"1\" class=\"dataframe\">\n",
       "  <thead>\n",
       "    <tr style=\"text-align: right;\">\n",
       "      <th></th>\n",
       "      <th>Perspective of election result</th>\n",
       "      <th>Count</th>\n",
       "      <th>Total_count_party</th>\n",
       "      <th>%_within_party</th>\n",
       "    </tr>\n",
       "    <tr>\n",
       "      <th>Party_preference</th>\n",
       "      <th></th>\n",
       "      <th></th>\n",
       "      <th></th>\n",
       "      <th></th>\n",
       "    </tr>\n",
       "  </thead>\n",
       "  <tbody>\n",
       "    <tr>\n",
       "      <th>Democrat</th>\n",
       "      <td>Who wins the election matters</td>\n",
       "      <td>1820</td>\n",
       "      <td>2002</td>\n",
       "      <td>0.91</td>\n",
       "    </tr>\n",
       "    <tr>\n",
       "      <th>Republican</th>\n",
       "      <td>Who wins the election matters</td>\n",
       "      <td>1402</td>\n",
       "      <td>1592</td>\n",
       "      <td>0.88</td>\n",
       "    </tr>\n",
       "    <tr>\n",
       "      <th>Independent</th>\n",
       "      <td>Who wins the election matters</td>\n",
       "      <td>1129</td>\n",
       "      <td>1425</td>\n",
       "      <td>0.79</td>\n",
       "    </tr>\n",
       "    <tr>\n",
       "      <th>Another party</th>\n",
       "      <td>Who wins the election matters</td>\n",
       "      <td>64</td>\n",
       "      <td>99</td>\n",
       "      <td>0.65</td>\n",
       "    </tr>\n",
       "    <tr>\n",
       "      <th>No preference</th>\n",
       "      <td>Who wins the election matters</td>\n",
       "      <td>370</td>\n",
       "      <td>670</td>\n",
       "      <td>0.55</td>\n",
       "    </tr>\n",
       "    <tr>\n",
       "      <th>NA</th>\n",
       "      <td>Who wins the election matters</td>\n",
       "      <td>25</td>\n",
       "      <td>48</td>\n",
       "      <td>0.52</td>\n",
       "    </tr>\n",
       "  </tbody>\n",
       "</table>\n",
       "</div>"
      ],
      "text/plain": [
       "                 Perspective of election result  Count  Total_count_party  \\\n",
       "Party_preference                                                            \n",
       "Democrat          Who wins the election matters   1820               2002   \n",
       "Republican        Who wins the election matters   1402               1592   \n",
       "Independent       Who wins the election matters   1129               1425   \n",
       "Another party     Who wins the election matters     64                 99   \n",
       "No preference     Who wins the election matters    370                670   \n",
       "NA                Who wins the election matters     25                 48   \n",
       "\n",
       "                  %_within_party  \n",
       "Party_preference                  \n",
       "Democrat                    0.91  \n",
       "Republican                  0.88  \n",
       "Independent                 0.79  \n",
       "Another party               0.65  \n",
       "No preference               0.55  \n",
       "NA                          0.52  "
      ]
     },
     "execution_count": 89,
     "metadata": {},
     "output_type": "execute_result"
    }
   ],
   "source": [
    "df_perspective = df[['Q30','Q5']].value_counts().round(2).reset_index()\n",
    "df_perspective['Q5'] = np.where (df_perspective['Q5'] == 1, 'Who wins the election matters',\n",
    "                        np.where(df_perspective['Q5'] == 2, 'Things will be pretty much the same',\n",
    "                        np.where(df_perspective['Q5'] == -1, 'NA','')))\n",
    "df_perspective['Q30'] =  np.where(df_perspective['Q30']==1,'Republican',\n",
    "                            np.where(df_perspective['Q30']==2,'Democrat',\n",
    "                            np.where(df_perspective['Q30']==3,'Independent',\n",
    "                            np.where(df_perspective['Q30']==4,'Another party',\n",
    "                            np.where(df_perspective['Q30']==5,'No preference',\n",
    "                            np.where(df_perspective['Q30']==-1,'NA',''))))))\n",
    "\n",
    "df_perspective = df_perspective.merge(df_perspective.groupby('Q30')['count'].sum(),on='Q30')\n",
    "df_perspective.rename(columns={'count_x': 'Count', 'count_y':'Total_count_party',\n",
    "                              'Q30': 'Party_preference',\n",
    "                              'Q5': 'Perspective of election result'},\n",
    "                      inplace=True)\n",
    "df_perspective['%_within_party'] = (df_perspective['Count']/df_perspective['Total_count_party']).round(2)\n",
    "df_perspective.sort_values(by=['Party_preference','%_within_party'],ascending=[True,False],inplace=True)\n",
    "df_perspective.groupby('Party_preference').first().sort_values('%_within_party',ascending=False)"
   ]
  },
  {
   "cell_type": "markdown",
   "id": "0a8afa87-527b-42e7-9066-54edf35eb34a",
   "metadata": {},
   "source": [
    "- How important is displaying the American flag to being a good American?"
   ]
  },
  {
   "cell_type": "code",
   "execution_count": 160,
   "id": "426592e3-6ab2-403d-b233-754f2e86ffd9",
   "metadata": {},
   "outputs": [
    {
     "data": {
      "text/plain": [
       "Q2_4\n",
       "Very important          0.34\n",
       "Somewhat important      0.28\n",
       "Not so important        0.23\n",
       "Not at all important    0.15\n",
       "NA                      0.01\n",
       "Name: proportion, dtype: float64"
      ]
     },
     "execution_count": 160,
     "metadata": {},
     "output_type": "execute_result"
    }
   ],
   "source": [
    "df['Q2_4'].value_counts(normalize=True).round(2).rename(index={1:'Very important',2:'Somewhat important',3:'Not so important',4:'Not at all important',-1:'NA'})"
   ]
  },
  {
   "cell_type": "markdown",
   "id": "0ec41496-39dd-4620-a40f-377e4f500730",
   "metadata": {},
   "source": [
    "- What's the biggest education level by party preference?"
   ]
  },
  {
   "cell_type": "code",
   "execution_count": 217,
   "id": "0177fd24-7fd2-4249-81e4-1d07f86d0f0f",
   "metadata": {},
   "outputs": [
    {
     "data": {
      "text/html": [
       "<div>\n",
       "<style scoped>\n",
       "    .dataframe tbody tr th:only-of-type {\n",
       "        vertical-align: middle;\n",
       "    }\n",
       "\n",
       "    .dataframe tbody tr th {\n",
       "        vertical-align: top;\n",
       "    }\n",
       "\n",
       "    .dataframe thead th {\n",
       "        text-align: right;\n",
       "    }\n",
       "</style>\n",
       "<table border=\"1\" class=\"dataframe\">\n",
       "  <thead>\n",
       "    <tr style=\"text-align: right;\">\n",
       "      <th></th>\n",
       "      <th>Educational_level</th>\n",
       "      <th>Count</th>\n",
       "      <th>Total_party</th>\n",
       "      <th>%_within_party</th>\n",
       "    </tr>\n",
       "    <tr>\n",
       "      <th>Party_preference</th>\n",
       "      <th></th>\n",
       "      <th></th>\n",
       "      <th></th>\n",
       "      <th></th>\n",
       "    </tr>\n",
       "  </thead>\n",
       "  <tbody>\n",
       "    <tr>\n",
       "      <th>NA</th>\n",
       "      <td>High school or less</td>\n",
       "      <td>24</td>\n",
       "      <td>48</td>\n",
       "      <td>0.50</td>\n",
       "    </tr>\n",
       "    <tr>\n",
       "      <th>Another party</th>\n",
       "      <td>College</td>\n",
       "      <td>49</td>\n",
       "      <td>99</td>\n",
       "      <td>0.49</td>\n",
       "    </tr>\n",
       "    <tr>\n",
       "      <th>No preference</th>\n",
       "      <td>High school or less</td>\n",
       "      <td>326</td>\n",
       "      <td>670</td>\n",
       "      <td>0.49</td>\n",
       "    </tr>\n",
       "    <tr>\n",
       "      <th>Independent</th>\n",
       "      <td>College</td>\n",
       "      <td>679</td>\n",
       "      <td>1425</td>\n",
       "      <td>0.48</td>\n",
       "    </tr>\n",
       "    <tr>\n",
       "      <th>Democrat</th>\n",
       "      <td>College</td>\n",
       "      <td>900</td>\n",
       "      <td>2002</td>\n",
       "      <td>0.45</td>\n",
       "    </tr>\n",
       "    <tr>\n",
       "      <th>Republican</th>\n",
       "      <td>College</td>\n",
       "      <td>563</td>\n",
       "      <td>1592</td>\n",
       "      <td>0.35</td>\n",
       "    </tr>\n",
       "  </tbody>\n",
       "</table>\n",
       "</div>"
      ],
      "text/plain": [
       "                    Educational_level  Count  Total_party  %_within_party\n",
       "Party_preference                                                         \n",
       "NA                High school or less     24           48            0.50\n",
       "Another party                 College     49           99            0.49\n",
       "No preference     High school or less    326          670            0.49\n",
       "Independent                   College    679         1425            0.48\n",
       "Democrat                      College    900         2002            0.45\n",
       "Republican                    College    563         1592            0.35"
      ]
     },
     "execution_count": 217,
     "metadata": {},
     "output_type": "execute_result"
    }
   ],
   "source": [
    "df_party_flag_valuecounts = df[['educ','Q30']].value_counts().reset_index()\n",
    "df_party_flag_valuecounts['Q30'] =  np.where(df_party_flag_valuecounts['Q30']==1,'Republican',\n",
    "                                        np.where(df_party_flag_valuecounts['Q30']==2,'Democrat',\n",
    "                                        np.where(df_party_flag_valuecounts['Q30']==3,'Independent',\n",
    "                                        np.where(df_party_flag_valuecounts['Q30']==4,'Another party',\n",
    "                                        np.where(df_party_flag_valuecounts['Q30']==5,'No preference',\n",
    "                                        np.where(df_party_flag_valuecounts['Q30']==-1,'NA',''))))))\n",
    "                                                \n",
    "df_party_flag_valuecounts = df_party_flag_valuecounts.merge(df_party_flag_valuecounts.groupby('Q30')['count'].sum(),on='Q30')\n",
    "df_party_flag_valuecounts.rename(columns={'count_x': 'Count', 'count_y':'Total_party',\n",
    "                                         'Q30': 'Party_preference',\n",
    "                                         'educ': 'Educational_level'},inplace=True)\n",
    "df_party_flag_valuecounts['%_within_party'] = (df_party_flag_valuecounts['Count']/df_party_flag_valuecounts['Total_party']).round(2)\n",
    "df_party_flag_valuecounts.sort_values(by=['Party_preference','%_within_party'],ascending=[True,False],inplace=True)\n",
    "df_party_flag_valuecounts.groupby('Party_preference').first().sort_values(by='%_within_party',ascending=False)                                        "
   ]
  },
  {
   "cell_type": "markdown",
   "id": "b773e836-faf5-4009-8cbf-7bb09edfb84b",
   "metadata": {},
   "source": [
    "- How important is believing in God important to being a good American?"
   ]
  },
  {
   "cell_type": "code",
   "execution_count": 23,
   "id": "29f24102-05e1-4cca-b213-0b997a78c2d8",
   "metadata": {},
   "outputs": [
    {
     "data": {
      "text/plain": [
       "Q2_9\n",
       "Very important          0.47\n",
       "Not at all important    0.22\n",
       "Somewhat important      0.16\n",
       "Not so important        0.14\n",
       "NA                      0.01\n",
       "Name: proportion, dtype: float64"
      ]
     },
     "execution_count": 23,
     "metadata": {},
     "output_type": "execute_result"
    }
   ],
   "source": [
    "df['Q2_9'].value_counts(normalize=True).round(2).rename(index={\n",
    "                                                    1:'Very important',\n",
    "                                                    2:'Somewhat important',\n",
    "                                                    3:'Not so important',\n",
    "                                                    4:'Not at all important',\n",
    "                                                    -1:'NA'})"
   ]
  },
  {
   "cell_type": "markdown",
   "id": "d85dfd13-6b9a-47c3-b654-f60e1dca5e82",
   "metadata": {},
   "source": [
    "- What's the main opinion by educational level about believing in God to be a good American?"
   ]
  },
  {
   "cell_type": "code",
   "execution_count": 45,
   "id": "f7c60411-a284-4275-ba81-0e977e5a3493",
   "metadata": {},
   "outputs": [
    {
     "data": {
      "text/html": [
       "<div>\n",
       "<style scoped>\n",
       "    .dataframe tbody tr th:only-of-type {\n",
       "        vertical-align: middle;\n",
       "    }\n",
       "\n",
       "    .dataframe tbody tr th {\n",
       "        vertical-align: top;\n",
       "    }\n",
       "\n",
       "    .dataframe thead th {\n",
       "        text-align: right;\n",
       "    }\n",
       "</style>\n",
       "<table border=\"1\" class=\"dataframe\">\n",
       "  <thead>\n",
       "    <tr style=\"text-align: right;\">\n",
       "      <th></th>\n",
       "      <th>Importance_opinion</th>\n",
       "      <th>Count</th>\n",
       "      <th>Total_educ</th>\n",
       "      <th>%_within_educ</th>\n",
       "    </tr>\n",
       "    <tr>\n",
       "      <th>Educational_level</th>\n",
       "      <th></th>\n",
       "      <th></th>\n",
       "      <th></th>\n",
       "      <th></th>\n",
       "    </tr>\n",
       "  </thead>\n",
       "  <tbody>\n",
       "    <tr>\n",
       "      <th>High school or less</th>\n",
       "      <td>Very important</td>\n",
       "      <td>813</td>\n",
       "      <td>1796</td>\n",
       "      <td>0.45</td>\n",
       "    </tr>\n",
       "    <tr>\n",
       "      <th>Some college</th>\n",
       "      <td>Very important</td>\n",
       "      <td>634</td>\n",
       "      <td>1710</td>\n",
       "      <td>0.37</td>\n",
       "    </tr>\n",
       "    <tr>\n",
       "      <th>College</th>\n",
       "      <td>Not so important</td>\n",
       "      <td>693</td>\n",
       "      <td>2330</td>\n",
       "      <td>0.30</td>\n",
       "    </tr>\n",
       "  </tbody>\n",
       "</table>\n",
       "</div>"
      ],
      "text/plain": [
       "                    Importance_opinion  Count  Total_educ  %_within_educ\n",
       "Educational_level                                                       \n",
       "High school or less     Very important    813        1796           0.45\n",
       "Some college            Very important    634        1710           0.37\n",
       "College               Not so important    693        2330           0.30"
      ]
     },
     "execution_count": 45,
     "metadata": {},
     "output_type": "execute_result"
    }
   ],
   "source": [
    "df_educ_god_valuecounts = df[['educ','Q2_4']].value_counts().rename(index={1:'Very important',2:'Somewhat important',3:'Not so important',4:'Not at all important',-1:'NA'}).reset_index()\n",
    "df_educ_god_valuecounts = df_educ_god_valuecounts.merge(df_educ_god_valuecounts.groupby('educ')['count'].sum(),on='educ')\n",
    "df_educ_god_valuecounts.rename(columns={'count_x': 'Count', 'count_y':'Total_educ',\n",
    "                                        'Q2_4':'Importance_opinion',\n",
    "                                        'educ': 'Educational_level'},inplace=True)\n",
    "df_educ_god_valuecounts['%_within_educ'] = (df_educ_god_valuecounts['Count']/df_educ_god_valuecounts['Total_educ']).round(2)\n",
    "df_educ_god_valuecounts = df_educ_god_valuecounts.groupby('Educational_level').first()\n",
    "df_educ_god_valuecounts.sort_values(by='%_within_educ',ascending=False,inplace=True)\n",
    "df_educ_god_valuecounts"
   ]
  },
  {
   "cell_type": "markdown",
   "id": "2b95d9e4-4f88-49bb-b7dc-c83493b152da",
   "metadata": {},
   "source": [
    "- People who didn't have intention to vote in 2020"
   ]
  },
  {
   "cell_type": "code",
   "execution_count": 91,
   "id": "e837aff7-8199-489d-a817-0bfd65390cbd",
   "metadata": {},
   "outputs": [
    {
     "data": {
      "text/plain": [
       "Q21\n",
       "Yes                 0.85\n",
       "No                  0.08\n",
       "Unsure/Undecided    0.07\n",
       "NA                  0.00\n",
       "Name: Do you intend to vote in 2020 elections?, dtype: float64"
      ]
     },
     "execution_count": 91,
     "metadata": {},
     "output_type": "execute_result"
    }
   ],
   "source": [
    "df_intention_countvalues = df['Q21'].value_counts(normalize=True).round(2).rename(index={1: 'Yes', 2: 'No', 3: 'Unsure/Undecided', -1: 'NA'})\n",
    "df_intention_countvalues.rename('Do you intend to vote in 2020 elections?')"
   ]
  },
  {
   "cell_type": "markdown",
   "id": "f7845518-ba33-4bb7-9bf2-cecf8f7836e2",
   "metadata": {},
   "source": [
    "- What's the age mean by intention to vote?"
   ]
  },
  {
   "cell_type": "code",
   "execution_count": 19,
   "id": "8508787c-2ce7-4e65-b716-6a55b4240ea2",
   "metadata": {},
   "outputs": [
    {
     "data": {
      "text/plain": [
       "Q21\n",
       "Yes                 57.51\n",
       "NA                  53.43\n",
       "No                  52.60\n",
       "Unsure/Undecided    50.60\n",
       "Name: Intention to vote by age mean, dtype: float64"
      ]
     },
     "execution_count": 19,
     "metadata": {},
     "output_type": "execute_result"
    }
   ],
   "source": [
    "df_intention_age_countvalues = df[['ppage','Q21']].value_counts(normalize=True).reset_index()\n",
    "df_intention_age_countvalues['Q21'] = np.where(df_intention_age_countvalues['Q21'] == 1, 'Yes', \n",
    "                                               np.where(df_intention_age_countvalues['Q21'] == 2, 'No',\n",
    "                                                        np.where(df_intention_age_countvalues['Q21'] == 3, 'Unsure/Undecided',\n",
    "                                                                 np.where(df_intention_age_countvalues['Q21'] == -1, 'NA',''))))\n",
    "df_intention_age_countvalues = df_intention_age_countvalues.groupby('Q21')['ppage'].mean().round(2)\n",
    "df_intention_age_countvalues.sort_values(ascending=False,inplace=True)\n",
    "df_intention_age_countvalues.rename('Intention to vote by age mean',inplace=True)"
   ]
  },
  {
   "cell_type": "markdown",
   "id": "7b7b5ebd-4864-47e0-be69-30f681a3e9c4",
   "metadata": {},
   "source": [
    "- Only for who answered No in the last question: why didn't they intend to vote?"
   ]
  },
  {
   "cell_type": "code",
   "execution_count": 20,
   "id": "4af689c8-f56c-41de-8225-d236db6fbf7f",
   "metadata": {},
   "outputs": [
    {
     "data": {
      "text/plain": [
       "Q22\n",
       "Don't want to register                                   0.24\n",
       "Don't trust the political system to serve their needs    0.22\n",
       "Don't think their vote matters                           0.21\n",
       "Other                                                    0.18\n",
       "Don't have time to register or vote                      0.06\n",
       "Not eligible to vote                                     0.04\n",
       "Don't know how to register                               0.04\n",
       "NA                                                       0.02\n",
       "Name: proportion, dtype: float64"
      ]
     },
     "execution_count": 20,
     "metadata": {},
     "output_type": "execute_result"
    }
   ],
   "source": [
    "df_intention_countvalues = df['Q22'].value_counts(normalize=True).round(2).rename(index={\n",
    "    1: \"Don't have time to register or vote\", \n",
    "    2: \"Don't trust the political system to serve their needs\",\n",
    "    3: \"Don't know how to register\",\n",
    "    4: \"Don't want to register\",\n",
    "    5: 'Not eligible to vote',\n",
    "    6: \"Don't think their vote matters\",\n",
    "    7: 'Other',\n",
    "    -1: 'NA'})\n",
    "df_intention_countvalues"
   ]
  },
  {
   "cell_type": "markdown",
   "id": "787520f5-3e92-4330-b80f-2ce6e47280c8",
   "metadata": {},
   "source": [
    "<hr>"
   ]
  },
  {
   "cell_type": "markdown",
   "id": "ce381a76-26b2-4958-b594-38e5f43d2c3d",
   "metadata": {},
   "source": [
    "<h3>3. Democrats x Republicans</h3>"
   ]
  },
  {
   "cell_type": "markdown",
   "id": "8ad8cb76-bef1-47da-b29a-5dbe31f062b2",
   "metadata": {},
   "source": [
    "- Among who already decided their votes, how is the intention between Biden and Trump?"
   ]
  },
  {
   "cell_type": "code",
   "execution_count": 32,
   "id": "efac6fb1-4cce-460a-8945-8ff4be1af149",
   "metadata": {},
   "outputs": [
    {
     "data": {
      "text/plain": [
       "Q30\n",
       "Biden    0.56\n",
       "Trump    0.44\n",
       "Name: count, dtype: float64"
      ]
     },
     "execution_count": 32,
     "metadata": {},
     "output_type": "execute_result"
    }
   ],
   "source": [
    "df_voters = df['Q30'].value_counts()\n",
    "df_voters.rename(index={1:'Trump',2:'Biden'},inplace=True)\n",
    "df_voters = df_voters[['Biden','Trump']]\n",
    "df_voters = (df_voters / sum(df_voters)).round(2)\n",
    "df_voters"
   ]
  },
  {
   "cell_type": "markdown",
   "id": "64247d03-97d7-4fbf-a40a-68b1999db228",
   "metadata": {},
   "source": [
    "- What's the age average between who intend to vote on Trump and Biden?"
   ]
  },
  {
   "cell_type": "code",
   "execution_count": 49,
   "id": "6eba9526-8d2d-4f0b-8cde-cd714621079e",
   "metadata": {},
   "outputs": [
    {
     "data": {
      "text/plain": [
       "Q30\n",
       "Trump    54.66\n",
       "Biden    51.95\n",
       "Name: ppage, dtype: float64"
      ]
     },
     "execution_count": 49,
     "metadata": {},
     "output_type": "execute_result"
    }
   ],
   "source": [
    "df_voters_age = df[['Q30','ppage']]\n",
    "df_voters_age = df_voters_age[df_voters_age['Q30'].isin([1,2])]\n",
    "df_voters_age['Q30'] = np.where(df_voters_age['Q30'] == 1, 'Trump',\n",
    "                                np.where(df_voters_age['Q30'] == 2, 'Biden',''))\n",
    "df_voters_age.groupby('Q30')['ppage'].mean().round(2).sort_values(ascending=False)"
   ]
  },
  {
   "cell_type": "markdown",
   "id": "296fe5f1-0216-407e-9a4c-3faaa0671873",
   "metadata": {},
   "source": [
    "- How are the school level of Biden and Trump voters?"
   ]
  },
  {
   "cell_type": "code",
   "execution_count": 88,
   "id": "b916e93a-9382-4c4a-a721-899aef0dea7e",
   "metadata": {},
   "outputs": [
    {
     "data": {
      "image/png": "[encoded data removed]",
      "text/plain": [
       "<Figure size 640x480 with 1 Axes>"
      ]
     },
     "metadata": {},
     "output_type": "display_data"
    }
   ],
   "source": [
    "df_educ_voters = df[['Q30','educ']].value_counts().reset_index()\n",
    "df_educ_voters = df_educ_voters[df_educ_voters['Q30'].isin([1,2])]\n",
    "df_educ_voters['Q30'] = np.where(df_educ_voters['Q30'] == 1, 'Trump',\n",
    "                            np.where(df_educ_voters['Q30'] == 2, 'Biden',''))\n",
    "df_educ_voters = df_educ_voters.merge(df_educ_voters.groupby('Q30')['count'].sum(),on='Q30')\n",
    "df_educ_voters.rename(columns={'Q30':'Intention_to_vote', 'educ':'Educational_level',\n",
    "                       'count_x': 'Total_educ_candidate',\n",
    "                       'count_y': 'Total_candidate_intentions'},inplace=True)\n",
    "df_educ_voters['%_within_voters'] = (df_educ_voters['Total_educ_candidate']/df_educ_voters['Total_candidate_intentions']).round(2)\n",
    "df_educ_voters = df_educ_voters[['Intention_to_vote','Educational_level','Total_educ_candidate','%_within_voters']]\n",
    "\n",
    "\n",
    "p4 = sns.barplot(data=df_educ_voters, x='Educational_level', y='%_within_voters', hue='Intention_to_vote')\n",
    "sns.move_legend(\n",
    "    p4, \"lower center\",\n",
    "    bbox_to_anchor=(.5, 1), ncol=3, title=None, frameon=False,\n",
    ")\n",
    "for p in p4.containers:\n",
    "    p4.bar_label(p, label_type='edge')"
   ]
  },
  {
   "cell_type": "markdown",
   "id": "bcd4ab99-bc74-4ebb-8524-ae5a3d0675ac",
   "metadata": {},
   "source": [
    "- How many people that supports Democrat and Republican will vote in the opposite party candidate?"
   ]
  },
  {
   "cell_type": "code",
   "execution_count": 22,
   "id": "36cd21a2-7d4c-4fb3-845e-9f5d4c080aa8",
   "metadata": {},
   "outputs": [
    {
     "data": {
      "text/html": [
       "<div>\n",
       "<style scoped>\n",
       "    .dataframe tbody tr th:only-of-type {\n",
       "        vertical-align: middle;\n",
       "    }\n",
       "\n",
       "    .dataframe tbody tr th {\n",
       "        vertical-align: top;\n",
       "    }\n",
       "\n",
       "    .dataframe thead th {\n",
       "        text-align: right;\n",
       "    }\n",
       "</style>\n",
       "<table border=\"1\" class=\"dataframe\">\n",
       "  <thead>\n",
       "    <tr style=\"text-align: right;\">\n",
       "      <th></th>\n",
       "      <th>Perspective of election result</th>\n",
       "      <th>Count</th>\n",
       "      <th>Total_count_party</th>\n",
       "      <th>%_within_party</th>\n",
       "    </tr>\n",
       "    <tr>\n",
       "      <th>Party_preference</th>\n",
       "      <th></th>\n",
       "      <th></th>\n",
       "      <th></th>\n",
       "      <th></th>\n",
       "    </tr>\n",
       "  </thead>\n",
       "  <tbody>\n",
       "    <tr>\n",
       "      <th>Democrat</th>\n",
       "      <td>Who wins the election matters</td>\n",
       "      <td>1820</td>\n",
       "      <td>2002</td>\n",
       "      <td>0.91</td>\n",
       "    </tr>\n",
       "    <tr>\n",
       "      <th>Republican</th>\n",
       "      <td>Who wins the election matters</td>\n",
       "      <td>1402</td>\n",
       "      <td>1592</td>\n",
       "      <td>0.88</td>\n",
       "    </tr>\n",
       "    <tr>\n",
       "      <th>Independent</th>\n",
       "      <td>Who wins the election matters</td>\n",
       "      <td>1129</td>\n",
       "      <td>1425</td>\n",
       "      <td>0.79</td>\n",
       "    </tr>\n",
       "    <tr>\n",
       "      <th>Another party</th>\n",
       "      <td>Who wins the election matters</td>\n",
       "      <td>64</td>\n",
       "      <td>99</td>\n",
       "      <td>0.65</td>\n",
       "    </tr>\n",
       "    <tr>\n",
       "      <th>No preference</th>\n",
       "      <td>Who wins the election matters</td>\n",
       "      <td>370</td>\n",
       "      <td>670</td>\n",
       "      <td>0.55</td>\n",
       "    </tr>\n",
       "    <tr>\n",
       "      <th>NA</th>\n",
       "      <td>Who wins the election matters</td>\n",
       "      <td>25</td>\n",
       "      <td>48</td>\n",
       "      <td>0.52</td>\n",
       "    </tr>\n",
       "  </tbody>\n",
       "</table>\n",
       "</div>"
      ],
      "text/plain": [
       "                 Perspective of election result  Count  Total_count_party  \\\n",
       "Party_preference                                                            \n",
       "Democrat          Who wins the election matters   1820               2002   \n",
       "Republican        Who wins the election matters   1402               1592   \n",
       "Independent       Who wins the election matters   1129               1425   \n",
       "Another party     Who wins the election matters     64                 99   \n",
       "No preference     Who wins the election matters    370                670   \n",
       "NA                Who wins the election matters     25                 48   \n",
       "\n",
       "                  %_within_party  \n",
       "Party_preference                  \n",
       "Democrat                    0.91  \n",
       "Republican                  0.88  \n",
       "Independent                 0.79  \n",
       "Another party               0.65  \n",
       "No preference               0.55  \n",
       "NA                          0.52  "
      ]
     },
     "execution_count": 22,
     "metadata": {},
     "output_type": "execute_result"
    }
   ],
   "source": [
    "df_perspective = df[['Q30','Q5']].value_counts().round(2).reset_index()\n",
    "df_perspective['Q5'] = np.where (df_perspective['Q5'] == 1, 'Who wins the election matters',\n",
    "                        np.where(df_perspective['Q5'] == 2, 'Things will be pretty much the same',\n",
    "                        np.where(df_perspective['Q5'] == -1, 'NA','')))\n",
    "df_perspective['Q30'] =  np.where(df_perspective['Q30']==1,'Republican',\n",
    "                            np.where(df_perspective['Q30']==2,'Democrat',\n",
    "                            np.where(df_perspective['Q30']==3,'Independent',\n",
    "                            np.where(df_perspective['Q30']==4,'Another party',\n",
    "                            np.where(df_perspective['Q30']==5,'No preference',\n",
    "                            np.where(df_perspective['Q30']==-1,'NA',''))))))\n",
    "\n",
    "df_perspective = df_perspective.merge(df_perspective.groupby('Q30')['count'].sum(),on='Q30')\n",
    "df_perspective.rename(columns={'count_x': 'Count', 'count_y':'Total_count_party',\n",
    "                              'Q30': 'Party_preference',\n",
    "                              'Q5': 'Perspective of election result'},\n",
    "                      inplace=True)\n",
    "df_perspective['%_within_party'] = (df_perspective['Count']/df_perspective['Total_count_party']).round(2)\n",
    "df_perspective.sort_values(by=['Party_preference','%_within_party'],ascending=[True,False],inplace=True)\n",
    "df_perspective.groupby('Party_preference').first().sort_values('%_within_party',ascending=False)"
   ]
  },
  {
   "cell_type": "markdown",
   "id": "73b7ea3a-5ff8-443b-9e8c-03fc13ecd852",
   "metadata": {},
   "source": [
    "- Does it matter who will win the election based on the country issues? How is the opinion by party preference?"
   ]
  },
  {
   "cell_type": "code",
   "execution_count": 21,
   "id": "69911300-2084-42d5-85a1-d8bedfb25dd9",
   "metadata": {},
   "outputs": [
    {
     "data": {
      "text/html": [
       "<div>\n",
       "<style scoped>\n",
       "    .dataframe tbody tr th:only-of-type {\n",
       "        vertical-align: middle;\n",
       "    }\n",
       "\n",
       "    .dataframe tbody tr th {\n",
       "        vertical-align: top;\n",
       "    }\n",
       "\n",
       "    .dataframe thead th {\n",
       "        text-align: right;\n",
       "    }\n",
       "</style>\n",
       "<table border=\"1\" class=\"dataframe\">\n",
       "  <thead>\n",
       "    <tr style=\"text-align: right;\">\n",
       "      <th></th>\n",
       "      <th>Party_preference</th>\n",
       "      <th>Intention_to_vote</th>\n",
       "      <th>Count</th>\n",
       "      <th>Total_party</th>\n",
       "      <th>%_within_party</th>\n",
       "    </tr>\n",
       "  </thead>\n",
       "  <tbody>\n",
       "    <tr>\n",
       "      <th>10</th>\n",
       "      <td>Republican</td>\n",
       "      <td>Biden</td>\n",
       "      <td>95</td>\n",
       "      <td>2777</td>\n",
       "      <td>0.03</td>\n",
       "    </tr>\n",
       "    <tr>\n",
       "      <th>11</th>\n",
       "      <td>Democrat</td>\n",
       "      <td>Trump</td>\n",
       "      <td>45</td>\n",
       "      <td>1907</td>\n",
       "      <td>0.02</td>\n",
       "    </tr>\n",
       "  </tbody>\n",
       "</table>\n",
       "</div>"
      ],
      "text/plain": [
       "   Party_preference Intention_to_vote  Count  Total_party  %_within_party\n",
       "10       Republican             Biden     95         2777            0.03\n",
       "11         Democrat             Trump     45         1907            0.02"
      ]
     },
     "execution_count": 21,
     "metadata": {},
     "output_type": "execute_result"
    }
   ],
   "source": [
    "df_voting_preference = df[['Q30','Q23']].value_counts().reset_index()\n",
    "df_voting_preference['Q23'] =  np.where(df_voting_preference['Q23']==1,'Trump',\n",
    "                                        np.where(df_voting_preference['Q23']==2,'Biden',\n",
    "                                        np.where(df_voting_preference['Q23']==3,'Incert',\n",
    "                                        np.where(df_voting_preference['Q23']==-1,'NA',''))))\n",
    "\n",
    "df_voting_preference['Q30'] =  np.where(df_voting_preference['Q30']==1,'Republican',\n",
    "                                        np.where(df_voting_preference['Q30']==2,'Democrat',\n",
    "                                        np.where(df_voting_preference['Q30']==3,'Independent',\n",
    "                                        np.where(df_voting_preference['Q30']==4,'Another party',\n",
    "                                        np.where(df_voting_preference['Q30']==5,'No preference',\n",
    "                                        np.where(df_voting_preference['Q30']==-1,'NA',''))))))\n",
    "\n",
    "df_voting_preference = df_voting_preference.merge(df_voting_preference.groupby('Q23')['count'].sum(),on='Q23')\n",
    "df_voting_preference.rename(columns={'count_x': 'Count', 'count_y':'Total_party',\n",
    "                                    'Q23': 'Intention_to_vote', 'Q30': 'Party_preference'},inplace=True)\n",
    "df_voting_preference['%_within_party'] = (df_voting_preference['Count']/df_voting_preference['Total_party']).round(2)\n",
    "df_voting_preference[((df_voting_preference['Party_preference'] == 'Democrat') & (df_voting_preference['Intention_to_vote'] == 'Trump'))\n",
    "                    | ((df_voting_preference['Party_preference'] == 'Republican') & (df_voting_preference['Intention_to_vote'] == 'Biden'))]"
   ]
  },
  {
   "cell_type": "markdown",
   "id": "d5f6a684-1910-4a65-a6a1-2b3594a8eb28",
   "metadata": {},
   "source": [
    "<hr>"
   ]
  },
  {
   "cell_type": "markdown",
   "id": "6aba9083-3cc0-4c14-9ddf-698535da6607",
   "metadata": {},
   "source": [
    "<h3>Conclusions</h3>"
   ]
  },
  {
   "cell_type": "markdown",
   "id": "01ca62fa-9b58-4628-b192-22c044c024ae",
   "metadata": {},
   "source": [
    "- The sample has 5,836 interviewed individuals, with an average age of 51. The sample was almost evenly split between genders, with 63% identifying as White, 40% holding a college degree, and nearly evenly divided into four income groups, with the wealthiest earning above $125k and the poorest earning under $40k.<br>\n",
    "- 44% of the sample vote sporadically, 31% always, and 25% rarely or never. More educated groups tended to vote more<br>\n",
    "- The \"Other/mixed race\" race has the wealthiest income group (above 125k) as the most representative. Black category is the only one where the most representative group earns less than $40k.<br>\n",
    "- Among the most representative income categories within each educational level, the college graduates are the wealthiest, while the less educated group is the poorest across all educational levels.<br>\n",
    "- Voters who vote rarely or never are the only group where the lowest educational level is the most representative.<br>\n",
    "- Among all party preference groups, Republicans have the lowest percentage of college graduates, at 35%, followed by Democrats at 45%.<br>\n",
    "- People who intended to vote for Trump has age average of 54, and 52 for Biden\n",
    "- More Republicans intended to vote for Biden than Democrats did for Trump.<br>\n",
    "- 91% of Democratic voters believe that the election result is important, compared to 88% of Republicans.<br>\n",
    "- For 34% of those interviewed, displaying the American flag is a very important sign of being a good American. White individuals, the least educated group, and Republicans are the most likely to agree with this.<br>\n",
    "- For 47% of those interviewed, believing in God is a very important sign of being a good American. The least educated groups are more likely to agree with this.<br>\n",
    "- The age mean of people who intended to vote was higher than the other intentions\n",
    "- Among people who did not intend to vote in 2020 (8%), 22% did not plan to vote because they did not believe that the political system would serve their needs, and 21% did not think their vote mattered.<br>"
   ]
  },
  {
   "cell_type": "markdown",
   "id": "5af6d561-8141-48f7-97d2-c56d1163cfc2",
   "metadata": {},
   "source": [
    "<hr>"
   ]
  }
 ],
 "metadata": {
  "kernelspec": {
   "display_name": "Python 3 (ipykernel)",
   "language": "python",
   "name": "python3"
  },
  "language_info": {
   "codemirror_mode": {
    "name": "ipython",
    "version": 3
   },
   "file_extension": ".py",
   "mimetype": "text/x-python",
   "name": "python",
   "nbconvert_exporter": "python",
   "pygments_lexer": "ipython3",
   "version": "3.12.5"
  }
 },
 "nbformat": 4,
 "nbformat_minor": 5
}
