{
 "cells": [
  {
   "cell_type": "markdown",
   "id": "096f2256-d4f0-4564-b193-e88caf0b909b",
   "metadata": {},
   "source": [
    "<h2>Dados de voos com origem ou destino no Brasil de janeiro a março/24</h2>"
   ]
  },
  {
   "cell_type": "markdown",
   "id": "9bdbc1cd-243b-4168-9e03-8d171e3472a8",
   "metadata": {},
   "source": [
    "Dados da ANAC"
   ]
  },
  {
   "cell_type": "code",
   "execution_count": 28,
   "id": "386932fe-9daa-4f0e-a2d0-56f416d630b2",
   "metadata": {},
   "outputs": [],
   "source": [
    "import os\n",
    "import pandas as pd\n",
    "import numpy as np\n",
    "import datetime\n",
    "\n",
    "pasta = r\"C:\\Users\\bserpellone\\Desktop\\Python\\Dataset\\anac\"\n",
    "\n",
    "registros_abr = \"VRA_2024_03.csv\"\n",
    "dAeroportos = \"glossario_de_aerodromo.xls\"\n",
    "dViacoes = \"glossario_de_empresas_aereas.xls\"\n",
    "\n",
    "df_concat = pd.DataFrame(columns=['Sigla ICAO Empresa Aérea', 'Número Voo', 'Código DI',\n",
    "       'Código Tipo Linha', 'Sigla ICAO Aeroporto Origem',\n",
    "       'Partida Prevista', 'Partida Real', 'Sigla ICAO Aeroporto Destino',\n",
    "       'Chegada Prevista', 'Chegada Real', 'Situação Voo'])\n",
    "for registros in os.listdir(pasta):\n",
    "    if registros.lower().startswith('vra'):\n",
    "        df = pd.read_csv(os.path.join(pasta,registros),delimiter=';')\n",
    "        df_concat = pd.concat(objs=[df_concat,df])\n",
    "\n",
    "df_aeros = pd.read_excel(os.path.join(pasta,dAeroportos),header=3)\n",
    "df_aeros.dropna(axis=1,how='all',inplace=True)\n",
    "\n",
    "df_viacoes = pd.read_excel(os.path.join(pasta,dViacoes),header=3)\n",
    "df_viacoes.dropna(axis=1,how='all',inplace=True)\n",
    "\n",
    "df_merged = df_concat.merge(df_viacoes,how='left',left_on='Sigla ICAO Empresa Aérea',right_on='Sigla OACI')\n",
    "df_merged = df_merged.merge(df_aeros,left_on='Sigla ICAO Aeroporto Origem',right_on='Sigla OACI',how='left',suffixes=('_ori','_dest'))\n",
    "df_merged = df_merged.merge(df_aeros,left_on='Sigla ICAO Aeroporto Destino',right_on='Sigla OACI',how='left',suffixes=('_Origem','_Destino'))"
   ]
  },
  {
   "cell_type": "markdown",
   "id": "abc39a88-2c24-4a9e-944f-c781966abbf5",
   "metadata": {},
   "source": [
    "<h4>Quantas linhas/registros de voos tem na base?</h4>"
   ]
  },
  {
   "cell_type": "code",
   "execution_count": 29,
   "id": "5fe5b6e4-3501-4060-9447-dec3ca531835",
   "metadata": {},
   "outputs": [
    {
     "data": {
      "text/plain": [
       "326725"
      ]
     },
     "execution_count": 29,
     "metadata": {},
     "output_type": "execute_result"
    }
   ],
   "source": [
    "df_selecao = df_merged[['Chegada Real','Situação Voo','Nome Empresas','Nacional ou Estrangeira','Partida Prevista','Partida Real','Cidade_Origem','UF_Origem', 'País_Origem','Continente_Origem','Cidade_Destino', 'UF_Destino', 'País_Destino','Continente_Destino']]\n",
    "df_selecao.shape[0]"
   ]
  },
  {
   "cell_type": "markdown",
   "id": "cff0f5ea-9b84-441b-92f2-1d8dc24970d7",
   "metadata": {},
   "source": [
    "Primeiras linhas da tabela:"
   ]
  },
  {
   "cell_type": "code",
   "execution_count": 30,
   "id": "47557db7-7828-45c7-bf7b-260766531975",
   "metadata": {},
   "outputs": [
    {
     "data": {
      "text/html": [
       "<div>\n",
       "<style scoped>\n",
       "    .dataframe tbody tr th:only-of-type {\n",
       "        vertical-align: middle;\n",
       "    }\n",
       "\n",
       "    .dataframe tbody tr th {\n",
       "        vertical-align: top;\n",
       "    }\n",
       "\n",
       "    .dataframe thead th {\n",
       "        text-align: right;\n",
       "    }\n",
       "</style>\n",
       "<table border=\"1\" class=\"dataframe\">\n",
       "  <thead>\n",
       "    <tr style=\"text-align: right;\">\n",
       "      <th></th>\n",
       "      <th>Chegada Real</th>\n",
       "      <th>Situação Voo</th>\n",
       "      <th>Nome Empresas</th>\n",
       "      <th>Nacional ou Estrangeira</th>\n",
       "      <th>Partida Prevista</th>\n",
       "      <th>Partida Real</th>\n",
       "      <th>Cidade_Origem</th>\n",
       "      <th>UF_Origem</th>\n",
       "      <th>País_Origem</th>\n",
       "      <th>Continente_Origem</th>\n",
       "      <th>Cidade_Destino</th>\n",
       "      <th>UF_Destino</th>\n",
       "      <th>País_Destino</th>\n",
       "      <th>Continente_Destino</th>\n",
       "    </tr>\n",
       "  </thead>\n",
       "  <tbody>\n",
       "    <tr>\n",
       "      <th>0</th>\n",
       "      <td>02/01/2024 08:19</td>\n",
       "      <td>REALIZADO</td>\n",
       "      <td>AMERICAN AIRLINES INC</td>\n",
       "      <td>ESTRANGEIRA</td>\n",
       "      <td>01/01/2024 23:55</td>\n",
       "      <td>01/01/2024 23:47</td>\n",
       "      <td>RIO DE JANEIRO</td>\n",
       "      <td>RJ</td>\n",
       "      <td>BRASIL</td>\n",
       "      <td>AMERICA DO SUL</td>\n",
       "      <td>MIAMI</td>\n",
       "      <td>NaN</td>\n",
       "      <td>ESTADOS UNIDOS DA AMERICA</td>\n",
       "      <td>AMERICA DO NORTE</td>\n",
       "    </tr>\n",
       "    <tr>\n",
       "      <th>1</th>\n",
       "      <td>01/01/2024 09:35</td>\n",
       "      <td>REALIZADO</td>\n",
       "      <td>AMERICAN AIRLINES INC</td>\n",
       "      <td>ESTRANGEIRA</td>\n",
       "      <td>01/01/2024 23:55</td>\n",
       "      <td>01/01/2024 01:29</td>\n",
       "      <td>MIAMI</td>\n",
       "      <td>NaN</td>\n",
       "      <td>ESTADOS UNIDOS DA AMERICA</td>\n",
       "      <td>AMERICA DO NORTE</td>\n",
       "      <td>RIO DE JANEIRO</td>\n",
       "      <td>RJ</td>\n",
       "      <td>BRASIL</td>\n",
       "      <td>AMERICA DO SUL</td>\n",
       "    </tr>\n",
       "    <tr>\n",
       "      <th>2</th>\n",
       "      <td>01/01/2024 08:45</td>\n",
       "      <td>REALIZADO</td>\n",
       "      <td>AMERICAN AIRLINES INC</td>\n",
       "      <td>ESTRANGEIRA</td>\n",
       "      <td>01/01/2024 00:55</td>\n",
       "      <td>01/01/2024 00:46</td>\n",
       "      <td>GUARULHOS</td>\n",
       "      <td>SP</td>\n",
       "      <td>BRASIL</td>\n",
       "      <td>AMERICA DO SUL</td>\n",
       "      <td>MIAMI</td>\n",
       "      <td>NaN</td>\n",
       "      <td>ESTADOS UNIDOS DA AMERICA</td>\n",
       "      <td>AMERICA DO NORTE</td>\n",
       "    </tr>\n",
       "    <tr>\n",
       "      <th>3</th>\n",
       "      <td>02/01/2024 07:47</td>\n",
       "      <td>REALIZADO</td>\n",
       "      <td>AMERICAN AIRLINES INC</td>\n",
       "      <td>ESTRANGEIRA</td>\n",
       "      <td>01/01/2024 21:20</td>\n",
       "      <td>01/01/2024 23:17</td>\n",
       "      <td>MIAMI</td>\n",
       "      <td>NaN</td>\n",
       "      <td>ESTADOS UNIDOS DA AMERICA</td>\n",
       "      <td>AMERICA DO NORTE</td>\n",
       "      <td>GUARULHOS</td>\n",
       "      <td>SP</td>\n",
       "      <td>BRASIL</td>\n",
       "      <td>AMERICA DO SUL</td>\n",
       "    </tr>\n",
       "    <tr>\n",
       "      <th>4</th>\n",
       "      <td>02/01/2024 06:13</td>\n",
       "      <td>REALIZADO</td>\n",
       "      <td>AMERICAN AIRLINES INC</td>\n",
       "      <td>ESTRANGEIRA</td>\n",
       "      <td>01/01/2024 20:50</td>\n",
       "      <td>01/01/2024 21:51</td>\n",
       "      <td>MIAMI</td>\n",
       "      <td>NaN</td>\n",
       "      <td>ESTADOS UNIDOS DA AMERICA</td>\n",
       "      <td>AMERICA DO NORTE</td>\n",
       "      <td>GUARULHOS</td>\n",
       "      <td>SP</td>\n",
       "      <td>BRASIL</td>\n",
       "      <td>AMERICA DO SUL</td>\n",
       "    </tr>\n",
       "  </tbody>\n",
       "</table>\n",
       "</div>"
      ],
      "text/plain": [
       "       Chegada Real Situação Voo          Nome Empresas  \\\n",
       "0  02/01/2024 08:19    REALIZADO  AMERICAN AIRLINES INC   \n",
       "1  01/01/2024 09:35    REALIZADO  AMERICAN AIRLINES INC   \n",
       "2  01/01/2024 08:45    REALIZADO  AMERICAN AIRLINES INC   \n",
       "3  02/01/2024 07:47    REALIZADO  AMERICAN AIRLINES INC   \n",
       "4  02/01/2024 06:13    REALIZADO  AMERICAN AIRLINES INC   \n",
       "\n",
       "  Nacional ou Estrangeira  Partida Prevista      Partida Real   Cidade_Origem  \\\n",
       "0             ESTRANGEIRA  01/01/2024 23:55  01/01/2024 23:47  RIO DE JANEIRO   \n",
       "1             ESTRANGEIRA  01/01/2024 23:55  01/01/2024 01:29           MIAMI   \n",
       "2             ESTRANGEIRA  01/01/2024 00:55  01/01/2024 00:46       GUARULHOS   \n",
       "3             ESTRANGEIRA  01/01/2024 21:20  01/01/2024 23:17           MIAMI   \n",
       "4             ESTRANGEIRA  01/01/2024 20:50  01/01/2024 21:51           MIAMI   \n",
       "\n",
       "  UF_Origem                País_Origem Continente_Origem  Cidade_Destino  \\\n",
       "0        RJ                     BRASIL    AMERICA DO SUL           MIAMI   \n",
       "1       NaN  ESTADOS UNIDOS DA AMERICA  AMERICA DO NORTE  RIO DE JANEIRO   \n",
       "2        SP                     BRASIL    AMERICA DO SUL           MIAMI   \n",
       "3       NaN  ESTADOS UNIDOS DA AMERICA  AMERICA DO NORTE       GUARULHOS   \n",
       "4       NaN  ESTADOS UNIDOS DA AMERICA  AMERICA DO NORTE       GUARULHOS   \n",
       "\n",
       "  UF_Destino               País_Destino Continente_Destino  \n",
       "0        NaN  ESTADOS UNIDOS DA AMERICA   AMERICA DO NORTE  \n",
       "1         RJ                     BRASIL     AMERICA DO SUL  \n",
       "2        NaN  ESTADOS UNIDOS DA AMERICA   AMERICA DO NORTE  \n",
       "3         SP                     BRASIL     AMERICA DO SUL  \n",
       "4         SP                     BRASIL     AMERICA DO SUL  "
      ]
     },
     "execution_count": 30,
     "metadata": {},
     "output_type": "execute_result"
    }
   ],
   "source": [
    "df_selecao.head(5)"
   ]
  },
  {
   "cell_type": "markdown",
   "id": "be303c6f-1b91-4fec-9a25-19fa42eb9b1a",
   "metadata": {},
   "source": [
    "<h4>Qual a proporção de voos domésticos e estrangeiros realizados?</h4>"
   ]
  },
  {
   "cell_type": "code",
   "execution_count": 66,
   "id": "ccec4b34-3d81-4943-bd80-06ce086f85e7",
   "metadata": {},
   "outputs": [
    {
     "data": {
      "text/plain": [
       "Nacional ou Estrangeira\n",
       "BRASILEIRA       0.9\n",
       "ESTRANGEIRA      0.1\n",
       "NÃO INFORMADO    0.0\n",
       "Name: proportion, dtype: float64"
      ]
     },
     "execution_count": 66,
     "metadata": {},
     "output_type": "execute_result"
    }
   ],
   "source": [
    "df_selecao['Nacional ou Estrangeira'][df_selecao['Situação Voo']=='REALIZADO'].value_counts(normalize=True).round(2)"
   ]
  },
  {
   "cell_type": "code",
   "execution_count": 67,
   "id": "f4ac8243-e2e8-4248-8b5b-35c04d80466a",
   "metadata": {},
   "outputs": [
    {
     "data": {
      "text/plain": [
       "Cidade_Origem\n",
       "GUARULHOS         0.13\n",
       "SÃO PAULO         0.12\n",
       "RIO DE JANEIRO    0.08\n",
       "CAMPINAS          0.07\n",
       "BRASÍLIA          0.06\n",
       "Name: proportion, dtype: float64"
      ]
     },
     "execution_count": 67,
     "metadata": {},
     "output_type": "execute_result"
    }
   ],
   "source": [
    "df_selecao['Cidade_Origem'][(df_selecao['Nacional ou Estrangeira']=='BRASILEIRA') & (df_selecao['Situação Voo']=='REALIZADO')].value_counts(normalize=True).round(2).head(5)"
   ]
  },
  {
   "cell_type": "markdown",
   "id": "f02e7ac9-4355-4436-b6dd-28f902b4558f",
   "metadata": {},
   "source": [
    "<h4>Quais as principais cidades origem dos voos?</h4>"
   ]
  },
  {
   "cell_type": "code",
   "execution_count": 69,
   "id": "0d6ab85a-77a5-4d7f-a443-f89939e5b07c",
   "metadata": {},
   "outputs": [
    {
     "data": {
      "text/plain": [
       "Cidade_Origem\n",
       "GUARULHOS         0.14\n",
       "SÃO PAULO         0.10\n",
       "RIO DE JANEIRO    0.08\n",
       "CAMPINAS          0.06\n",
       "BRASÍLIA          0.06\n",
       "Name: proportion, dtype: float64"
      ]
     },
     "execution_count": 69,
     "metadata": {},
     "output_type": "execute_result"
    }
   ],
   "source": [
    "df_selecao['Cidade_Origem'][df_selecao['Situação Voo']=='REALIZADO'].value_counts(normalize=True).round(2).head(5)"
   ]
  },
  {
   "cell_type": "markdown",
   "id": "1e406d17-5f2e-4120-acf9-978747037556",
   "metadata": {},
   "source": [
    "<h4>Quais as principais cidades destino dos voos?</h4>"
   ]
  },
  {
   "cell_type": "code",
   "execution_count": 70,
   "id": "8bc7663b-8625-4e98-9a23-8b33652edac0",
   "metadata": {},
   "outputs": [
    {
     "data": {
      "text/plain": [
       "Cidade_Destino\n",
       "GUARULHOS         0.14\n",
       "SÃO PAULO         0.10\n",
       "RIO DE JANEIRO    0.08\n",
       "CAMPINAS          0.06\n",
       "BRASÍLIA          0.06\n",
       "Name: proportion, dtype: float64"
      ]
     },
     "execution_count": 70,
     "metadata": {},
     "output_type": "execute_result"
    }
   ],
   "source": [
    "df_selecao['Cidade_Destino'].value_counts(normalize=True).round(2).head(5)"
   ]
  },
  {
   "cell_type": "markdown",
   "id": "fe6eed46-0353-47cb-abb9-39606084a78d",
   "metadata": {},
   "source": [
    "<h4>Quais foram as 5 horas mais frequentes de voos pousando no Brasil (seja doméstico ou vindo do exterior)?</h4>"
   ]
  },
  {
   "cell_type": "code",
   "execution_count": 71,
   "id": "5ab8a84e-505b-475b-9ca1-e4a585776c66",
   "metadata": {},
   "outputs": [
    {
     "data": {
      "text/plain": [
       "Chegada Real\n",
       "16    0.062\n",
       "11    0.061\n",
       "19    0.058\n",
       "10    0.056\n",
       "07    0.055\n",
       "Name: proportion, dtype: float64"
      ]
     },
     "execution_count": 71,
     "metadata": {},
     "output_type": "execute_result"
    }
   ],
   "source": [
    "df_selecao['Chegada Real'].str[11:13][(df_selecao['UF_Destino'].notna()) & (df_selecao['Situação Voo']=='REALIZADO')].value_counts(normalize=True).round(3).head(5)"
   ]
  },
  {
   "cell_type": "markdown",
   "id": "3d2f73d0-7cf0-4488-85df-68410c2aa9e1",
   "metadata": {},
   "source": [
    "Quais foram as 5 horas mais frequentes de voos decolando no Brasil (seja doméstico ou indo para o exterior)?"
   ]
  },
  {
   "cell_type": "code",
   "execution_count": 72,
   "id": "9bd2c9b1-c6e0-47da-8317-4914cae8799e",
   "metadata": {},
   "outputs": [
    {
     "data": {
      "text/plain": [
       "Chegada Real\n",
       "11    0.064\n",
       "16    0.058\n",
       "10    0.058\n",
       "13    0.056\n",
       "07    0.056\n",
       "Name: proportion, dtype: float64"
      ]
     },
     "execution_count": 72,
     "metadata": {},
     "output_type": "execute_result"
    }
   ],
   "source": [
    "df_selecao['Chegada Real'].str[11:13][(df_selecao['UF_Origem'].notna()) & (df_selecao['Situação Voo']=='REALIZADO')].value_counts(normalize=True).round(3).head(5)"
   ]
  },
  {
   "cell_type": "markdown",
   "id": "802f93cd-5c95-453c-aab2-f38b7b197feb",
   "metadata": {},
   "source": [
    "<h4>Qual é a proporção de destinos por continente em voos internacionais que saíram do Brasil?</h4>"
   ]
  },
  {
   "cell_type": "code",
   "execution_count": 65,
   "id": "3165a290-5c07-4899-8366-f766202596d1",
   "metadata": {},
   "outputs": [
    {
     "data": {
      "text/plain": [
       "Continente_Destino\n",
       "AMERICA DO SUL      0.71\n",
       "EUROPA              0.13\n",
       "AMERICA DO NORTE    0.09\n",
       "AMERICA CENTRAL     0.05\n",
       "ASIA                0.02\n",
       "AFRICA              0.01\n",
       "Name: proportion, dtype: float64"
      ]
     },
     "execution_count": 65,
     "metadata": {},
     "output_type": "execute_result"
    }
   ],
   "source": [
    "df_selecao['Continente_Destino'][(df_selecao['Nacional ou Estrangeira']=='ESTRANGEIRA') & (df_selecao['Situação Voo']=='REALIZADO')].value_counts(normalize=True).round(2)"
   ]
  },
  {
   "cell_type": "markdown",
   "id": "f59f821a-1ece-495e-bf74-201ee2250d0b",
   "metadata": {},
   "source": [
    "<h4> Quais os principais destinos internacionais (países)?</h4>"
   ]
  },
  {
   "cell_type": "code",
   "execution_count": 73,
   "id": "4aee4a5b-bcf5-46f6-a8a7-b9f36e0048fb",
   "metadata": {},
   "outputs": [
    {
     "data": {
      "text/plain": [
       "País_Destino\n",
       "ARGENTINA                    0.20\n",
       "ESTADOS UNIDOS DA AMERICA    0.16\n",
       "CHILE                        0.13\n",
       "PORTUGAL                     0.07\n",
       "PANAMA                       0.05\n",
       "Name: proportion, dtype: float64"
      ]
     },
     "execution_count": 73,
     "metadata": {},
     "output_type": "execute_result"
    }
   ],
   "source": [
    "df_selecao['País_Destino'][(df_selecao['País_Destino']!='BRASIL') & (df_selecao['Situação Voo']=='REALIZADO')].value_counts(normalize=True).round(2).head(5)"
   ]
  },
  {
   "cell_type": "markdown",
   "id": "bbd6d28b-68e8-4fab-8029-1fb915e0c4dc",
   "metadata": {},
   "source": [
    "<h4>Quais os principais destinos internacionais (cidades)?</h4>"
   ]
  },
  {
   "cell_type": "code",
   "execution_count": 88,
   "id": "e14c2c61-bdfc-4216-a8fc-e3ad5e10c8da",
   "metadata": {},
   "outputs": [
    {
     "data": {
      "text/plain": [
       "Cidade_Destino\n",
       "BUENOS AIRES         0.19\n",
       "SANTIAGO DO CHILE    0.13\n",
       "LISBOA               0.07\n",
       "MIAMI                0.06\n",
       "PANAMA               0.05\n",
       "BOGOTA               0.05\n",
       "MONTEVIDEU           0.04\n",
       "Name: proportion, dtype: float64"
      ]
     },
     "execution_count": 88,
     "metadata": {},
     "output_type": "execute_result"
    }
   ],
   "source": [
    "df_selecao.loc[:,'Cidade_Destino'] = df_selecao['Cidade_Destino'].replace(\"BUENOS AIRES/AEROPARQUE\",\"BUENOS AIRES\")\n",
    "df_selecao['Cidade_Destino'][(df_selecao['País_Destino']!='BRASIL') & (df_selecao['Situação Voo']=='REALIZADO')].value_counts(normalize=True).round(2).head(7)"
   ]
  },
  {
   "cell_type": "markdown",
   "id": "c4194719-4404-4c2f-851c-d0fafec660cb",
   "metadata": {},
   "source": [
    "<h4>Como é a proporção de viagens por aviação?</h4>"
   ]
  },
  {
   "cell_type": "code",
   "execution_count": 75,
   "id": "4b811dd1-e5d0-494f-a42c-be89a3ed15e6",
   "metadata": {},
   "outputs": [
    {
     "data": {
      "text/plain": [
       "Nome Empresas\n",
       "AZUL                0.33\n",
       "TAM                 0.29\n",
       "GOL                 0.24\n",
       "PASSAREDO           0.02\n",
       "TAP AIR PORTUGAL    0.01\n",
       "Name: proportion, dtype: float64"
      ]
     },
     "execution_count": 75,
     "metadata": {},
     "output_type": "execute_result"
    }
   ],
   "source": [
    "df_selecao['Nome Empresas'][df_selecao['Situação Voo']=='REALIZADO'].value_counts(normalize=True).round(2).head(5)"
   ]
  },
  {
   "cell_type": "markdown",
   "id": "1f7dde12-e22b-4e36-aa3a-c098c538be89",
   "metadata": {},
   "source": [
    "<h4>Como é a proporção de viagens por aviação estrangeira?</h4>"
   ]
  },
  {
   "cell_type": "code",
   "execution_count": 76,
   "id": "0b5d3db0-13ca-4a55-8e2e-58c7653c2cf4",
   "metadata": {},
   "outputs": [
    {
     "data": {
      "text/plain": [
       "Nome Empresas\n",
       "TAP AIR PORTUGAL                       0.11\n",
       "LAN CHILE                              0.10\n",
       "AEROLINEAS ARGENTINAS                  0.09\n",
       "COPA -COMPANIA PANAMENA DE AVIACION    0.09\n",
       "AMERICAN AIRLINES INC                  0.05\n",
       "Name: proportion, dtype: float64"
      ]
     },
     "execution_count": 76,
     "metadata": {},
     "output_type": "execute_result"
    }
   ],
   "source": [
    "df_selecao['Nome Empresas'][(df_selecao['Nacional ou Estrangeira']==\"ESTRANGEIRA\") & (df_selecao['Situação Voo']=='REALIZADO')].value_counts(normalize=True).round(2).head(5)"
   ]
  },
  {
   "cell_type": "markdown",
   "id": "2ba74278-99eb-4b85-9a9f-b5e61fc8cf01",
   "metadata": {},
   "source": [
    "<h4> Houve outras aviações fora Azul, Tam, Gol e Passaredo em voos nacionais?</h4>"
   ]
  },
  {
   "cell_type": "code",
   "execution_count": 77,
   "id": "b904bdf3-555a-4760-8021-4123dace80bd",
   "metadata": {},
   "outputs": [
    {
     "data": {
      "text/plain": [
       "Nome Empresas\n",
       "AZUL                 0.37\n",
       "TAM                  0.33\n",
       "GOL                  0.27\n",
       "PASSAREDO            0.02\n",
       "MAP LINHAS AEREAS    0.01\n",
       "ABSA                 0.00\n",
       "TOTAL                0.00\n",
       "ABAETE               0.00\n",
       "Name: proportion, dtype: float64"
      ]
     },
     "execution_count": 77,
     "metadata": {},
     "output_type": "execute_result"
    }
   ],
   "source": [
    "df_selecao['Nome Empresas'][(df_selecao['Nacional ou Estrangeira']==\"BRASILEIRA\") & (df_selecao['Situação Voo']=='REALIZADO')].value_counts(normalize=True).round(2)"
   ]
  },
  {
   "cell_type": "markdown",
   "id": "f804c4b3-328e-493a-8405-7ba3d388f04c",
   "metadata": {},
   "source": [
    "<h4>Como foi o status dos voos em relação a voos nacionais e internacionais?</h4>"
   ]
  },
  {
   "cell_type": "code",
   "execution_count": 43,
   "id": "c0415935-6e4f-494d-bdcb-05b3739ffa60",
   "metadata": {},
   "outputs": [
    {
     "data": {
      "text/plain": [
       "Nacional ou Estrangeira  Situação Voo \n",
       "BRASILEIRA               REALIZADO        0.97\n",
       "                         CANCELADO        0.03\n",
       "ESTRANGEIRA              REALIZADO        0.84\n",
       "                         CANCELADO        0.16\n",
       "                         NÃO INFORMADO    0.00\n",
       "NÃO INFORMADO            REALIZADO        0.76\n",
       "                         CANCELADO        0.24\n",
       "Name: proportion, dtype: float64"
      ]
     },
     "execution_count": 43,
     "metadata": {},
     "output_type": "execute_result"
    }
   ],
   "source": [
    "df_selecao.groupby('Nacional ou Estrangeira')['Situação Voo'].value_counts(normalize=True).round(2)"
   ]
  },
  {
   "cell_type": "code",
   "execution_count": 45,
   "id": "74660da5-bef8-4628-8feb-070a2541b66b",
   "metadata": {},
   "outputs": [
    {
     "data": {
      "text/plain": [
       "Situação Voo\n",
       "REALIZADO        28992\n",
       "CANCELADO         5595\n",
       "NÃO INFORMADO        2\n",
       "Name: count, dtype: int64"
      ]
     },
     "execution_count": 45,
     "metadata": {},
     "output_type": "execute_result"
    }
   ],
   "source": [
    "df_selecao['Situação Voo'][df_selecao['Nacional ou Estrangeira']=='ESTRANGEIRA'].value_counts()"
   ]
  },
  {
   "cell_type": "markdown",
   "id": "634b5c53-dbf1-4711-b03e-e37052ad4ad8",
   "metadata": {},
   "source": [
    "<h4>A proporção de voos estrangeiros cancelados é cerca de 5x comparado aos voos domésticos. Como fica a proporção comparando voos que partem do Brasil para o exterior com os que partem do exterior para o Brasil?</h4>"
   ]
  },
  {
   "cell_type": "code",
   "execution_count": 48,
   "id": "26b2978d-da92-4c79-a8ee-a79020281b6d",
   "metadata": {},
   "outputs": [
    {
     "data": {
      "text/plain": [
       "Situação Voo\n",
       "REALIZADO        0.91\n",
       "CANCELADO        0.09\n",
       "NÃO INFORMADO    0.00\n",
       "Name: proportion, dtype: float64"
      ]
     },
     "execution_count": 48,
     "metadata": {},
     "output_type": "execute_result"
    }
   ],
   "source": [
    "df_selecao['Situação Voo'][(df_selecao['Nacional ou Estrangeira']=='ESTRANGEIRA') & (df_selecao['UF_Origem'].notna())].value_counts(normalize=True).round(2)"
   ]
  },
  {
   "cell_type": "code",
   "execution_count": 49,
   "id": "e0791e00-7cb3-4110-9e3d-cf6d8cff4172",
   "metadata": {},
   "outputs": [
    {
     "data": {
      "text/plain": [
       "Situação Voo\n",
       "REALIZADO        0.78\n",
       "CANCELADO        0.22\n",
       "NÃO INFORMADO    0.00\n",
       "Name: proportion, dtype: float64"
      ]
     },
     "execution_count": 49,
     "metadata": {},
     "output_type": "execute_result"
    }
   ],
   "source": [
    "df_selecao['Situação Voo'][(df_selecao['Nacional ou Estrangeira']=='ESTRANGEIRA') & (df_selecao['UF_Origem'].isna())].value_counts(normalize=True).round(2)"
   ]
  },
  {
   "cell_type": "markdown",
   "id": "b0d3aec3-ca96-40fa-8acc-e9dbb10eaf52",
   "metadata": {},
   "source": [
    "<h4>A maior % de voos cancelados partem do exterior com destino ao Brasil. Quais as principais origens desses voos?</h4>"
   ]
  },
  {
   "cell_type": "code",
   "execution_count": 63,
   "id": "594578e8-324e-4b0e-a618-03f12b2a1786",
   "metadata": {},
   "outputs": [
    {
     "data": {
      "text/plain": [
       "País_Origem\n",
       "ARGENTINA                    0.23\n",
       "ESTADOS UNIDOS DA AMERICA    0.12\n",
       "ESPANHA                      0.09\n",
       "QATAR                        0.08\n",
       "PANAMA                       0.07\n",
       "Name: proportion, dtype: float64"
      ]
     },
     "execution_count": 63,
     "metadata": {},
     "output_type": "execute_result"
    }
   ],
   "source": [
    "df_selecao['País_Origem'][(df_selecao['Nacional ou Estrangeira']=='ESTRANGEIRA') & (df_selecao['UF_Origem'].isna()) & (df_selecao['Situação Voo']=='CANCELADO')].value_counts(normalize=True).round(2).head(5)"
   ]
  },
  {
   "cell_type": "markdown",
   "id": "e12f36e2-4c85-4749-a0c7-6ec67be6be9a",
   "metadata": {},
   "source": [
    "<h4>Qual a proporção de voos atrasados?</h4>"
   ]
  },
  {
   "cell_type": "markdown",
   "id": "c4afb350-4a1f-4b85-9fdf-dcbe91879f5b",
   "metadata": {},
   "source": [
    "Valores da coluna situação voo:"
   ]
  },
  {
   "cell_type": "code",
   "execution_count": 54,
   "id": "724c25fa-51c3-4fb4-bf93-62901aa904a6",
   "metadata": {},
   "outputs": [
    {
     "data": {
      "text/plain": [
       "0             REALIZADO\n",
       "30            CANCELADO\n",
       "195333    NÃO INFORMADO\n",
       "Name: Situação Voo, dtype: object"
      ]
     },
     "execution_count": 54,
     "metadata": {},
     "output_type": "execute_result"
    }
   ],
   "source": [
    "df_selecao['Situação Voo'].drop_duplicates()"
   ]
  },
  {
   "cell_type": "code",
   "execution_count": 55,
   "id": "725c42ed-542b-4553-84f4-5a0bb794a904",
   "metadata": {},
   "outputs": [
    {
     "data": {
      "text/html": [
       "<div>\n",
       "<style scoped>\n",
       "    .dataframe tbody tr th:only-of-type {\n",
       "        vertical-align: middle;\n",
       "    }\n",
       "\n",
       "    .dataframe tbody tr th {\n",
       "        vertical-align: top;\n",
       "    }\n",
       "\n",
       "    .dataframe thead th {\n",
       "        text-align: right;\n",
       "    }\n",
       "</style>\n",
       "<table border=\"1\" class=\"dataframe\">\n",
       "  <thead>\n",
       "    <tr style=\"text-align: right;\">\n",
       "      <th></th>\n",
       "      <th>Chegada Real</th>\n",
       "      <th>Situação Voo</th>\n",
       "      <th>Nome Empresas</th>\n",
       "      <th>Nacional ou Estrangeira</th>\n",
       "      <th>Partida Prevista</th>\n",
       "      <th>Partida Real</th>\n",
       "      <th>Cidade_Origem</th>\n",
       "      <th>UF_Origem</th>\n",
       "      <th>País_Origem</th>\n",
       "      <th>Continente_Origem</th>\n",
       "      <th>Cidade_Destino</th>\n",
       "      <th>UF_Destino</th>\n",
       "      <th>País_Destino</th>\n",
       "      <th>Continente_Destino</th>\n",
       "    </tr>\n",
       "  </thead>\n",
       "  <tbody>\n",
       "    <tr>\n",
       "      <th>0</th>\n",
       "      <td>02/01/2024 08:19</td>\n",
       "      <td>REALIZADO</td>\n",
       "      <td>AMERICAN AIRLINES INC</td>\n",
       "      <td>ESTRANGEIRA</td>\n",
       "      <td>01/01/2024 23:55</td>\n",
       "      <td>01/01/2024 23:47</td>\n",
       "      <td>RIO DE JANEIRO</td>\n",
       "      <td>RJ</td>\n",
       "      <td>BRASIL</td>\n",
       "      <td>AMERICA DO SUL</td>\n",
       "      <td>MIAMI</td>\n",
       "      <td>NaN</td>\n",
       "      <td>ESTADOS UNIDOS DA AMERICA</td>\n",
       "      <td>AMERICA DO NORTE</td>\n",
       "    </tr>\n",
       "    <tr>\n",
       "      <th>1</th>\n",
       "      <td>01/01/2024 09:35</td>\n",
       "      <td>REALIZADO</td>\n",
       "      <td>AMERICAN AIRLINES INC</td>\n",
       "      <td>ESTRANGEIRA</td>\n",
       "      <td>01/01/2024 23:55</td>\n",
       "      <td>01/01/2024 01:29</td>\n",
       "      <td>MIAMI</td>\n",
       "      <td>NaN</td>\n",
       "      <td>ESTADOS UNIDOS DA AMERICA</td>\n",
       "      <td>AMERICA DO NORTE</td>\n",
       "      <td>RIO DE JANEIRO</td>\n",
       "      <td>RJ</td>\n",
       "      <td>BRASIL</td>\n",
       "      <td>AMERICA DO SUL</td>\n",
       "    </tr>\n",
       "    <tr>\n",
       "      <th>2</th>\n",
       "      <td>01/01/2024 08:45</td>\n",
       "      <td>REALIZADO</td>\n",
       "      <td>AMERICAN AIRLINES INC</td>\n",
       "      <td>ESTRANGEIRA</td>\n",
       "      <td>01/01/2024 00:55</td>\n",
       "      <td>01/01/2024 00:46</td>\n",
       "      <td>GUARULHOS</td>\n",
       "      <td>SP</td>\n",
       "      <td>BRASIL</td>\n",
       "      <td>AMERICA DO SUL</td>\n",
       "      <td>MIAMI</td>\n",
       "      <td>NaN</td>\n",
       "      <td>ESTADOS UNIDOS DA AMERICA</td>\n",
       "      <td>AMERICA DO NORTE</td>\n",
       "    </tr>\n",
       "  </tbody>\n",
       "</table>\n",
       "</div>"
      ],
      "text/plain": [
       "       Chegada Real Situação Voo          Nome Empresas  \\\n",
       "0  02/01/2024 08:19    REALIZADO  AMERICAN AIRLINES INC   \n",
       "1  01/01/2024 09:35    REALIZADO  AMERICAN AIRLINES INC   \n",
       "2  01/01/2024 08:45    REALIZADO  AMERICAN AIRLINES INC   \n",
       "\n",
       "  Nacional ou Estrangeira  Partida Prevista      Partida Real   Cidade_Origem  \\\n",
       "0             ESTRANGEIRA  01/01/2024 23:55  01/01/2024 23:47  RIO DE JANEIRO   \n",
       "1             ESTRANGEIRA  01/01/2024 23:55  01/01/2024 01:29           MIAMI   \n",
       "2             ESTRANGEIRA  01/01/2024 00:55  01/01/2024 00:46       GUARULHOS   \n",
       "\n",
       "  UF_Origem                País_Origem Continente_Origem  Cidade_Destino  \\\n",
       "0        RJ                     BRASIL    AMERICA DO SUL           MIAMI   \n",
       "1       NaN  ESTADOS UNIDOS DA AMERICA  AMERICA DO NORTE  RIO DE JANEIRO   \n",
       "2        SP                     BRASIL    AMERICA DO SUL           MIAMI   \n",
       "\n",
       "  UF_Destino               País_Destino Continente_Destino  \n",
       "0        NaN  ESTADOS UNIDOS DA AMERICA   AMERICA DO NORTE  \n",
       "1         RJ                     BRASIL     AMERICA DO SUL  \n",
       "2        NaN  ESTADOS UNIDOS DA AMERICA   AMERICA DO NORTE  "
      ]
     },
     "execution_count": 55,
     "metadata": {},
     "output_type": "execute_result"
    }
   ],
   "source": [
    "df_selecao.head(3)"
   ]
  },
  {
   "cell_type": "markdown",
   "id": "d8ee0772-f65f-43e7-9a9f-52d848fdc6c6",
   "metadata": {},
   "source": [
    "<h4>Como não tem coluna indicado se o voo atrasou, vamos calcular operando as colunas partida real x partida prevista:</h4>"
   ]
  },
  {
   "cell_type": "code",
   "execution_count": 56,
   "id": "fcba479b-3953-4251-bf7e-11576df4c589",
   "metadata": {},
   "outputs": [],
   "source": [
    "df_status = df_selecao.copy()"
   ]
  },
  {
   "cell_type": "markdown",
   "id": "234e0c20-1273-4ecd-a334-340075c73754",
   "metadata": {},
   "source": [
    "<h4>Nessa análise quero manter apenas os voos realizados</h4>"
   ]
  },
  {
   "cell_type": "code",
   "execution_count": 57,
   "id": "5c64abe1-3025-4b7b-878c-e41a94513878",
   "metadata": {},
   "outputs": [],
   "source": [
    "df_status = df_status[df_status['Situação Voo'] == 'REALIZADO']"
   ]
  },
  {
   "cell_type": "markdown",
   "id": "8878c274-4fbb-48e1-a39e-58710f0e3347",
   "metadata": {},
   "source": [
    "<h4>Excluindo linhas sem informação de partida real ou partida prevista:</h4>"
   ]
  },
  {
   "cell_type": "code",
   "execution_count": 58,
   "id": "cb9ae723-98f9-4854-b1cd-20c91e881068",
   "metadata": {},
   "outputs": [
    {
     "data": {
      "text/html": [
       "<div>\n",
       "<style scoped>\n",
       "    .dataframe tbody tr th:only-of-type {\n",
       "        vertical-align: middle;\n",
       "    }\n",
       "\n",
       "    .dataframe tbody tr th {\n",
       "        vertical-align: top;\n",
       "    }\n",
       "\n",
       "    .dataframe thead th {\n",
       "        text-align: right;\n",
       "    }\n",
       "</style>\n",
       "<table border=\"1\" class=\"dataframe\">\n",
       "  <thead>\n",
       "    <tr style=\"text-align: right;\">\n",
       "      <th></th>\n",
       "      <th>Partida Real</th>\n",
       "      <th>Partida Prevista</th>\n",
       "    </tr>\n",
       "  </thead>\n",
       "  <tbody>\n",
       "    <tr>\n",
       "      <th>0</th>\n",
       "      <td>01/01/2024 23:47</td>\n",
       "      <td>01/01/2024 23:55</td>\n",
       "    </tr>\n",
       "    <tr>\n",
       "      <th>1</th>\n",
       "      <td>01/01/2024 01:29</td>\n",
       "      <td>01/01/2024 23:55</td>\n",
       "    </tr>\n",
       "    <tr>\n",
       "      <th>2</th>\n",
       "      <td>01/01/2024 00:46</td>\n",
       "      <td>01/01/2024 00:55</td>\n",
       "    </tr>\n",
       "    <tr>\n",
       "      <th>3</th>\n",
       "      <td>01/01/2024 23:17</td>\n",
       "      <td>01/01/2024 21:20</td>\n",
       "    </tr>\n",
       "    <tr>\n",
       "      <th>4</th>\n",
       "      <td>01/01/2024 21:51</td>\n",
       "      <td>01/01/2024 20:50</td>\n",
       "    </tr>\n",
       "    <tr>\n",
       "      <th>...</th>\n",
       "      <td>...</td>\n",
       "      <td>...</td>\n",
       "    </tr>\n",
       "    <tr>\n",
       "      <th>326716</th>\n",
       "      <td>11/04/2024 16:25</td>\n",
       "      <td>11/04/2024 16:40</td>\n",
       "    </tr>\n",
       "    <tr>\n",
       "      <th>326719</th>\n",
       "      <td>18/04/2024 15:20</td>\n",
       "      <td>18/04/2024 13:30</td>\n",
       "    </tr>\n",
       "    <tr>\n",
       "      <th>326720</th>\n",
       "      <td>18/04/2024 18:37</td>\n",
       "      <td>18/04/2024 16:40</td>\n",
       "    </tr>\n",
       "    <tr>\n",
       "      <th>326721</th>\n",
       "      <td>25/04/2024 13:23</td>\n",
       "      <td>25/04/2024 13:30</td>\n",
       "    </tr>\n",
       "    <tr>\n",
       "      <th>326722</th>\n",
       "      <td>25/04/2024 16:40</td>\n",
       "      <td>25/04/2024 16:40</td>\n",
       "    </tr>\n",
       "  </tbody>\n",
       "</table>\n",
       "<p>297021 rows × 2 columns</p>\n",
       "</div>"
      ],
      "text/plain": [
       "            Partida Real  Partida Prevista\n",
       "0       01/01/2024 23:47  01/01/2024 23:55\n",
       "1       01/01/2024 01:29  01/01/2024 23:55\n",
       "2       01/01/2024 00:46  01/01/2024 00:55\n",
       "3       01/01/2024 23:17  01/01/2024 21:20\n",
       "4       01/01/2024 21:51  01/01/2024 20:50\n",
       "...                  ...               ...\n",
       "326716  11/04/2024 16:25  11/04/2024 16:40\n",
       "326719  18/04/2024 15:20  18/04/2024 13:30\n",
       "326720  18/04/2024 18:37  18/04/2024 16:40\n",
       "326721  25/04/2024 13:23  25/04/2024 13:30\n",
       "326722  25/04/2024 16:40  25/04/2024 16:40\n",
       "\n",
       "[297021 rows x 2 columns]"
      ]
     },
     "execution_count": 58,
     "metadata": {},
     "output_type": "execute_result"
    }
   ],
   "source": [
    "df_status[['Partida Real','Partida Prevista']].dropna(how='any')"
   ]
  },
  {
   "cell_type": "code",
   "execution_count": 59,
   "id": "7fc1565d-4c89-4df1-ac9e-77b155c9a387",
   "metadata": {},
   "outputs": [
    {
     "data": {
      "text/html": [
       "<div>\n",
       "<style scoped>\n",
       "    .dataframe tbody tr th:only-of-type {\n",
       "        vertical-align: middle;\n",
       "    }\n",
       "\n",
       "    .dataframe tbody tr th {\n",
       "        vertical-align: top;\n",
       "    }\n",
       "\n",
       "    .dataframe thead th {\n",
       "        text-align: right;\n",
       "    }\n",
       "</style>\n",
       "<table border=\"1\" class=\"dataframe\">\n",
       "  <thead>\n",
       "    <tr style=\"text-align: right;\">\n",
       "      <th></th>\n",
       "      <th>Partida Real</th>\n",
       "      <th>Partida Prevista</th>\n",
       "    </tr>\n",
       "  </thead>\n",
       "  <tbody>\n",
       "    <tr>\n",
       "      <th>0</th>\n",
       "      <td>01/01/2024 23:47</td>\n",
       "      <td>01/01/2024 23:55</td>\n",
       "    </tr>\n",
       "    <tr>\n",
       "      <th>1</th>\n",
       "      <td>01/01/2024 01:29</td>\n",
       "      <td>01/01/2024 23:55</td>\n",
       "    </tr>\n",
       "    <tr>\n",
       "      <th>2</th>\n",
       "      <td>01/01/2024 00:46</td>\n",
       "      <td>01/01/2024 00:55</td>\n",
       "    </tr>\n",
       "    <tr>\n",
       "      <th>3</th>\n",
       "      <td>01/01/2024 23:17</td>\n",
       "      <td>01/01/2024 21:20</td>\n",
       "    </tr>\n",
       "    <tr>\n",
       "      <th>4</th>\n",
       "      <td>01/01/2024 21:51</td>\n",
       "      <td>01/01/2024 20:50</td>\n",
       "    </tr>\n",
       "  </tbody>\n",
       "</table>\n",
       "</div>"
      ],
      "text/plain": [
       "       Partida Real  Partida Prevista\n",
       "0  01/01/2024 23:47  01/01/2024 23:55\n",
       "1  01/01/2024 01:29  01/01/2024 23:55\n",
       "2  01/01/2024 00:46  01/01/2024 00:55\n",
       "3  01/01/2024 23:17  01/01/2024 21:20\n",
       "4  01/01/2024 21:51  01/01/2024 20:50"
      ]
     },
     "execution_count": 59,
     "metadata": {},
     "output_type": "execute_result"
    }
   ],
   "source": [
    "df_status[['Partida Real','Partida Prevista']].head(5)"
   ]
  },
  {
   "cell_type": "markdown",
   "id": "55555d7a-2074-4380-91dd-8168b6ade191",
   "metadata": {},
   "source": [
    "<h4>Abaixo calculamos a diferença, em segundos, entre as 2 colunas</h4>"
   ]
  },
  {
   "cell_type": "code",
   "execution_count": 60,
   "id": "861c89a4-adf6-46bb-83cc-3f7f234d28de",
   "metadata": {},
   "outputs": [
    {
     "data": {
      "text/html": [
       "<div>\n",
       "<style scoped>\n",
       "    .dataframe tbody tr th:only-of-type {\n",
       "        vertical-align: middle;\n",
       "    }\n",
       "\n",
       "    .dataframe tbody tr th {\n",
       "        vertical-align: top;\n",
       "    }\n",
       "\n",
       "    .dataframe thead th {\n",
       "        text-align: right;\n",
       "    }\n",
       "</style>\n",
       "<table border=\"1\" class=\"dataframe\">\n",
       "  <thead>\n",
       "    <tr style=\"text-align: right;\">\n",
       "      <th></th>\n",
       "      <th>Partida Real</th>\n",
       "      <th>Partida Prevista</th>\n",
       "      <th>Diferença_segundos</th>\n",
       "    </tr>\n",
       "  </thead>\n",
       "  <tbody>\n",
       "    <tr>\n",
       "      <th>0</th>\n",
       "      <td>01/01/2024 23:47</td>\n",
       "      <td>01/01/2024 23:55</td>\n",
       "      <td>-480.0</td>\n",
       "    </tr>\n",
       "    <tr>\n",
       "      <th>1</th>\n",
       "      <td>01/01/2024 01:29</td>\n",
       "      <td>01/01/2024 23:55</td>\n",
       "      <td>-80760.0</td>\n",
       "    </tr>\n",
       "    <tr>\n",
       "      <th>2</th>\n",
       "      <td>01/01/2024 00:46</td>\n",
       "      <td>01/01/2024 00:55</td>\n",
       "      <td>-540.0</td>\n",
       "    </tr>\n",
       "    <tr>\n",
       "      <th>3</th>\n",
       "      <td>01/01/2024 23:17</td>\n",
       "      <td>01/01/2024 21:20</td>\n",
       "      <td>7020.0</td>\n",
       "    </tr>\n",
       "    <tr>\n",
       "      <th>4</th>\n",
       "      <td>01/01/2024 21:51</td>\n",
       "      <td>01/01/2024 20:50</td>\n",
       "      <td>3660.0</td>\n",
       "    </tr>\n",
       "  </tbody>\n",
       "</table>\n",
       "</div>"
      ],
      "text/plain": [
       "       Partida Real  Partida Prevista  Diferença_segundos\n",
       "0  01/01/2024 23:47  01/01/2024 23:55              -480.0\n",
       "1  01/01/2024 01:29  01/01/2024 23:55            -80760.0\n",
       "2  01/01/2024 00:46  01/01/2024 00:55              -540.0\n",
       "3  01/01/2024 23:17  01/01/2024 21:20              7020.0\n",
       "4  01/01/2024 21:51  01/01/2024 20:50              3660.0"
      ]
     },
     "execution_count": 60,
     "metadata": {},
     "output_type": "execute_result"
    }
   ],
   "source": [
    "df_status.loc[:,'Diferença_segundos'] = (pd.to_datetime(df_status['Partida Real'], errors='coerce') - pd.to_datetime(df_status['Partida Prevista'], errors='coerce')).dt.total_seconds()\n",
    "df_status[['Partida Real','Partida Prevista','Diferença_segundos']].head(5)"
   ]
  },
  {
   "cell_type": "markdown",
   "id": "b8883327-c71e-4d37-8784-eeacf8964793",
   "metadata": {},
   "source": [
    "<h4>Observamos que Diferença_segundos < 0 indicam voos adiantados e Diferença_segundos > 0, atrasados. Assim, vamos categorizá-los:</h4>"
   ]
  },
  {
   "cell_type": "code",
   "execution_count": 61,
   "id": "7a6a82d8-8729-4a10-93ae-f3dc5b60f09f",
   "metadata": {},
   "outputs": [],
   "source": [
    "# Pontual = diferença da hora prevista para realizada de 5 minutos ou menos, seja adiantada ou atrasada\n",
    "df_status.loc[df_status['Diferença_segundos'].abs() <= 300, 'Status_voo'] = 'Pontual'\n",
    "\n",
    "# Atraso de 5 a 20 min:\n",
    "df_status.loc[(df_status['Diferença_segundos'].abs() > 300) & (df_status['Diferença_segundos'].abs() <= 1200), 'Status_voo'] = 'De 5 a 20min atrasado/adiantado'\n",
    "\n",
    "# Atraso de mais de 20min\n",
    "df_status.loc[df_status['Diferença_segundos'].abs() > 1200, 'Status_voo'] = '20min+ atrasado/adiantado'"
   ]
  },
  {
   "cell_type": "code",
   "execution_count": 62,
   "id": "502c466d-442c-4b5c-bf34-898decaa5f7e",
   "metadata": {},
   "outputs": [
    {
     "data": {
      "text/plain": [
       "Status_voo\n",
       "De 5 a 20min atrasado/adiantado    0.44\n",
       "Pontual                            0.40\n",
       "20min+ atrasado/adiantado          0.16\n",
       "Name: proportion, dtype: float64"
      ]
     },
     "execution_count": 62,
     "metadata": {},
     "output_type": "execute_result"
    }
   ],
   "source": [
    "df_status['Status_voo'].value_counts(normalize=True).round(2)"
   ]
  }
 ],
 "metadata": {
  "kernelspec": {
   "display_name": "Python 3 (ipykernel)",
   "language": "python",
   "name": "python3"
  },
  "language_info": {
   "codemirror_mode": {
    "name": "ipython",
    "version": 3
   },
   "file_extension": ".py",
   "mimetype": "text/x-python",
   "name": "python",
   "nbconvert_exporter": "python",
   "pygments_lexer": "ipython3",
   "version": "3.12.3"
  }
 },
 "nbformat": 4,
 "nbformat_minor": 5
}
