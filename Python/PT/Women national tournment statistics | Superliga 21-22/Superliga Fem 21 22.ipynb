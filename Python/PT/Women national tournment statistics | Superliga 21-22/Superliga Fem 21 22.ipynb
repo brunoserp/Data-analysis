{
 "cells": [
  {
   "cell_type": "markdown",
   "id": "463cd9a0",
   "metadata": {},
   "source": [
    "Superliga Feminina 21/22"
   ]
  },
  {
   "cell_type": "markdown",
   "id": "8ee6d4cd",
   "metadata": {},
   "source": [
    "Dados retirados desse site: https://www.kaggle.com/datasets/smnlgn/superliga-202122\n",
    "\n",
    "Busquei responder às perguntas:\n",
    "\n",
    "    Quais jogadoras mais ganharam o Viva Vôlei?\n",
    "    Considerando apenas a fase final, quais jogadoras mais ganharam o Viva Vôlei?\n",
    "    Como foi a distribuição do Viva Vôlei nos playoffs?\n",
    "    Quais as principais bloqueadoras em números absolutos?\n",
    "    Quais as 10 jogadoras mais eficientes no bloqueio?\n",
    "    Quais as 10 jogadoras com pior aproveitamento no passe?"
   ]
  },
  {
   "cell_type": "markdown",
   "id": "53ac119d",
   "metadata": {},
   "source": [
    "Importação e visualização dos dados"
   ]
  },
  {
   "cell_type": "code",
   "execution_count": 3,
   "id": "258d4477",
   "metadata": {},
   "outputs": [],
   "source": [
    "import pandas as pd\n",
    "import numpy as np"
   ]
  },
  {
   "cell_type": "code",
   "execution_count": 4,
   "id": "335fa8c0",
   "metadata": {},
   "outputs": [],
   "source": [
    "arquivo = r'C:\\Users\\bserpellone\\Desktop\\Python\\Dataset\\superliga_202122.csv'"
   ]
  },
  {
   "cell_type": "code",
   "execution_count": 152,
   "id": "e0bd32c0",
   "metadata": {},
   "outputs": [],
   "source": [
    "df = pd.read_csv(arquivo)"
   ]
  },
  {
   "cell_type": "code",
   "execution_count": 6,
   "id": "4653e8ea",
   "metadata": {},
   "outputs": [
    {
     "name": "stdout",
     "output_type": "stream",
     "text": [
      "Index(['SET 1', 'SET 2', 'SET 3', 'SET 4', 'SET 5', 'Jogadora', 'Time',\n",
      "       'Partida', 'Vencedor', 'Serviço Err', 'Serviço Ace', 'Recepção Tot',\n",
      "       'Recepção Err', 'Ataque Exc.', 'Ataque Err', 'Ataque Blk',\n",
      "       'Bloqueio Pts', 'Fase', 'Cat', 'Jogo', 'VV'],\n",
      "      dtype='object')\n"
     ]
    }
   ],
   "source": [
    "print(df.columns)"
   ]
  },
  {
   "cell_type": "markdown",
   "id": "b5d9476d",
   "metadata": {},
   "source": [
    "Legenda: \n",
    "    Recepção Tot = total de recepções realizadas\n",
    "    Ataque Exc. = Ataques bem sucedidos"
   ]
  },
  {
   "cell_type": "code",
   "execution_count": 153,
   "id": "58599c52",
   "metadata": {},
   "outputs": [
    {
     "name": "stdout",
     "output_type": "stream",
     "text": [
      "  SET 1 SET 2 SET 3 SET 4 SET 5             Jogadora            Time  \\\n",
      "0     6     1     6     1     6         ANA CRISTINA  BRASÍLIA VÔLEI   \n",
      "1     4     5     4     5   NaN     NATALIA MONTEIRO  BRASÍLIA VÔLEI   \n",
      "2     1     2     1     2     1  ALESSANDRA JANUARIA  BRASÍLIA VÔLEI   \n",
      "\n",
      "                            Partida        Vencedor  Serviço Err  ...  \\\n",
      "0  BRASÍLIA VÔLEI x UNILIFE-MARINGA  BRASÍLIA VÔLEI          NaN  ...   \n",
      "1  BRASÍLIA VÔLEI x UNILIFE-MARINGA  BRASÍLIA VÔLEI          NaN  ...   \n",
      "2  BRASÍLIA VÔLEI x UNILIFE-MARINGA  BRASÍLIA VÔLEI          2.0  ...   \n",
      "\n",
      "   Recepção Tot  Recepção Err  Ataque Exc.  Ataque Err  Ataque Blk  \\\n",
      "0           NaN           NaN          1.0         NaN         NaN   \n",
      "1          23.0           NaN          7.0         5.0         2.0   \n",
      "2          23.0           1.0         16.0         2.0         2.0   \n",
      "\n",
      "   Bloqueio Pts             Fase    Cat Jogo  VV  \n",
      "0           1.0  classificatoria  turno    1   0  \n",
      "1           2.0  classificatoria  turno    1   0  \n",
      "2           2.0  classificatoria  turno    1   0  \n",
      "\n",
      "[3 rows x 21 columns]\n"
     ]
    }
   ],
   "source": [
    "print(df.head(3))"
   ]
  },
  {
   "cell_type": "code",
   "execution_count": 155,
   "id": "26cb0c6b",
   "metadata": {},
   "outputs": [],
   "source": [
    "df.replace(np.nan, 0, inplace=True)"
   ]
  },
  {
   "cell_type": "markdown",
   "id": "6cf025b9",
   "metadata": {},
   "source": [
    "## 1) Quais jogadoras mais ganharam o Viva Vôlei?\n",
    "    Viva Vôlei é um prêmio de votação popular para a melhor jogadora do jogo"
   ]
  },
  {
   "cell_type": "code",
   "execution_count": 9,
   "id": "208567fa",
   "metadata": {},
   "outputs": [
    {
     "name": "stdout",
     "output_type": "stream",
     "text": [
      "Jogadora\n",
      "ANA CAROLINA SILVA    6\n",
      "ANNE ELISE BUIJS      5\n",
      "THAISA DAHER          4\n",
      "NIA REED              4\n",
      "JINEIRY MARTINEZ      4\n",
      "THAISINHA SOUZA       4\n",
      "MACRIS  CARNEIRO      4\n",
      "Name: count, dtype: int64\n"
     ]
    }
   ],
   "source": [
    "print(df['Jogadora'][df['VV']==1].value_counts().head(7))"
   ]
  },
  {
   "cell_type": "markdown",
   "id": "c1ff7fa7",
   "metadata": {},
   "source": [
    "## 2) Considerando apenas a fase final, quais jogadoras mais ganharam o Viva Vôlei?"
   ]
  },
  {
   "cell_type": "code",
   "execution_count": 10,
   "id": "e79fdf12",
   "metadata": {},
   "outputs": [
    {
     "name": "stdout",
     "output_type": "stream",
     "text": [
      "Jogadora\n",
      "MACRIS  CARNEIRO      3\n",
      "KISY CESARIO          2\n",
      "ANA CAROLINA SILVA    1\n",
      "Name: count, dtype: int64\n"
     ]
    }
   ],
   "source": [
    "print(df['Jogadora'][(df['VV']==1) & (df['Fase']=='playoffs')].value_counts().head(3))"
   ]
  },
  {
   "cell_type": "markdown",
   "id": "79f2da41",
   "metadata": {},
   "source": [
    "## 3) Como foi a distribuição do Viva Vôlei nos playoffs?"
   ]
  },
  {
   "cell_type": "code",
   "execution_count": 11,
   "id": "aa18e754",
   "metadata": {},
   "outputs": [
    {
     "name": "stdout",
     "output_type": "stream",
     "text": [
      "          Cat                                        Partida  \\\n",
      "2831  quartas   ESPORTE CLUBE PINHEIROS x DENTIL PRAIA CLUBE   \n",
      "2834  quartas  OSASCO SÃO CRISTOVÃO SAÚDE x SESC RJ FLAMENGO   \n",
      "2858  quartas         ITAMBÉ MINAS x BARUERI VOLLEYBALL CLUB   \n",
      "2884  quartas                  SESI VOLEI BAURU x FLUMINENSE   \n",
      "2901  quartas   DENTIL PRAIA CLUBE x ESPORTE CLUBE PINHEIROS   \n",
      "2930  quartas  SESC RJ FLAMENGO x OSASCO SÃO CRISTOVÃO SAÚDE   \n",
      "2956  quartas         BARUERI VOLLEYBALL CLUB x ITAMBÉ MINAS   \n",
      "2979  quartas                  FLUMINENSE x SESI VOLEI BAURU   \n",
      "3006  quartas  OSASCO SÃO CRISTOVÃO SAÚDE x SESC RJ FLAMENGO   \n",
      "3020     semi          DENTIL PRAIA CLUBE x SESC RJ FLAMENGO   \n",
      "3030     semi                ITAMBÉ MINAS x SESI VOLEI BAURU   \n",
      "3067     semi          SESC RJ FLAMENGO x DENTIL PRAIA CLUBE   \n",
      "3092     semi                SESI VOLEI BAURU x ITAMBÉ MINAS   \n",
      "3097     semi          DENTIL PRAIA CLUBE x SESC RJ FLAMENGO   \n",
      "3137    final              DENTIL PRAIA CLUBE x ITAMBÉ MINAS   \n",
      "3144    final              ITAMBÉ MINAS x DENTIL PRAIA CLUBE   \n",
      "\n",
      "                Jogadora                        Time  \n",
      "2831  ANA CAROLINA SILVA          DENTIL PRAIA CLUBE  \n",
      "2834    FABIANA CLAUDINO  OSASCO SÃO CRISTOVÃO SAÚDE  \n",
      "2858    MACRIS  CARNEIRO                ITAMBÉ MINAS  \n",
      "2884            NIA REED            SESI VOLEI BAURU  \n",
      "2901       CLAUDIA BUENO          DENTIL PRAIA CLUBE  \n",
      "2930       YONKAIRA PENA            SESC RJ FLAMENGO  \n",
      "2956    MACRIS  CARNEIRO                ITAMBÉ MINAS  \n",
      "2979   ADENIZIA FERREIRA            SESI VOLEI BAURU  \n",
      "3006   GIOVANA GASPARINI            SESC RJ FLAMENGO  \n",
      "3020  NATALIA ARAUJO (L)            SESC RJ FLAMENGO  \n",
      "3030    MACRIS  CARNEIRO                ITAMBÉ MINAS  \n",
      "3067    ANNE ELISE BUIJS          DENTIL PRAIA CLUBE  \n",
      "3092        KISY CESARIO                ITAMBÉ MINAS  \n",
      "3097   BRAYELIN MARTINEZ          DENTIL PRAIA CLUBE  \n",
      "3137       NERIMAN OZSOY                ITAMBÉ MINAS  \n",
      "3144        KISY CESARIO                ITAMBÉ MINAS  \n"
     ]
    }
   ],
   "source": [
    "print(df[['Cat','Partida','Jogadora','Time']][(df['VV']==1) & (df['Fase']=='playoffs')])"
   ]
  },
  {
   "cell_type": "markdown",
   "id": "874112dd",
   "metadata": {},
   "source": [
    "Criando a tabela dinâmica para totalizar os valores por jogadora"
   ]
  },
  {
   "cell_type": "code",
   "execution_count": 12,
   "id": "56be157e",
   "metadata": {},
   "outputs": [],
   "source": [
    "tabdin = pd.pivot_table(df,index=['Jogadora','Time'],values=['Recepção Tot','Recepção Err','Ataque Exc.','Ataque Err','Ataque Blk','Serviço Ace','Serviço Err','Bloqueio Pts'],aggfunc='sum')\n",
    "tabdin[['Recepção Tot','Recepção Err','Ataque Exc.','Ataque Err','Ataque Blk','Serviço Ace','Serviço Err','Bloqueio Pts']] = tabdin[['Recepção Tot','Recepção Err','Ataque Exc.','Ataque Err','Ataque Blk','Serviço Ace','Serviço Err','Bloqueio Pts']].astype(int)"
   ]
  },
  {
   "cell_type": "code",
   "execution_count": 13,
   "id": "f92d16bd",
   "metadata": {},
   "outputs": [
    {
     "name": "stdout",
     "output_type": "stream",
     "text": [
      "                                             Ataque Blk  Ataque Err  \\\n",
      "Jogadora            Time                                              \n",
      "ADENIZIA FERREIRA   SESI VOLEI BAURU                 17          10   \n",
      "ADRIADNE BORGES     UNILIFE-MARINGA                   0           0   \n",
      "ALESSANDRA JANUARIA BRASÍLIA VÔLEI                   24          25   \n",
      "ALEXIA COCCO        ESPORTE CLUBE PINHEIROS           3           3   \n",
      "ALINE CRISTINA      BRASÍLIA VÔLEI                    9          14   \n",
      "\n",
      "                                             Ataque Exc.  Bloqueio Pts  \\\n",
      "Jogadora            Time                                                 \n",
      "ADENIZIA FERREIRA   SESI VOLEI BAURU                  94            56   \n",
      "ADRIADNE BORGES     UNILIFE-MARINGA                    2             1   \n",
      "ALESSANDRA JANUARIA BRASÍLIA VÔLEI                    90             9   \n",
      "ALEXIA COCCO        ESPORTE CLUBE PINHEIROS           13             0   \n",
      "ALINE CRISTINA      BRASÍLIA VÔLEI                    99            21   \n",
      "\n",
      "                                             Recepção Err  Recepção Tot  \\\n",
      "Jogadora            Time                                                  \n",
      "ADENIZIA FERREIRA   SESI VOLEI BAURU                    2            12   \n",
      "ADRIADNE BORGES     UNILIFE-MARINGA                     0             1   \n",
      "ALESSANDRA JANUARIA BRASÍLIA VÔLEI                     15           255   \n",
      "ALEXIA COCCO        ESPORTE CLUBE PINHEIROS             2            35   \n",
      "ALINE CRISTINA      BRASÍLIA VÔLEI                      1             5   \n",
      "\n",
      "                                             Serviço Ace  Serviço Err  \n",
      "Jogadora            Time                                               \n",
      "ADENIZIA FERREIRA   SESI VOLEI BAURU                  11           20  \n",
      "ADRIADNE BORGES     UNILIFE-MARINGA                    0            2  \n",
      "ALESSANDRA JANUARIA BRASÍLIA VÔLEI                     6           14  \n",
      "ALEXIA COCCO        ESPORTE CLUBE PINHEIROS            1            3  \n",
      "ALINE CRISTINA      BRASÍLIA VÔLEI                    19           19  \n"
     ]
    }
   ],
   "source": [
    "print(tabdin.head(5))"
   ]
  },
  {
   "cell_type": "markdown",
   "id": "65fb0b2d",
   "metadata": {},
   "source": [
    "## 4) Quais as principais bloqueadoras em números absolutos?"
   ]
  },
  {
   "cell_type": "code",
   "execution_count": 17,
   "id": "2be9317f",
   "metadata": {},
   "outputs": [
    {
     "name": "stdout",
     "output_type": "stream",
     "text": [
      "Jogadora\n",
      "ANA CAROLINA SILVA       125\n",
      "THAISA DAHER              88\n",
      "MAYANY SOUZA              88\n",
      "LAYS FERNANDA FREITAS     83\n",
      "DIANA DUARTE              76\n",
      "LARA NOBRE                73\n",
      "FABIANA CLAUDINO          68\n",
      "JINEIRY MARTINEZ          68\n",
      "LORENA VIEZEL             65\n",
      "JUCIELY SILVA             64\n",
      "ADENIZIA FERREIRA         56\n",
      "Name: Bloqueio Pts, dtype: int32\n"
     ]
    }
   ],
   "source": [
    "bloqueios = df.groupby('Jogadora')['Bloqueio Pts'].sum().astype(int)\n",
    "bloqueios_ordenados = bloqueios.sort_values(ascending=False)\n",
    "print(bloqueios_ordenados.head(11))"
   ]
  },
  {
   "cell_type": "markdown",
   "id": "a04a844f",
   "metadata": {},
   "source": [
    "## 5) Quais as 10 jogadoras mais eficientes no bloqueio?\n",
    "Uma vez que jogadoras com mais tentativas de bloqueio tiveram mais chances de bloquear, é mais eficiente comparar a eficiência de bloqueios por set disputados para cada jogadora. \n",
    "    Com base nos dados, considerei quantidade de sets = soma das colunas SET diferentes de NaN. Isso não é a medida ideal, porém, é o melhor a se fazer com base no banco de dados fornecido."
   ]
  },
  {
   "cell_type": "code",
   "execution_count": 120,
   "id": "75be7abe",
   "metadata": {},
   "outputs": [
    {
     "name": "stdout",
     "output_type": "stream",
     "text": [
      "                                                    Blocks/set  Bloqueios  \\\n",
      "Jogadora                Time                                                \n",
      "THAISA DAHER            ITAMBÉ MINAS                      0.93         88   \n",
      "ANA CAROLINA SILVA      DENTIL PRAIA CLUBE                0.89        125   \n",
      "MAYANY SOUZA            SESI VOLEI BAURU                  0.70         88   \n",
      "DIANA DUARTE            BARUERI VOLLEYBALL CLUB           0.69         76   \n",
      "LAYS FERNANDA FREITAS   FLUMINENSE                        0.69         83   \n",
      "LARA NOBRE              FLUMINENSE                        0.61         73   \n",
      "VICTORIA JUST           ESPORTE CLUBE PINHEIROS           0.60          3   \n",
      "LORENA VIEZEL           BARUERI VOLLEYBALL CLUB           0.59         65   \n",
      "FABIANA CLAUDINO        OSASCO SÃO CRISTOVÃO SAÚDE        0.57         68   \n",
      "LANNA GABRIELLA MACHADO COUNTRY CLUB VALINHOS             0.56         53   \n",
      "\n",
      "                                                    Quantidade_Sets  \n",
      "Jogadora                Time                                         \n",
      "THAISA DAHER            ITAMBÉ MINAS                             95  \n",
      "ANA CAROLINA SILVA      DENTIL PRAIA CLUBE                      140  \n",
      "MAYANY SOUZA            SESI VOLEI BAURU                        125  \n",
      "DIANA DUARTE            BARUERI VOLLEYBALL CLUB                 110  \n",
      "LAYS FERNANDA FREITAS   FLUMINENSE                              120  \n",
      "LARA NOBRE              FLUMINENSE                              120  \n",
      "VICTORIA JUST           ESPORTE CLUBE PINHEIROS                   5  \n",
      "LORENA VIEZEL           BARUERI VOLLEYBALL CLUB                 110  \n",
      "FABIANA CLAUDINO        OSASCO SÃO CRISTOVÃO SAÚDE              120  \n",
      "LANNA GABRIELLA MACHADO COUNTRY CLUB VALINHOS                    95  \n"
     ]
    }
   ],
   "source": [
    "# 1. Somar a quantidade de bloqueios para cada jogadora\n",
    "df_bloqueios = df.groupby(['Jogadora', 'Time'])['Bloqueio Pts'].sum().astype(int)\n",
    "\n",
    "# 2. Calcular a quantidade de sets jogados por cada jogadora\n",
    "quantidade_set = df.groupby('Jogadora')[['SET 1', 'SET 2', 'SET 3', 'SET 4', 'SET 5']].apply(lambda x: x.notna().sum(axis=1).sum()).astype(int)\n",
    "\n",
    "# 3. Calcular o aproveitamento\n",
    "blocks_set = (df_bloqueios / quantidade_set).fillna(0).round(2)\n",
    "\n",
    "# 4. Criar um DataFrame com os resultados\n",
    "df_resultado = pd.DataFrame({\n",
    "    'Blocks/set': blocks_set.values,\n",
    "    'Bloqueios': df_bloqueios.values,\n",
    "    'Quantidade_Sets': quantidade_set.values,\n",
    "}, index=df_bloqueios.index)\n",
    "\n",
    "# 5. Ordenar e mostrar as 10 primeiras jogadoras\n",
    "df_resultado_ordenado = df_resultado.sort_values(by='Blocks/set', ascending=False).head(10)\n",
    "print(df_resultado_ordenado.head(11))\n",
    "\n",
    "\n",
    "\n"
   ]
  },
  {
   "cell_type": "markdown",
   "id": "29ca87c9",
   "metadata": {},
   "source": [
    "## 6) Quais as 10 jogadoras com pior aproveitamento no passe?"
   ]
  },
  {
   "cell_type": "code",
   "execution_count": 16,
   "id": "f70d785b",
   "metadata": {},
   "outputs": [
    {
     "name": "stdout",
     "output_type": "stream",
     "text": [
      "                     Jogadora                     Time  erros_recepção_%  \\\n",
      "0                 JULIA MOURA    COUNTRY CLUB VALINHOS              10.2   \n",
      "1            NATALIA MONTEIRO           BRASÍLIA VÔLEI               9.6   \n",
      "2              TAINARA SANTOS       DENTIL PRAIA CLUBE               8.2   \n",
      "3        VITORIA TRINDADE (L)           BRASÍLIA VÔLEI               7.8   \n",
      "4   RAFAELA BERNARDES PATALLO           CURITIBA VÔLEI               6.9   \n",
      "5          GLAYCE VASCONCELOS  BARUERI VOLLEYBALL CLUB               6.7   \n",
      "6            GABRIELA CANDIDO               FLUMINENSE               6.5   \n",
      "7             IZADORA STEDILE           CURITIBA VÔLEI               6.5   \n",
      "8      LAIS ZURLY VASQUES (L)  BARUERI VOLLEYBALL CLUB               6.3   \n",
      "9         GABRIELLE MARCONDES    COUNTRY CLUB VALINHOS               6.3   \n",
      "10          SUELEN  PINTO (L)       DENTIL PRAIA CLUBE               6.1   \n",
      "\n",
      "    Recepção Tot  Recepção Err  \n",
      "0            147            15  \n",
      "1            240            23  \n",
      "2            110             9  \n",
      "3            232            18  \n",
      "4            130             9  \n",
      "5            342            23  \n",
      "6            460            30  \n",
      "7            310            20  \n",
      "8            428            27  \n",
      "9            413            26  \n",
      "10           228            14  \n"
     ]
    }
   ],
   "source": [
    "tabdin['erros_recepção_%'] = round((tabdin['Recepção Err'] / tabdin['Recepção Tot']),3)*100\n",
    "tabdin.replace([np.inf, -np.inf], 0, inplace=True)\n",
    "tabdin.replace(np.nan,0,inplace=True)\n",
    "tabdin_sorted = tabdin.sort_values(by=['erros_recepção_%'],ascending=False)\n",
    "tabdin_sorted = tabdin_sorted[tabdin_sorted['Recepção Tot'] > 100]\n",
    "print(tabdin_sorted[['erros_recepção_%','Recepção Tot','Recepção Err']].reset_index()[['Jogadora','Time','erros_recepção_%','Recepção Tot','Recepção Err']].head(11))\n"
   ]
  },
  {
   "cell_type": "markdown",
   "id": "ddfb20a2",
   "metadata": {},
   "source": []
  },
  {
   "cell_type": "code",
   "execution_count": null,
   "id": "6bb139dd",
   "metadata": {},
   "outputs": [],
   "source": []
  },
  {
   "cell_type": "code",
   "execution_count": null,
   "id": "9b07ffe8",
   "metadata": {},
   "outputs": [],
   "source": []
  }
 ],
 "metadata": {
  "kernelspec": {
   "display_name": "Python 3 (ipykernel)",
   "language": "python",
   "name": "python3"
  },
  "language_info": {
   "codemirror_mode": {
    "name": "ipython",
    "version": 3
   },
   "file_extension": ".py",
   "mimetype": "text/x-python",
   "name": "python",
   "nbconvert_exporter": "python",
   "pygments_lexer": "ipython3",
   "version": "3.11.4"
  }
 },
 "nbformat": 4,
 "nbformat_minor": 5
}
