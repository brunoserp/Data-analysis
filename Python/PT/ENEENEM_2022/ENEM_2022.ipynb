{
 "cells": [
  {
   "cell_type": "markdown",
   "id": "01325816",
   "metadata": {},
   "source": [
    "## DADOS ENEM 2022"
   ]
  },
  {
   "cell_type": "markdown",
   "id": "4c7fb2eb",
   "metadata": {},
   "source": [
    "Dataset extraído de:\n",
    "https://www.gov.br/inep/pt-br/acesso-a-informacao/dados-abertos/microdados/enem"
   ]
  },
  {
   "cell_type": "code",
   "execution_count": 2,
   "id": "935cf4fb",
   "metadata": {},
   "outputs": [],
   "source": [
    "# Importar o dataset\n",
    "import pandas as pd\n",
    "\n",
    "df = pd.read_csv(r\"C:\\Users\\bserpellone\\Desktop\\Python\\Dataset\\ENEM 2022\\DADOS\\MICRODADOS_ENEM_2022.csv\", encoding='ANSI', delimiter=';')"
   ]
  },
  {
   "cell_type": "markdown",
   "id": "4f7f0b6a",
   "metadata": {},
   "source": [
    "### CONHECENDO OS DADOS"
   ]
  },
  {
   "cell_type": "code",
   "execution_count": 4,
   "id": "e7606b2d",
   "metadata": {},
   "outputs": [
    {
     "data": {
      "text/plain": [
       "(3476105, 76)"
      ]
     },
     "execution_count": 4,
     "metadata": {},
     "output_type": "execute_result"
    }
   ],
   "source": [
    "df.shape"
   ]
  },
  {
   "cell_type": "code",
   "execution_count": 5,
   "id": "96b7803d",
   "metadata": {},
   "outputs": [
    {
     "data": {
      "text/plain": [
       "Index(['NU_INSCRICAO', 'NU_ANO', 'TP_FAIXA_ETARIA', 'TP_SEXO',\n",
       "       'TP_ESTADO_CIVIL', 'TP_COR_RACA', 'TP_NACIONALIDADE', 'TP_ST_CONCLUSAO',\n",
       "       'TP_ANO_CONCLUIU', 'TP_ESCOLA', 'TP_ENSINO', 'IN_TREINEIRO',\n",
       "       'CO_MUNICIPIO_ESC', 'NO_MUNICIPIO_ESC', 'CO_UF_ESC', 'SG_UF_ESC',\n",
       "       'TP_DEPENDENCIA_ADM_ESC', 'TP_LOCALIZACAO_ESC', 'TP_SIT_FUNC_ESC',\n",
       "       'CO_MUNICIPIO_PROVA', 'NO_MUNICIPIO_PROVA', 'CO_UF_PROVA',\n",
       "       'SG_UF_PROVA', 'TP_PRESENCA_CN', 'TP_PRESENCA_CH', 'TP_PRESENCA_LC',\n",
       "       'TP_PRESENCA_MT', 'CO_PROVA_CN', 'CO_PROVA_CH', 'CO_PROVA_LC',\n",
       "       'CO_PROVA_MT', 'NU_NOTA_CN', 'NU_NOTA_CH', 'NU_NOTA_LC', 'NU_NOTA_MT',\n",
       "       'TX_RESPOSTAS_CN', 'TX_RESPOSTAS_CH', 'TX_RESPOSTAS_LC',\n",
       "       'TX_RESPOSTAS_MT', 'TP_LINGUA', 'TX_GABARITO_CN', 'TX_GABARITO_CH',\n",
       "       'TX_GABARITO_LC', 'TX_GABARITO_MT', 'TP_STATUS_REDACAO',\n",
       "       'NU_NOTA_COMP1', 'NU_NOTA_COMP2', 'NU_NOTA_COMP3', 'NU_NOTA_COMP4',\n",
       "       'NU_NOTA_COMP5', 'NU_NOTA_REDACAO', 'Q001', 'Q002', 'Q003', 'Q004',\n",
       "       'Q005', 'Q006', 'Q007', 'Q008', 'Q009', 'Q010', 'Q011', 'Q012', 'Q013',\n",
       "       'Q014', 'Q015', 'Q016', 'Q017', 'Q018', 'Q019', 'Q020', 'Q021', 'Q022',\n",
       "       'Q023', 'Q024', 'Q025'],\n",
       "      dtype='object')"
      ]
     },
     "execution_count": 5,
     "metadata": {},
     "output_type": "execute_result"
    }
   ],
   "source": [
    "df.columns"
   ]
  },
  {
   "cell_type": "markdown",
   "id": "04b98b16",
   "metadata": {},
   "source": [
    "#### Colunas de interesse:\n",
    "TP_FAIXA_ETARIA: {\n",
    "                      1: 'Menor de 17 anos', \n",
    "                      2: '17 anos',\n",
    "                      3: '18 anos', \n",
    "                      4: '19 anos',\n",
    "                      5: '20 anos', \n",
    "                      6: '21 anos', \n",
    "                      7: '22 anos',\n",
    "                      8: '23 anos',\n",
    "                      9: '24 anos', \n",
    "                      10: '25 anos', \n",
    "                      11: 'Entre 26 e 30 anos', \n",
    "                      12: 'Entre 31 e 35 anos', '13': 'Entre 36 e 40 anos', '14': 'Entre 41 e 45 anos',\n",
    "                      15: 'Entre 46 e 50 anos', '16': 'Entre 51 e 55 anos', '17': 'Entre 56 e 60 anos', \n",
    "                      18: 'Entre 61 e 65 anos', '19': 'Entre 66 e 70 anos', '20': 'Maior de 70 anos'\n",
    "                  }                    \n",
    "TP_SEXO: M e F\n",
    "TP_COR_RACA:  {\n",
    "                    0: 'Não declarado', \n",
    "                    1: 'Branca',\n",
    "                    2: 'Preta', \n",
    "                    3: 'Parda',\n",
    "                    4: 'Amarela', \n",
    "                    5: 'Indígena ', \n",
    "                    6: 'Não dispõe da informação'\n",
    "              }\n",
    "\n",
    "TP_ANO_CONCLUIU: Ano de Conclusão do Ensino Médio\n",
    "                {\n",
    "                    0: 'Não informado', \n",
    "                    1: '2021', \n",
    "                    2: '2020', \n",
    "                    3: '2019', \n",
    "                    4: '2018', \n",
    "                    5: '2017', \n",
    "                    6: '2016', \n",
    "                    7: '2015', \n",
    "                    8: '2014', \n",
    "                    9: '2013', \n",
    "                    10: '2012', \n",
    "                    11: '2011', \n",
    "                    12: '2010', \n",
    "                    13: '2009', \n",
    "                    14: '2008', \n",
    "                    15: '2007', \n",
    "                    16: 'Antes de 2007'\n",
    "                 }\n",
    "                 \n",
    "TP_ESCOLA: Tipo de escola do Ensino Médio\n",
    "          {\n",
    "                1: 'Não Respondeu',\n",
    "                2: 'Pública',\n",
    "                3: 'Privada\n",
    "          }\n",
    "\n",
    "NO_MUNICIPIO_ESC: Nome do município da escola\n",
    "NO_MUNICIPIO_PROVA: Código da Unidade da Federação da aplicação da prova\n",
    "SG_UF_ESC: Sigla da Unidade da Federação da escola\n",
    "[TP_PRESENCA_CN', TP_PRESENCA_CH, TP_PRESENCA_LC, TP_PRESENCA_MT] = \n",
    "                                                                    {\n",
    "                                                                        0: 'Faltou à prova',\n",
    "                                                                        1: 'Presente na prova',\n",
    "                                                                        2: 'Eliminado na prova'\n",
    "                                                                    }\n",
    "                                                                        \n",
    "NU_NOTA_CN:\tNota da prova de Ciências da Natureza\n",
    "NU_NOTA_CH:\tNota da prova de Ciências Humanas\n",
    "NU_NOTA_LC:\tNota da prova de Linguagens e Códigos\n",
    "NU_NOTA_MT:\tNota da prova de Matemática\n",
    "TP_LINGUA: Língua Estrangeira\n",
    "            {\n",
    "                0: 'Inglês',\n",
    "                1: 'Espanhol'\n",
    "            }\n",
    "NU_NOTA_REDACAO            \n",
    "                                                     \n",
    "\n",
    "Campos Q são questões socioeconômicas"
   ]
  },
  {
   "cell_type": "code",
   "execution_count": 14,
   "id": "c6390347",
   "metadata": {},
   "outputs": [
    {
     "data": {
      "text/html": [
       "<div>\n",
       "<style scoped>\n",
       "    .dataframe tbody tr th:only-of-type {\n",
       "        vertical-align: middle;\n",
       "    }\n",
       "\n",
       "    .dataframe tbody tr th {\n",
       "        vertical-align: top;\n",
       "    }\n",
       "\n",
       "    .dataframe thead th {\n",
       "        text-align: right;\n",
       "    }\n",
       "</style>\n",
       "<table border=\"1\" class=\"dataframe\">\n",
       "  <thead>\n",
       "    <tr style=\"text-align: right;\">\n",
       "      <th></th>\n",
       "      <th>NU_INSCRICAO</th>\n",
       "      <th>NU_ANO</th>\n",
       "      <th>TP_FAIXA_ETARIA</th>\n",
       "      <th>TP_SEXO</th>\n",
       "      <th>TP_ESTADO_CIVIL</th>\n",
       "      <th>TP_COR_RACA</th>\n",
       "      <th>TP_NACIONALIDADE</th>\n",
       "      <th>TP_ST_CONCLUSAO</th>\n",
       "      <th>TP_ANO_CONCLUIU</th>\n",
       "      <th>TP_ESCOLA</th>\n",
       "      <th>...</th>\n",
       "      <th>Q016</th>\n",
       "      <th>Q017</th>\n",
       "      <th>Q018</th>\n",
       "      <th>Q019</th>\n",
       "      <th>Q020</th>\n",
       "      <th>Q021</th>\n",
       "      <th>Q022</th>\n",
       "      <th>Q023</th>\n",
       "      <th>Q024</th>\n",
       "      <th>Q025</th>\n",
       "    </tr>\n",
       "  </thead>\n",
       "  <tbody>\n",
       "    <tr>\n",
       "      <th>0</th>\n",
       "      <td>210057943671</td>\n",
       "      <td>2022</td>\n",
       "      <td>14</td>\n",
       "      <td>M</td>\n",
       "      <td>2</td>\n",
       "      <td>2</td>\n",
       "      <td>1</td>\n",
       "      <td>1</td>\n",
       "      <td>2</td>\n",
       "      <td>1</td>\n",
       "      <td>...</td>\n",
       "      <td>B</td>\n",
       "      <td>A</td>\n",
       "      <td>A</td>\n",
       "      <td>A</td>\n",
       "      <td>A</td>\n",
       "      <td>A</td>\n",
       "      <td>A</td>\n",
       "      <td>A</td>\n",
       "      <td>A</td>\n",
       "      <td>A</td>\n",
       "    </tr>\n",
       "    <tr>\n",
       "      <th>1</th>\n",
       "      <td>210057516120</td>\n",
       "      <td>2022</td>\n",
       "      <td>14</td>\n",
       "      <td>M</td>\n",
       "      <td>2</td>\n",
       "      <td>1</td>\n",
       "      <td>1</td>\n",
       "      <td>1</td>\n",
       "      <td>16</td>\n",
       "      <td>1</td>\n",
       "      <td>...</td>\n",
       "      <td>E</td>\n",
       "      <td>E</td>\n",
       "      <td>B</td>\n",
       "      <td>E</td>\n",
       "      <td>B</td>\n",
       "      <td>B</td>\n",
       "      <td>E</td>\n",
       "      <td>B</td>\n",
       "      <td>E</td>\n",
       "      <td>B</td>\n",
       "    </tr>\n",
       "    <tr>\n",
       "      <th>2</th>\n",
       "      <td>210057280536</td>\n",
       "      <td>2022</td>\n",
       "      <td>5</td>\n",
       "      <td>F</td>\n",
       "      <td>1</td>\n",
       "      <td>2</td>\n",
       "      <td>1</td>\n",
       "      <td>1</td>\n",
       "      <td>2</td>\n",
       "      <td>1</td>\n",
       "      <td>...</td>\n",
       "      <td>A</td>\n",
       "      <td>A</td>\n",
       "      <td>A</td>\n",
       "      <td>A</td>\n",
       "      <td>A</td>\n",
       "      <td>A</td>\n",
       "      <td>C</td>\n",
       "      <td>A</td>\n",
       "      <td>A</td>\n",
       "      <td>B</td>\n",
       "    </tr>\n",
       "    <tr>\n",
       "      <th>3</th>\n",
       "      <td>210055724397</td>\n",
       "      <td>2022</td>\n",
       "      <td>6</td>\n",
       "      <td>M</td>\n",
       "      <td>1</td>\n",
       "      <td>3</td>\n",
       "      <td>1</td>\n",
       "      <td>1</td>\n",
       "      <td>2</td>\n",
       "      <td>1</td>\n",
       "      <td>...</td>\n",
       "      <td>B</td>\n",
       "      <td>A</td>\n",
       "      <td>A</td>\n",
       "      <td>C</td>\n",
       "      <td>A</td>\n",
       "      <td>A</td>\n",
       "      <td>C</td>\n",
       "      <td>B</td>\n",
       "      <td>B</td>\n",
       "      <td>B</td>\n",
       "    </tr>\n",
       "    <tr>\n",
       "      <th>4</th>\n",
       "      <td>210055097896</td>\n",
       "      <td>2022</td>\n",
       "      <td>4</td>\n",
       "      <td>M</td>\n",
       "      <td>0</td>\n",
       "      <td>3</td>\n",
       "      <td>1</td>\n",
       "      <td>1</td>\n",
       "      <td>1</td>\n",
       "      <td>1</td>\n",
       "      <td>...</td>\n",
       "      <td>A</td>\n",
       "      <td>A</td>\n",
       "      <td>A</td>\n",
       "      <td>A</td>\n",
       "      <td>A</td>\n",
       "      <td>A</td>\n",
       "      <td>B</td>\n",
       "      <td>A</td>\n",
       "      <td>A</td>\n",
       "      <td>A</td>\n",
       "    </tr>\n",
       "  </tbody>\n",
       "</table>\n",
       "<p>5 rows × 76 columns</p>\n",
       "</div>"
      ],
      "text/plain": [
       "   NU_INSCRICAO  NU_ANO  TP_FAIXA_ETARIA TP_SEXO  TP_ESTADO_CIVIL  \\\n",
       "0  210057943671    2022               14       M                2   \n",
       "1  210057516120    2022               14       M                2   \n",
       "2  210057280536    2022                5       F                1   \n",
       "3  210055724397    2022                6       M                1   \n",
       "4  210055097896    2022                4       M                0   \n",
       "\n",
       "   TP_COR_RACA  TP_NACIONALIDADE  TP_ST_CONCLUSAO  TP_ANO_CONCLUIU  TP_ESCOLA  \\\n",
       "0            2                 1                1                2          1   \n",
       "1            1                 1                1               16          1   \n",
       "2            2                 1                1                2          1   \n",
       "3            3                 1                1                2          1   \n",
       "4            3                 1                1                1          1   \n",
       "\n",
       "   ...  Q016  Q017  Q018 Q019  Q020 Q021  Q022  Q023  Q024  Q025  \n",
       "0  ...     B     A     A    A     A    A     A     A     A     A  \n",
       "1  ...     E     E     B    E     B    B     E     B     E     B  \n",
       "2  ...     A     A     A    A     A    A     C     A     A     B  \n",
       "3  ...     B     A     A    C     A    A     C     B     B     B  \n",
       "4  ...     A     A     A    A     A    A     B     A     A     A  \n",
       "\n",
       "[5 rows x 76 columns]"
      ]
     },
     "execution_count": 14,
     "metadata": {},
     "output_type": "execute_result"
    }
   ],
   "source": [
    "df.head(5)"
   ]
  },
  {
   "cell_type": "code",
   "execution_count": 18,
   "id": "13ebbcec",
   "metadata": {},
   "outputs": [
    {
     "name": "stdout",
     "output_type": "stream",
     "text": [
      "<class 'pandas.core.frame.DataFrame'>\n",
      "RangeIndex: 3476105 entries, 0 to 3476104\n",
      "Data columns (total 76 columns):\n",
      " #   Column                  Dtype  \n",
      "---  ------                  -----  \n",
      " 0   NU_INSCRICAO            int64  \n",
      " 1   NU_ANO                  int64  \n",
      " 2   TP_FAIXA_ETARIA         int64  \n",
      " 3   TP_SEXO                 object \n",
      " 4   TP_ESTADO_CIVIL         int64  \n",
      " 5   TP_COR_RACA             int64  \n",
      " 6   TP_NACIONALIDADE        int64  \n",
      " 7   TP_ST_CONCLUSAO         int64  \n",
      " 8   TP_ANO_CONCLUIU         int64  \n",
      " 9   TP_ESCOLA               int64  \n",
      " 10  TP_ENSINO               float64\n",
      " 11  IN_TREINEIRO            int64  \n",
      " 12  CO_MUNICIPIO_ESC        float64\n",
      " 13  NO_MUNICIPIO_ESC        object \n",
      " 14  CO_UF_ESC               float64\n",
      " 15  SG_UF_ESC               object \n",
      " 16  TP_DEPENDENCIA_ADM_ESC  float64\n",
      " 17  TP_LOCALIZACAO_ESC      float64\n",
      " 18  TP_SIT_FUNC_ESC         float64\n",
      " 19  CO_MUNICIPIO_PROVA      int64  \n",
      " 20  NO_MUNICIPIO_PROVA      object \n",
      " 21  CO_UF_PROVA             int64  \n",
      " 22  SG_UF_PROVA             object \n",
      " 23  TP_PRESENCA_CN          int64  \n",
      " 24  TP_PRESENCA_CH          int64  \n",
      " 25  TP_PRESENCA_LC          int64  \n",
      " 26  TP_PRESENCA_MT          int64  \n",
      " 27  CO_PROVA_CN             float64\n",
      " 28  CO_PROVA_CH             float64\n",
      " 29  CO_PROVA_LC             float64\n",
      " 30  CO_PROVA_MT             float64\n",
      " 31  NU_NOTA_CN              float64\n",
      " 32  NU_NOTA_CH              float64\n",
      " 33  NU_NOTA_LC              float64\n",
      " 34  NU_NOTA_MT              float64\n",
      " 35  TX_RESPOSTAS_CN         object \n",
      " 36  TX_RESPOSTAS_CH         object \n",
      " 37  TX_RESPOSTAS_LC         object \n",
      " 38  TX_RESPOSTAS_MT         object \n",
      " 39  TP_LINGUA               int64  \n",
      " 40  TX_GABARITO_CN          object \n",
      " 41  TX_GABARITO_CH          object \n",
      " 42  TX_GABARITO_LC          object \n",
      " 43  TX_GABARITO_MT          object \n",
      " 44  TP_STATUS_REDACAO       float64\n",
      " 45  NU_NOTA_COMP1           float64\n",
      " 46  NU_NOTA_COMP2           float64\n",
      " 47  NU_NOTA_COMP3           float64\n",
      " 48  NU_NOTA_COMP4           float64\n",
      " 49  NU_NOTA_COMP5           float64\n",
      " 50  NU_NOTA_REDACAO         float64\n",
      " 51  Q001                    object \n",
      " 52  Q002                    object \n",
      " 53  Q003                    object \n",
      " 54  Q004                    object \n",
      " 55  Q005                    int64  \n",
      " 56  Q006                    object \n",
      " 57  Q007                    object \n",
      " 58  Q008                    object \n",
      " 59  Q009                    object \n",
      " 60  Q010                    object \n",
      " 61  Q011                    object \n",
      " 62  Q012                    object \n",
      " 63  Q013                    object \n",
      " 64  Q014                    object \n",
      " 65  Q015                    object \n",
      " 66  Q016                    object \n",
      " 67  Q017                    object \n",
      " 68  Q018                    object \n",
      " 69  Q019                    object \n",
      " 70  Q020                    object \n",
      " 71  Q021                    object \n",
      " 72  Q022                    object \n",
      " 73  Q023                    object \n",
      " 74  Q024                    object \n",
      " 75  Q025                    object \n",
      "dtypes: float64(21), int64(18), object(37)\n",
      "memory usage: 2.0+ GB\n"
     ]
    }
   ],
   "source": [
    "df.info()"
   ]
  },
  {
   "cell_type": "code",
   "execution_count": 23,
   "id": "eaabb9ec",
   "metadata": {},
   "outputs": [
    {
     "data": {
      "text/plain": [
       "array([False, False, False, False, False, False, False, False, False,\n",
       "       False, False, False, False, False, False, False, False, False,\n",
       "       False, False, False, False, False, False, False, False, False,\n",
       "       False, False, False, False, False, False, False, False, False,\n",
       "       False, False, False, False, False, False, False, False, False,\n",
       "       False, False, False, False, False, False, False, False, False,\n",
       "       False, False, False, False, False, False, False, False, False,\n",
       "       False, False, False, False, False, False, False, False, False,\n",
       "       False, False, False, False])"
      ]
     },
     "execution_count": 23,
     "metadata": {},
     "output_type": "execute_result"
    }
   ],
   "source": [
    "# Há NaN na base?\n",
    "df.columns.isna()"
   ]
  },
  {
   "cell_type": "code",
   "execution_count": 149,
   "id": "2a161885",
   "metadata": {},
   "outputs": [],
   "source": [
    "#Como há colunas de interesse que são categóricas, vou puxar a descrição de cada categoria:\n",
    "# Q006 é sobre a renda familiar:    \n",
    "Q006 =  {\n",
    "            'A': 'Nenhuma Renda', \n",
    "            'B': 'Até 1,2k',\n",
    "            'C': 'De 1,2k a 1,8k',\n",
    "            'D': 'De 1,8k a 2,4k',\n",
    "            'E': 'De 2,4k a 3k',\n",
    "            'F': 'De 3k a 3,6k',\n",
    "            'G': 'De 3,6k a 4,8k',\n",
    "            'H': 'De 4,8k a 6,1k',\n",
    "            'I': 'De 6,1k a 7,3k',\n",
    "            'J': 'De 7,3k a 8,5k',\n",
    "            'K': 'De 8,5k a 9,7k',\n",
    "            'L': 'De 9,7k a 10,9k',\n",
    "            'M': 'De 10,9k a 12,1k',\n",
    "            'N': 'De 12,1k a 14,5k',\n",
    "            'O': 'De 14,5k a 18,2k',\n",
    "            'P': 'De 18,2k a 24,2k',\n",
    "            'Q': 'Acima de 24,2k'\n",
    "        }\n",
    "\n",
    "# TP_COR_RACA\n",
    "Etnia = {\n",
    "            0: 'Não declarado', \n",
    "            1: 'Branca', \n",
    "            2: 'Preta', \n",
    "            3: 'Parda', \n",
    "            4: 'Amarela', \n",
    "            5: 'Indígena', \n",
    "            6: 'Não dispõe da informação'         \n",
    "        }\n",
    "    \n",
    "# Criar 2 colunas com essas descrições:\n",
    "df['Renda'] = df['Q006'].map(Q006)\n",
    "df['Etnia'] = df['TP_COR_RACA'].map(Etnia)"
   ]
  },
  {
   "cell_type": "markdown",
   "id": "c617badb",
   "metadata": {},
   "source": [
    "# PERGUNTAS"
   ]
  },
  {
   "cell_type": "code",
   "execution_count": 6,
   "id": "11d95b7f",
   "metadata": {},
   "outputs": [
    {
     "data": {
      "text/plain": [
       "TP_SEXO\n",
       "F    2120519\n",
       "M    1355586\n",
       "Name: count, dtype: int64"
      ]
     },
     "execution_count": 6,
     "metadata": {},
     "output_type": "execute_result"
    }
   ],
   "source": [
    "## Qual a quantidade de homens e de mulheres que se inscreveram no ENEM de 2022?\n",
    "df['TP_SEXO'].value_counts()"
   ]
  },
  {
   "cell_type": "code",
   "execution_count": 7,
   "id": "66d6ac86",
   "metadata": {},
   "outputs": [
    {
     "data": {
      "text/plain": [
       "TP_SEXO\n",
       "F    0.610027\n",
       "M    0.389973\n",
       "Name: proportion, dtype: float64"
      ]
     },
     "execution_count": 7,
     "metadata": {},
     "output_type": "execute_result"
    }
   ],
   "source": [
    "## Qual a proporção de homens de de mulheres que se inscreveram no ENEM de 2022?\n",
    "df['TP_SEXO'].value_counts(normalize=True)"
   ]
  },
  {
   "cell_type": "code",
   "execution_count": 168,
   "id": "731b0879",
   "metadata": {},
   "outputs": [
    {
     "data": {
      "text/plain": [
       "Etnia\n",
       "Parda            0.43\n",
       "Branca           0.41\n",
       "Preta            0.12\n",
       "Amarela          0.02\n",
       "Não declarado    0.02\n",
       "Indígena         0.01\n",
       "Name: proportion, dtype: float64"
      ]
     },
     "execution_count": 168,
     "metadata": {},
     "output_type": "execute_result"
    }
   ],
   "source": [
    "# Qual a proporção das etnias dos inscritos no ENEM de 2022?\n",
    "df['Etnia'].value_counts(normalize=True).round(2)"
   ]
  },
  {
   "cell_type": "markdown",
   "id": "231ddd96",
   "metadata": {},
   "source": [
    "# Abstinências"
   ]
  },
  {
   "cell_type": "code",
   "execution_count": 49,
   "id": "8d4f3431",
   "metadata": {},
   "outputs": [
    {
     "data": {
      "text/plain": [
       "True     1131282\n",
       "False    2344823\n",
       "Name: count, dtype: int64"
      ]
     },
     "execution_count": 49,
     "metadata": {},
     "output_type": "execute_result"
    }
   ],
   "source": [
    "## Qual a quantidade de abstinências em pelo menos 1 dos 3 dias? (True = abstinência em pelo menos 1 dia)\n",
    "((df['TP_PRESENCA_CN']!=1) | (df['TP_PRESENCA_CH']!=1) | (df['TP_PRESENCA_LC']!=1) | (df['TP_PRESENCA_MT']!=1)).value_counts().sort_index(ascending=False).round(2)"
   ]
  },
  {
   "cell_type": "code",
   "execution_count": 50,
   "id": "439e15e6",
   "metadata": {},
   "outputs": [
    {
     "data": {
      "text/plain": [
       "True     0.33\n",
       "False    0.67\n",
       "Name: proportion, dtype: float64"
      ]
     },
     "execution_count": 50,
     "metadata": {},
     "output_type": "execute_result"
    }
   ],
   "source": [
    "## Qual a proporção de abstinência em pelo menos 1 dos 3 dias? (True = abstinência em pelo menos 1 dia)\n",
    "((df['TP_PRESENCA_CN']!=1) | (df['TP_PRESENCA_CH']!=1) | (df['TP_PRESENCA_LC']!=1) | (df['TP_PRESENCA_MT']!=1)).value_counts(normalize=True).sort_index(ascending=False).round(2)"
   ]
  },
  {
   "cell_type": "code",
   "execution_count": 150,
   "id": "55d9cb5a",
   "metadata": {
    "scrolled": true
   },
   "outputs": [
    {
     "data": {
      "text/plain": [
       "Renda\n",
       "Até 1,2k          0.35\n",
       "De 1,2k a 1,8k    0.19\n",
       "De 1,8k a 2,4k    0.12\n",
       "Nenhuma Renda     0.08\n",
       "De 2,4k a 3k      0.07\n",
       "Name: proportion, dtype: float64"
      ]
     },
     "execution_count": 150,
     "metadata": {},
     "output_type": "execute_result"
    }
   ],
   "source": [
    "## Qual a proporção dos grupos de renda familiar dos inscritos que faltaram ao menos 1 dia? (5 mais representativos somam 81%)\n",
    "df['Renda'][(df['TP_PRESENCA_CN']!=1) | (df['TP_PRESENCA_CH']!=1) | (df['TP_PRESENCA_LC']!=1) | (df['TP_PRESENCA_MT']!=1)].value_counts(normalize=True).sort_values(ascending=False).round(2).head(5)"
   ]
  },
  {
   "cell_type": "code",
   "execution_count": 152,
   "id": "a3aa682e",
   "metadata": {},
   "outputs": [
    {
     "data": {
      "text/plain": [
       "True     0.82\n",
       "False    0.18\n",
       "Name: proportion, dtype: float64"
      ]
     },
     "execution_count": 152,
     "metadata": {},
     "output_type": "execute_result"
    }
   ],
   "source": [
    "## Dentre os inscritos que não permaneceram em pelo menos 1 dia, qual a proporção dos tiveram que se deslocar de cidade para fazer a prova? (True = cidade da prova diferente da cidade da escola)\n",
    "\n",
    "# Primeiramente, vou criar um df pros casos com abstinência, onde o inscrito faltou em pelo menos 1 dia\n",
    "df_abstinencia = df[(df['TP_PRESENCA_CN']!=1) | (df['TP_PRESENCA_CH']!=1) | (df['TP_PRESENCA_LC']!=1) | (df['TP_PRESENCA_MT']!=1)]\n",
    "\n",
    "# Agora, vou localizar os inscritos que a coluna 'NO_MUNICIPIO_ESC' seja diferente de 'NO_MUNICIPIO_PROVA'\n",
    "(df_abstinencia['NO_MUNICIPIO_ESC'] != df_abstinencia['NO_MUNICIPIO_PROVA']).value_counts(normalize=True).sort_index(ascending=False).round(2)"
   ]
  },
  {
   "cell_type": "code",
   "execution_count": 153,
   "id": "b0f0bf7b",
   "metadata": {},
   "outputs": [
    {
     "data": {
      "text/plain": [
       "Renda\n",
       "Até 1,2k          0.35\n",
       "De 1,2k a 1,8k    0.19\n",
       "De 1,8k a 2,4k    0.12\n",
       "Nenhuma Renda     0.08\n",
       "De 2,4k a 3k      0.07\n",
       "Name: proportion, dtype: float64"
      ]
     },
     "execution_count": 153,
     "metadata": {},
     "output_type": "execute_result"
    }
   ],
   "source": [
    "## Dentre os inscritos que não permaneceram em pelo menos 1 dia, qual a renda mensal da família? top 5 mais representativos (que somam 81%) (Q006: A = Até R$ 1.212 e Q = Acima de R$ 24.240) \n",
    "df_abstinencia['Renda'].value_counts(normalize=True).round(2).head(5)"
   ]
  },
  {
   "cell_type": "code",
   "execution_count": 154,
   "id": "c7df754c",
   "metadata": {
    "scrolled": true
   },
   "outputs": [
    {
     "data": {
      "text/plain": [
       "Renda\n",
       "Até 1,2k          0.30\n",
       "De 1,2k a 1,8k    0.17\n",
       "De 1,8k a 2,4k    0.12\n",
       "De 2,4k a 3k      0.08\n",
       "Nenhuma Renda     0.06\n",
       "Name: proportion, dtype: float64"
      ]
     },
     "execution_count": 154,
     "metadata": {},
     "output_type": "execute_result"
    }
   ],
   "source": [
    "## Dentre os inscritos que não permaneceram em pelo menos um dia e que tiveram que se deslocar de cidade pra fazer a prova, qual a proporção da renda familiar? apenas do top 5 mais representativos (que somam 73%)\n",
    "\n",
    "df.loc[((df['NO_MUNICIPIO_ESC']) != (df['NO_MUNICIPIO_PROVA'])), 'Renda'].value_counts(normalize=True).round(2).sort_values(ascending=False).head(5)"
   ]
  },
  {
   "cell_type": "markdown",
   "id": "c8609397",
   "metadata": {},
   "source": [
    "## Conclusões sobre abstinências:\n",
    "-> 1/3 dos inscritos não compareceram em pelo menos 1 dos 3 dias\n",
    "-> dos que não compareceram em pelo menos 1 dos 3 dias, 82% tinham que fazer a prova em cidade diferente da escola que estudam\n",
    "-> desse grupo da linha acima, 73% tinham renda familiar de até R$ 3k"
   ]
  },
  {
   "cell_type": "markdown",
   "id": "afff2711",
   "metadata": {},
   "source": [
    "# Indicadores socioeconômicos"
   ]
  },
  {
   "cell_type": "code",
   "execution_count": 155,
   "id": "f5e1fa93",
   "metadata": {},
   "outputs": [
    {
     "data": {
      "text/plain": [
       "Renda\n",
       "Até 1,2k            0.29\n",
       "De 1,2k a 1,8k      0.17\n",
       "De 1,8k a 2,4k      0.12\n",
       "De 2,4k a 3k        0.08\n",
       "Nenhuma Renda       0.06\n",
       "De 3,6k a 4,8k      0.06\n",
       "De 4,8k a 6,1k      0.05\n",
       "De 3k a 3,6k        0.05\n",
       "De 6,1k a 7,3k      0.02\n",
       "De 7,3k a 8,5k      0.02\n",
       "De 9,7k a 10,9k     0.01\n",
       "Acima de 24,2k      0.01\n",
       "De 10,9k a 12,1k    0.01\n",
       "De 14,5k a 18,2k    0.01\n",
       "De 8,5k a 9,7k      0.01\n",
       "De 18,2k a 24,2k    0.01\n",
       "De 12,1k a 14,5k    0.01\n",
       "Name: proportion, dtype: float64"
      ]
     },
     "execution_count": 155,
     "metadata": {},
     "output_type": "execute_result"
    }
   ],
   "source": [
    "# Quantidade de inscritos por faixa de renda\n",
    "df['Renda'].value_counts(normalize=True).round(2)"
   ]
  },
  {
   "cell_type": "code",
   "execution_count": 156,
   "id": "4036c8b3",
   "metadata": {},
   "outputs": [
    {
     "data": {
      "text/plain": [
       "Etnia    Renda         \n",
       "Amarela  Até 1,2k          0.33\n",
       "         De 1,2k a 1,8k    0.17\n",
       "         De 1,8k a 2,4k    0.11\n",
       "         Nenhuma Renda     0.07\n",
       "         De 2,4k a 3k      0.07\n",
       "Name: proportion, dtype: float64"
      ]
     },
     "execution_count": 156,
     "metadata": {},
     "output_type": "execute_result"
    }
   ],
   "source": [
    "# 5 faixas de renda mais representativas da etnia amarela (5 faixas somam 75% do total)\n",
    "df[['Etnia','Renda']][df['Etnia'] == 'Amarela'].value_counts(normalize=True).round(2).head(5)"
   ]
  },
  {
   "cell_type": "code",
   "execution_count": 157,
   "id": "f98955e8",
   "metadata": {},
   "outputs": [
    {
     "data": {
      "text/plain": [
       "Etnia   Renda         \n",
       "Branca  Até 1,2k          0.18\n",
       "        De 1,2k a 1,8k    0.14\n",
       "        De 1,8k a 2,4k    0.12\n",
       "        De 2,4k a 3k      0.09\n",
       "        De 4,8k a 6,1k    0.08\n",
       "Name: proportion, dtype: float64"
      ]
     },
     "execution_count": 157,
     "metadata": {},
     "output_type": "execute_result"
    }
   ],
   "source": [
    "# 5 faixas de renda mais representativas da etnia branca (5 faixas somam 61% do total)\n",
    "df[['Etnia','Renda']][df['Etnia'] == 'Branca'].value_counts(normalize=True).round(2).head(5)"
   ]
  },
  {
   "cell_type": "code",
   "execution_count": 158,
   "id": "f34aa143",
   "metadata": {},
   "outputs": [
    {
     "data": {
      "text/plain": [
       "Etnia  Renda         \n",
       "Preta  Até 1,2k          0.38\n",
       "       De 1,2k a 1,8k    0.20\n",
       "       De 1,8k a 2,4k    0.12\n",
       "       Nenhuma Renda     0.08\n",
       "       De 2,4k a 3k      0.07\n",
       "Name: proportion, dtype: float64"
      ]
     },
     "execution_count": 158,
     "metadata": {},
     "output_type": "execute_result"
    }
   ],
   "source": [
    "# 5 faixas de renda mais representativas da etnia preta (5 faixas somam 85% do total)\n",
    "df[['Etnia','Renda']][df['Etnia'] == 'Preta'].value_counts(normalize=True).round(2).head(5)"
   ]
  },
  {
   "cell_type": "code",
   "execution_count": 159,
   "id": "9c1ed491",
   "metadata": {},
   "outputs": [
    {
     "data": {
      "text/plain": [
       "Etnia  Renda         \n",
       "Parda  Até 1,2k          0.38\n",
       "       De 1,2k a 1,8k    0.18\n",
       "       De 1,8k a 2,4k    0.12\n",
       "       Nenhuma Renda     0.08\n",
       "       De 2,4k a 3k      0.07\n",
       "Name: proportion, dtype: float64"
      ]
     },
     "execution_count": 159,
     "metadata": {},
     "output_type": "execute_result"
    }
   ],
   "source": [
    "# 5 faixas de renda mais representativas da etnia preta (5 faixas somam 83% do total)\n",
    "df[['Etnia','Renda']][df['Etnia'] == 'Parda'].value_counts(normalize=True).round(2).head(5)"
   ]
  },
  {
   "cell_type": "code",
   "execution_count": 160,
   "id": "6f823157",
   "metadata": {},
   "outputs": [
    {
     "data": {
      "text/plain": [
       "Etnia     Renda         \n",
       "Indígena  Até 1,2k          0.45\n",
       "          Nenhuma Renda     0.17\n",
       "          De 1,2k a 1,8k    0.15\n",
       "          De 1,8k a 2,4k    0.09\n",
       "          De 2,4k a 3k      0.05\n",
       "Name: proportion, dtype: float64"
      ]
     },
     "execution_count": 160,
     "metadata": {},
     "output_type": "execute_result"
    }
   ],
   "source": [
    "# 5 faixas de renda mais representativas de indígenas (5 faixas somam 91% do total)\n",
    "df[['Etnia','Renda']][df['Etnia'] == 'Indígena'].value_counts(normalize=True).round(2).head(5)"
   ]
  },
  {
   "cell_type": "code",
   "execution_count": 165,
   "id": "296450ef",
   "metadata": {},
   "outputs": [
    {
     "data": {
      "text/plain": [
       "Q001\n",
       "True     0.1\n",
       "False    0.9\n",
       "Name: proportion, dtype: float64"
      ]
     },
     "execution_count": 165,
     "metadata": {},
     "output_type": "execute_result"
    }
   ],
   "source": [
    "# Qual a proporção dos que não sabem qual a escolaridade do pai?\n",
    "# Q001: Até que série seu pai, ou o homem responsável por você, estudou?\n",
    "# H = Não sei\n",
    "\n",
    "(df['Q001']=='H').value_counts(normalize=True).round(2).sort_index(ascending=False)"
   ]
  },
  {
   "cell_type": "code",
   "execution_count": 161,
   "id": "a4fa788c",
   "metadata": {},
   "outputs": [
    {
     "data": {
      "text/plain": [
       "Renda\n",
       "Até 1,2k          0.41\n",
       "De 1,2k a 1,8k    0.19\n",
       "De 1,8k a 2,4k    0.11\n",
       "Nenhuma Renda     0.09\n",
       "De 2,4k a 3k      0.06\n",
       "Name: proportion, dtype: float64"
      ]
     },
     "execution_count": 161,
     "metadata": {},
     "output_type": "execute_result"
    }
   ],
   "source": [
    "# Qual a proporção de quem não soube a escolaridade do pai agrupado por renda? (5 grupos mais representativos somam 76%)\n",
    "\n",
    "df['Renda'][df['Q001']=='H'].value_counts(normalize=True).round(2).head(5)"
   ]
  },
  {
   "cell_type": "code",
   "execution_count": 142,
   "id": "7fbb7e42",
   "metadata": {},
   "outputs": [
    {
     "data": {
      "text/plain": [
       "Etnia\n",
       "Parda            0.48\n",
       "Branca           0.31\n",
       "Preta            0.15\n",
       "Não declarado    0.03\n",
       "Amarela          0.02\n",
       "Name: proportion, dtype: float64"
      ]
     },
     "execution_count": 142,
     "metadata": {},
     "output_type": "execute_result"
    }
   ],
   "source": [
    "# Qual a proporção de quem não soube a escolaridade do pai agrupado por etnia?\n",
    "df['Etnia'][df['Q001']=='H'].value_counts(normalize=True).round(2).head(5)"
   ]
  },
  {
   "cell_type": "markdown",
   "id": "130cfa6e",
   "metadata": {},
   "source": [
    "## Conclusões sobre questões socioeconômicas:\n",
    "\n",
    "-> 62% dos inscritos tinham renda familiar de até R$ 3k\n",
    "Analisando por etnias:\n",
    "-> Brancos são a única etnia onde inscritos sem nenhuma renda não estão entre os 5 grupos de renda familiar mais representativos\n",
    "-> Indígenas são os com maior proporção de sem nenhuma renda, com 17%. Nas demais etnias esse grupo não chega a 10%\n",
    "-> Brancos têm a menor desigualdade de renda entre as etnias, com as 5 faixas de rendas mais representativas somando 61% do total\n",
    "-> 50% dos que não sabem a escolaridade do pai têm renda familiar até R$ 1,2k\n",
    "-> 76% que não sabem a escolaridade do pai têm renda familiar até R$ 3K"
   ]
  },
  {
   "cell_type": "markdown",
   "id": "5f30f4a4",
   "metadata": {},
   "source": [
    "## Análise das notas de matemática"
   ]
  },
  {
   "cell_type": "code",
   "execution_count": 131,
   "id": "7b3bd4c8",
   "metadata": {},
   "outputs": [
    {
     "data": {
      "text/plain": [
       "542.5"
      ]
     },
     "execution_count": 131,
     "metadata": {},
     "output_type": "execute_result"
    }
   ],
   "source": [
    "# Qual a média das notas de matemática? (Não é necessário considerar apenas quem fez a prova, o valor abaixo é o mesmo que se filtrar quem esteve presente pelo campo TP_PRESENCA_MT)\n",
    "df['NU_NOTA_MT'].mean().round(2)"
   ]
  },
  {
   "cell_type": "code",
   "execution_count": 171,
   "id": "e23d7f7c",
   "metadata": {},
   "outputs": [
    {
     "data": {
      "text/plain": [
       "Etnia\n",
       "Branca           0.44\n",
       "Parda            0.41\n",
       "Preta            0.11\n",
       "Amarela          0.02\n",
       "Não declarado    0.02\n",
       "Indígena         0.00\n",
       "Name: proportion, dtype: float64"
      ]
     },
     "execution_count": 171,
     "metadata": {},
     "output_type": "execute_result"
    }
   ],
   "source": [
    "# Qual a proporção da etnia dos que fizeram a prova de matemática?\n",
    "df['Etnia'][df['TP_PRESENCA_MT']==1].value_counts(normalize=True).round(2).sort_values(ascending=False)"
   ]
  },
  {
   "cell_type": "code",
   "execution_count": 133,
   "id": "2777ce39",
   "metadata": {},
   "outputs": [
    {
     "data": {
      "text/plain": [
       "Matematica_maior_700\n",
       "True     0.07\n",
       "False    0.93\n",
       "Name: proportion, dtype: float64"
      ]
     },
     "execution_count": 133,
     "metadata": {},
     "output_type": "execute_result"
    }
   ],
   "source": [
    "# Qual a proporção de quem tirou mais que 700 em matemática?\n",
    "df['Matematica_maior_700'] = df['NU_NOTA_MT'] > 700\n",
    "df['Matematica_maior_700'].value_counts(normalize=True).round(2).sort_index(ascending=False)"
   ]
  },
  {
   "cell_type": "code",
   "execution_count": 173,
   "id": "bc2bc941",
   "metadata": {},
   "outputs": [
    {
     "data": {
      "text/plain": [
       "Etnia\n",
       "Branca           0.67\n",
       "Parda            0.25\n",
       "Preta            0.04\n",
       "Amarela          0.02\n",
       "Não declarado    0.02\n",
       "Indígena         0.00\n",
       "Name: proportion, dtype: float64"
      ]
     },
     "execution_count": 173,
     "metadata": {},
     "output_type": "execute_result"
    }
   ],
   "source": [
    "# Qual a proporção étnica dos que tiraram acima de 700 em matemática?\n",
    "df['Etnia'][df['Matematica_maior_700']].value_counts(normalize=True).round(2).sort_values(ascending=False)"
   ]
  },
  {
   "cell_type": "code",
   "execution_count": 137,
   "id": "75c3bfda",
   "metadata": {},
   "outputs": [
    {
     "data": {
      "text/plain": [
       "Matematica_maior_700\n",
       "True     0.21\n",
       "False    0.79\n",
       "Name: proportion, dtype: float64"
      ]
     },
     "execution_count": 137,
     "metadata": {},
     "output_type": "execute_result"
    }
   ],
   "source": [
    "# Qual a proporção de notas de matemática maiores que 700 conforme a renda familiar maior que R$ 4,8k?\n",
    "# Q006 = Qual é a renda mensal de sua família? (Some a sua renda com a dos seus familiares.)\n",
    "# Renda familiar maior que R$ 4,8k\n",
    "# Q006 com respostas H em diante\n",
    "\n",
    "df['Matematica_maior_700'][df['Q006'].isin(['H','I','J','K','L','M','N','O','P','Q'])].value_counts(normalize=True).round(2).sort_index(ascending=False)"
   ]
  },
  {
   "cell_type": "code",
   "execution_count": 143,
   "id": "988415c4",
   "metadata": {},
   "outputs": [
    {
     "data": {
      "text/plain": [
       "Matematica_maior_700\n",
       "True     0.34\n",
       "False    0.66\n",
       "Name: proportion, dtype: float64"
      ]
     },
     "execution_count": 143,
     "metadata": {},
     "output_type": "execute_result"
    }
   ],
   "source": [
    "# Qual a proporção de notas de matemática maiores que 700 do grupo com maior renda familiar (Q006 = Q, acima de R$ 24,2k)?\n",
    "df['Matematica_maior_700'][df['Q006'] == 'Q'].value_counts(normalize=True).round(2).sort_index(ascending=False)"
   ]
  },
  {
   "cell_type": "code",
   "execution_count": 135,
   "id": "948c0320",
   "metadata": {},
   "outputs": [
    {
     "data": {
      "text/plain": [
       "Matematica_maior_700\n",
       "True     0.24\n",
       "False    0.76\n",
       "Name: proportion, dtype: float64"
      ]
     },
     "execution_count": 135,
     "metadata": {},
     "output_type": "execute_result"
    }
   ],
   "source": [
    "# Como é a distribuição da nota de matemática de quem teve o pai E a mãe com graduação ou pós graduação?\n",
    "# Q001: Até que série seu pai, ou o homem responsável por você, estudou?\n",
    "# Com F = Completou a graduação e G = Completou a pós graduação\n",
    "df['Matematica_maior_700'][(df['Q001'].isin(['F','G'])) & (df['Q002'].isin(['F','G']))].value_counts(normalize=True).round(2).sort_index(ascending=False)"
   ]
  },
  {
   "cell_type": "code",
   "execution_count": 136,
   "id": "01fa3eda",
   "metadata": {},
   "outputs": [
    {
     "data": {
      "text/plain": [
       "Matematica_maior_700\n",
       "True     0.26\n",
       "False    0.74\n",
       "Name: proportion, dtype: float64"
      ]
     },
     "execution_count": 136,
     "metadata": {},
     "output_type": "execute_result"
    }
   ],
   "source": [
    "# Como é a distribuição da nota de matemática de quem teve o pai E a mãe com pós graduação?\n",
    "df['Matematica_maior_700'][(df['Q001'].isin(['G'])) & (df['Q002'].isin(['G']))].value_counts(normalize=True).round(2).sort_index(ascending=False)"
   ]
  },
  {
   "cell_type": "markdown",
   "id": "445918cb",
   "metadata": {},
   "source": [
    "## Conclusões sobre desempenho em matemática\n",
    "\n",
    "-> A média de matemática foi 542\n",
    "-> 7% dos que fizeram a prova tiraram mais que 700 \n",
    "-> Considerando quem tem renda familiar maior que R$ 4,8k, 21% tirou mais que 700\n",
    "-> Considerando quem tem a maior renda familiar (R$ 24,2k), 34% tirou mais que 700\n",
    "-> Considerando quem tem pai e mãe com graduação ou pós graduação, 24% tiraram mais que 700\n",
    "-> Considerando quem tem pai e mãe com pós graduação, 26% tiraram mais que 700"
   ]
  }
 ],
 "metadata": {
  "kernelspec": {
   "display_name": "Python 3 (ipykernel)",
   "language": "python",
   "name": "python3"
  },
  "language_info": {
   "codemirror_mode": {
    "name": "ipython",
    "version": 3
   },
   "file_extension": ".py",
   "mimetype": "text/x-python",
   "name": "python",
   "nbconvert_exporter": "python",
   "pygments_lexer": "ipython3",
   "version": "3.11.4"
  }
 },
 "nbformat": 4,
 "nbformat_minor": 5
}
