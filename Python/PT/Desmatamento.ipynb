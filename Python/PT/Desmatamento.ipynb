{
 "cells": [
  {
   "cell_type": "code",
   "execution_count": 125,
   "id": "d5313490-9740-4da1-ae50-192cb4348ac4",
   "metadata": {},
   "outputs": [],
   "source": [
    "import pandas as pd\n",
    "import polars as pl\n",
    "import matplotlib.pyplot as plt\n",
    "import matplotlib.ticker as ticker\n",
    "import seaborn\n",
    "\n",
    "import zipfile\n",
    "import time\n",
    "import os\n",
    "import io\n",
    "from scipy.stats import pearsonr"
   ]
  },
  {
   "cell_type": "markdown",
   "id": "dc93e88e-fbc4-4af3-931e-9a66abc06148",
   "metadata": {},
   "source": [
    "<h3> 1. Informações de desmatamento </h3>"
   ]
  },
  {
   "cell_type": "code",
   "execution_count": 126,
   "id": "ac59e5e8-678f-4c72-a13e-fa7eebd56b37",
   "metadata": {},
   "outputs": [
    {
     "data": {
      "text/html": [
       "<div>\n",
       "<style scoped>\n",
       "    .dataframe tbody tr th:only-of-type {\n",
       "        vertical-align: middle;\n",
       "    }\n",
       "\n",
       "    .dataframe tbody tr th {\n",
       "        vertical-align: top;\n",
       "    }\n",
       "\n",
       "    .dataframe thead th {\n",
       "        text-align: right;\n",
       "    }\n",
       "</style>\n",
       "<table border=\"1\" class=\"dataframe\">\n",
       "  <thead>\n",
       "    <tr style=\"text-align: right;\">\n",
       "      <th></th>\n",
       "      <th>ano</th>\n",
       "      <th>id_municipio</th>\n",
       "      <th>bioma</th>\n",
       "      <th>area_total</th>\n",
       "      <th>desmatado</th>\n",
       "      <th>vegetacao_natural</th>\n",
       "      <th>nao_vegetacao_natural</th>\n",
       "      <th>hidrografia</th>\n",
       "    </tr>\n",
       "  </thead>\n",
       "  <tbody>\n",
       "    <tr>\n",
       "      <th>0</th>\n",
       "      <td>2012</td>\n",
       "      <td>1707207</td>\n",
       "      <td>Amazônia</td>\n",
       "      <td>0</td>\n",
       "      <td>61.9</td>\n",
       "      <td>-62.1</td>\n",
       "      <td>0.2</td>\n",
       "      <td>0.0</td>\n",
       "    </tr>\n",
       "    <tr>\n",
       "      <th>1</th>\n",
       "      <td>2004</td>\n",
       "      <td>1707207</td>\n",
       "      <td>Amazônia</td>\n",
       "      <td>0</td>\n",
       "      <td>60.0</td>\n",
       "      <td>-60.2</td>\n",
       "      <td>0.2</td>\n",
       "      <td>0.0</td>\n",
       "    </tr>\n",
       "    <tr>\n",
       "      <th>2</th>\n",
       "      <td>2015</td>\n",
       "      <td>1707207</td>\n",
       "      <td>Amazônia</td>\n",
       "      <td>0</td>\n",
       "      <td>61.9</td>\n",
       "      <td>-62.1</td>\n",
       "      <td>0.2</td>\n",
       "      <td>0.0</td>\n",
       "    </tr>\n",
       "  </tbody>\n",
       "</table>\n",
       "</div>"
      ],
      "text/plain": [
       "    ano  id_municipio     bioma  area_total  desmatado  vegetacao_natural  \\\n",
       "0  2012       1707207  Amazônia           0       61.9              -62.1   \n",
       "1  2004       1707207  Amazônia           0       60.0              -60.2   \n",
       "2  2015       1707207  Amazônia           0       61.9              -62.1   \n",
       "\n",
       "   nao_vegetacao_natural  hidrografia  \n",
       "0                    0.2          0.0  \n",
       "1                    0.2          0.0  \n",
       "2                    0.2          0.0  "
      ]
     },
     "execution_count": 126,
     "metadata": {},
     "output_type": "execute_result"
    }
   ],
   "source": [
    "df_desmatamento = pd.read_csv('br_inpe_prodes_municipio_bioma.csv')\n",
    "df_desmatamento.head(3)"
   ]
  },
  {
   "cell_type": "code",
   "execution_count": 127,
   "id": "01847b5e-f5ae-4892-94ea-72e3ccf6781e",
   "metadata": {},
   "outputs": [
    {
     "name": "stdout",
     "output_type": "stream",
     "text": [
      "<class 'pandas.core.frame.DataFrame'>\n",
      "RangeIndex: 150328 entries, 0 to 150327\n",
      "Data columns (total 8 columns):\n",
      " #   Column                 Non-Null Count   Dtype  \n",
      "---  ------                 --------------   -----  \n",
      " 0   ano                    150328 non-null  int64  \n",
      " 1   id_municipio           150328 non-null  int64  \n",
      " 2   bioma                  150328 non-null  object \n",
      " 3   area_total             150328 non-null  int64  \n",
      " 4   desmatado              150328 non-null  float64\n",
      " 5   vegetacao_natural      150328 non-null  float64\n",
      " 6   nao_vegetacao_natural  150328 non-null  float64\n",
      " 7   hidrografia            150328 non-null  float64\n",
      "dtypes: float64(4), int64(3), object(1)\n",
      "memory usage: 9.2+ MB\n"
     ]
    }
   ],
   "source": [
    "df_desmatamento.info()"
   ]
  },
  {
   "cell_type": "code",
   "execution_count": 128,
   "id": "1053b32d-a68f-469d-b92a-3050fef620e4",
   "metadata": {},
   "outputs": [],
   "source": [
    "# puxar nome da cidade\n",
    "df_municipios = pd.read_csv('cod_mun.csv', delimiter=';')\n",
    "df_desmatamento = df_desmatamento.merge(df_municipios, left_on='id_municipio', right_on='COD_MUN_EFD')\n",
    "df_desmatamento = df_desmatamento[['ano', 'id_municipio', 'Nome_Município', 'bioma', 'area_total', 'desmatado',\n",
    "       'vegetacao_natural', 'nao_vegetacao_natural', 'hidrografia']]"
   ]
  },
  {
   "cell_type": "code",
   "execution_count": 129,
   "id": "117bd427-10a7-4cfc-a11e-2b6b80eb4cac",
   "metadata": {},
   "outputs": [],
   "source": [
    "# incluir a unidade de medida de cada coluna\n",
    "df_desmatamento.rename(columns={'area_total': 'area_total_km2', 'desmatado': 'desmatado_km2', 'Nome_Município':  'município', 'vegetacao_natural': 'vegetacao_natural_km2', 'nao_vegetacao_natural': 'nao_vegetacao_natural_v2', 'hidrografia': 'hidrografia_km2'},inplace=True)"
   ]
  },
  {
   "cell_type": "code",
   "execution_count": 130,
   "id": "64639fa8-8e34-44dc-86e9-905661a4a0c0",
   "metadata": {},
   "outputs": [
    {
     "data": {
      "text/html": [
       "<style type=\"text/css\">\n",
       "</style>\n",
       "<table id=\"T_f250a\">\n",
       "  <thead>\n",
       "    <tr>\n",
       "      <th class=\"blank level0\" >&nbsp;</th>\n",
       "      <th id=\"T_f250a_level0_col0\" class=\"col_heading level0 col0\" >desmatado_km2</th>\n",
       "      <th id=\"T_f250a_level0_col1\" class=\"col_heading level0 col1\" >area_total_km2</th>\n",
       "      <th id=\"T_f250a_level0_col2\" class=\"col_heading level0 col2\" >proporcao_desmatada</th>\n",
       "    </tr>\n",
       "    <tr>\n",
       "      <th class=\"index_name level0\" >bioma</th>\n",
       "      <th class=\"blank col0\" >&nbsp;</th>\n",
       "      <th class=\"blank col1\" >&nbsp;</th>\n",
       "      <th class=\"blank col2\" >&nbsp;</th>\n",
       "    </tr>\n",
       "  </thead>\n",
       "  <tbody>\n",
       "    <tr>\n",
       "      <th id=\"T_f250a_level0_row0\" class=\"row_heading level0 row0\" >Mata Atlântica</th>\n",
       "      <td id=\"T_f250a_row0_col0\" class=\"data row0 col0\" >17,691,627</td>\n",
       "      <td id=\"T_f250a_row0_col1\" class=\"data row0 col1\" >25,421,923</td>\n",
       "      <td id=\"T_f250a_row0_col2\" class=\"data row0 col2\" >0.7</td>\n",
       "    </tr>\n",
       "    <tr>\n",
       "      <th id=\"T_f250a_level0_row1\" class=\"row_heading level0 row1\" >Pampa</th>\n",
       "      <td id=\"T_f250a_row1_col0\" class=\"data row1 col0\" >2,295,051</td>\n",
       "      <td id=\"T_f250a_row1_col1\" class=\"data row1 col1\" >4,155,088</td>\n",
       "      <td id=\"T_f250a_row1_col2\" class=\"data row1 col2\" >0.55</td>\n",
       "    </tr>\n",
       "    <tr>\n",
       "      <th id=\"T_f250a_level0_row2\" class=\"row_heading level0 row2\" >Cerrado</th>\n",
       "      <td id=\"T_f250a_row2_col0\" class=\"data row2 col0\" >20,520,013</td>\n",
       "      <td id=\"T_f250a_row2_col1\" class=\"data row2 col1\" >45,628,573</td>\n",
       "      <td id=\"T_f250a_row2_col2\" class=\"data row2 col2\" >0.45</td>\n",
       "    </tr>\n",
       "    <tr>\n",
       "      <th id=\"T_f250a_level0_row3\" class=\"row_heading level0 row3\" >Caatinga</th>\n",
       "      <td id=\"T_f250a_row3_col0\" class=\"data row3 col0\" >7,544,136</td>\n",
       "      <td id=\"T_f250a_row3_col1\" class=\"data row3 col1\" >19,826,851</td>\n",
       "      <td id=\"T_f250a_row3_col2\" class=\"data row3 col2\" >0.38</td>\n",
       "    </tr>\n",
       "    <tr>\n",
       "      <th id=\"T_f250a_level0_row4\" class=\"row_heading level0 row4\" >Amazônia</th>\n",
       "      <td id=\"T_f250a_row4_col0\" class=\"data row4 col0\" >15,066,884</td>\n",
       "      <td id=\"T_f250a_row4_col1\" class=\"data row4 col1\" >96,815,671</td>\n",
       "      <td id=\"T_f250a_row4_col2\" class=\"data row4 col2\" >0.16</td>\n",
       "    </tr>\n",
       "    <tr>\n",
       "      <th id=\"T_f250a_level0_row5\" class=\"row_heading level0 row5\" >Pantanal</th>\n",
       "      <td id=\"T_f250a_row5_col0\" class=\"data row5 col0\" >522,872</td>\n",
       "      <td id=\"T_f250a_row5_col1\" class=\"data row5 col1\" >3,471,850</td>\n",
       "      <td id=\"T_f250a_row5_col2\" class=\"data row5 col2\" >0.15</td>\n",
       "    </tr>\n",
       "  </tbody>\n",
       "</table>\n"
      ],
      "text/plain": [
       "<pandas.io.formats.style.Styler at 0x2635ca810d0>"
      ]
     },
     "execution_count": 130,
     "metadata": {},
     "output_type": "execute_result"
    }
   ],
   "source": [
    "# qual a proporção de área desmatada por bioma?\n",
    "df_desmatamento_bioma = df_desmatamento.groupby('bioma')[['desmatado_km2','area_total_km2']].sum()\n",
    "df_desmatamento_bioma['proporcao_desmatada'] = (df_desmatamento_bioma['desmatado_km2']/df_desmatamento_bioma['area_total_km2']).round(2)\n",
    "df_desmatamento_bioma.sort_values(by='proporcao_desmatada',ascending=False,inplace=True)\n",
    "df_desmatamento_bioma['desmatado_km2'] = df_desmatamento_bioma['desmatado_km2'].astype(int)\n",
    "df_desmatamento_bioma = df_desmatamento_bioma.style.format({\n",
    "    'desmatado_km2': '{:,.0f}'.format,\n",
    "    'area_total_km2': '{:,.0f}'.format,\n",
    "    'proporcao_desmatada': '{:.2}'.format\n",
    "})\n",
    "df_desmatamento_bioma"
   ]
  },
  {
   "cell_type": "code",
   "execution_count": 131,
   "id": "2d4c45db-20b3-4472-9671-15338f395ee5",
   "metadata": {},
   "outputs": [
    {
     "data": {
      "text/plain": [
       "Text(0.5, 0, '')"
      ]
     },
     "execution_count": 131,
     "metadata": {},
     "output_type": "execute_result"
    },
    {
     "data": {
      "image/png": "[encoded data removed]",
      "text/plain": [
       "<Figure size 400x300 with 1 Axes>"
      ]
     },
     "metadata": {},
     "output_type": "display_data"
    }
   ],
   "source": [
    "# qual a área desmatada por ano?\n",
    "df_desmatamento_ano = df_desmatamento.groupby('ano')['desmatado_km2'].sum().reset_index()\n",
    "\n",
    "graph = df_desmatamento_ano.plot.line(x='ano',y='desmatado_km2',figsize=(4,3),title='Área desmatada por ano (2000 a 2022)',legend=False,ylabel='mi km²')\n",
    "graph.yaxis.set_major_formatter(ticker.FuncFormatter(lambda x, _: f'{x / 1e6:.1f}'))\n",
    "graph.set_xlabel('')"
   ]
  },
  {
   "cell_type": "markdown",
   "id": "97e31d57-21d0-4e80-94ea-5123ad81aadd",
   "metadata": {},
   "source": [
    "<hr>"
   ]
  },
  {
   "cell_type": "markdown",
   "id": "91cee798-5650-40ea-9585-9022c2bd819c",
   "metadata": {},
   "source": [
    "<h3> 2. Informações de temperatura média </h3>"
   ]
  },
  {
   "cell_type": "markdown",
   "id": "61c7bfe7-4ec1-4084-8eaf-274036c16043",
   "metadata": {},
   "source": [
    "https://www.kaggle.com/datasets/maxwelfreitas/daily-max-and-min-temperatures-southeast-brazil"
   ]
  },
  {
   "cell_type": "code",
   "execution_count": 96,
   "id": "e7aa473a-cba0-485f-aa41-160a65244406",
   "metadata": {},
   "outputs": [
    {
     "name": "stderr",
     "output_type": "stream",
     "text": [
      "C:\\Users\\bserpellone\\AppData\\Local\\Temp\\ipykernel_8280\\3491921984.py:1: DtypeWarning: Columns (1) have mixed types. Specify dtype option on import or set low_memory=False.\n",
      "  df_temp = pd.read_csv('daily_min_max_temp_br_se.csv',dtype={'station_name':str, 'max_temperature': float})\n"
     ]
    },
    {
     "data": {
      "text/html": [
       "<div>\n",
       "<style scoped>\n",
       "    .dataframe tbody tr th:only-of-type {\n",
       "        vertical-align: middle;\n",
       "    }\n",
       "\n",
       "    .dataframe tbody tr th {\n",
       "        vertical-align: top;\n",
       "    }\n",
       "\n",
       "    .dataframe thead th {\n",
       "        text-align: right;\n",
       "    }\n",
       "</style>\n",
       "<table border=\"1\" class=\"dataframe\">\n",
       "  <thead>\n",
       "    <tr style=\"text-align: right;\">\n",
       "      <th></th>\n",
       "      <th>station_name</th>\n",
       "      <th>station_id</th>\n",
       "      <th>latitude</th>\n",
       "      <th>longitude</th>\n",
       "      <th>altitude</th>\n",
       "      <th>measure_date</th>\n",
       "      <th>max_temperature</th>\n",
       "      <th>min_temperature</th>\n",
       "    </tr>\n",
       "  </thead>\n",
       "  <tbody>\n",
       "    <tr>\n",
       "      <th>0</th>\n",
       "      <td>ALTO DA BOA VISTA</td>\n",
       "      <td>83007</td>\n",
       "      <td>-22.965833</td>\n",
       "      <td>-43.279167</td>\n",
       "      <td>347.1</td>\n",
       "      <td>2000-01-01</td>\n",
       "      <td>31.4</td>\n",
       "      <td>21.2</td>\n",
       "    </tr>\n",
       "    <tr>\n",
       "      <th>1</th>\n",
       "      <td>ALTO DA BOA VISTA</td>\n",
       "      <td>83007</td>\n",
       "      <td>-22.965833</td>\n",
       "      <td>-43.279167</td>\n",
       "      <td>347.1</td>\n",
       "      <td>2000-01-02</td>\n",
       "      <td>26.8</td>\n",
       "      <td>21.0</td>\n",
       "    </tr>\n",
       "    <tr>\n",
       "      <th>2</th>\n",
       "      <td>ALTO DA BOA VISTA</td>\n",
       "      <td>83007</td>\n",
       "      <td>-22.965833</td>\n",
       "      <td>-43.279167</td>\n",
       "      <td>347.1</td>\n",
       "      <td>2000-01-03</td>\n",
       "      <td>NaN</td>\n",
       "      <td>19.9</td>\n",
       "    </tr>\n",
       "    <tr>\n",
       "      <th>3</th>\n",
       "      <td>ALTO DA BOA VISTA</td>\n",
       "      <td>83007</td>\n",
       "      <td>-22.965833</td>\n",
       "      <td>-43.279167</td>\n",
       "      <td>347.1</td>\n",
       "      <td>2000-01-04</td>\n",
       "      <td>NaN</td>\n",
       "      <td>21.2</td>\n",
       "    </tr>\n",
       "    <tr>\n",
       "      <th>4</th>\n",
       "      <td>ALTO DA BOA VISTA</td>\n",
       "      <td>83007</td>\n",
       "      <td>-22.965833</td>\n",
       "      <td>-43.279167</td>\n",
       "      <td>347.1</td>\n",
       "      <td>2000-01-05</td>\n",
       "      <td>33.4</td>\n",
       "      <td>20.7</td>\n",
       "    </tr>\n",
       "  </tbody>\n",
       "</table>\n",
       "</div>"
      ],
      "text/plain": [
       "        station_name station_id   latitude  longitude  altitude measure_date  \\\n",
       "0  ALTO DA BOA VISTA      83007 -22.965833 -43.279167     347.1   2000-01-01   \n",
       "1  ALTO DA BOA VISTA      83007 -22.965833 -43.279167     347.1   2000-01-02   \n",
       "2  ALTO DA BOA VISTA      83007 -22.965833 -43.279167     347.1   2000-01-03   \n",
       "3  ALTO DA BOA VISTA      83007 -22.965833 -43.279167     347.1   2000-01-04   \n",
       "4  ALTO DA BOA VISTA      83007 -22.965833 -43.279167     347.1   2000-01-05   \n",
       "\n",
       "   max_temperature  min_temperature  \n",
       "0             31.4             21.2  \n",
       "1             26.8             21.0  \n",
       "2              NaN             19.9  \n",
       "3              NaN             21.2  \n",
       "4             33.4             20.7  "
      ]
     },
     "execution_count": 96,
     "metadata": {},
     "output_type": "execute_result"
    }
   ],
   "source": [
    "df_temp = pd.read_csv('daily_min_max_temp_br_se.csv',dtype={'station_name':str, 'max_temperature': float})\n",
    "df_temp.head(5)"
   ]
  },
  {
   "cell_type": "code",
   "execution_count": 97,
   "id": "992c9289-8ba6-4d6a-9ccb-52115e542904",
   "metadata": {},
   "outputs": [
    {
     "name": "stdout",
     "output_type": "stream",
     "text": [
      "<class 'pandas.core.frame.DataFrame'>\n",
      "RangeIndex: 1619299 entries, 0 to 1619298\n",
      "Data columns (total 8 columns):\n",
      " #   Column           Non-Null Count    Dtype  \n",
      "---  ------           --------------    -----  \n",
      " 0   station_name     1619299 non-null  object \n",
      " 1   station_id       1619299 non-null  object \n",
      " 2   latitude         1619299 non-null  float64\n",
      " 3   longitude        1619299 non-null  float64\n",
      " 4   altitude         1619299 non-null  float64\n",
      " 5   measure_date     1619299 non-null  object \n",
      " 6   max_temperature  1395282 non-null  float64\n",
      " 7   min_temperature  1399893 non-null  float64\n",
      "dtypes: float64(5), object(3)\n",
      "memory usage: 98.8+ MB\n"
     ]
    }
   ],
   "source": [
    "df_temp.info()"
   ]
  },
  {
   "cell_type": "code",
   "execution_count": 98,
   "id": "5396a8bf-d7fb-46cd-8350-5011ab4f206b",
   "metadata": {},
   "outputs": [],
   "source": [
    "df_temp['measure_date'] = pd.to_datetime(df_temp['measure_date'],format='%Y-%m-%d')\n",
    "df_temp['ano'] = df_temp['measure_date'].dt.year\n",
    "df_temp = df_temp[df_temp['ano']<=2022]\n",
    "df_temp['max_temperature'] = df_temp.groupby('ano')['max_temperature'].transform(\n",
    "    lambda x: x.fillna(x.mean()))"
   ]
  },
  {
   "cell_type": "code",
   "execution_count": 135,
   "id": "540e93ba-0905-467e-9bea-5823906ae5a7",
   "metadata": {},
   "outputs": [
    {
     "data": {
      "text/html": [
       "<div>\n",
       "<style scoped>\n",
       "    .dataframe tbody tr th:only-of-type {\n",
       "        vertical-align: middle;\n",
       "    }\n",
       "\n",
       "    .dataframe tbody tr th {\n",
       "        vertical-align: top;\n",
       "    }\n",
       "\n",
       "    .dataframe thead th {\n",
       "        text-align: right;\n",
       "    }\n",
       "</style>\n",
       "<table border=\"1\" class=\"dataframe\">\n",
       "  <thead>\n",
       "    <tr style=\"text-align: right;\">\n",
       "      <th></th>\n",
       "      <th>station_name</th>\n",
       "      <th>station_id</th>\n",
       "      <th>latitude</th>\n",
       "      <th>longitude</th>\n",
       "      <th>altitude</th>\n",
       "      <th>measure_date</th>\n",
       "      <th>max_temperature</th>\n",
       "      <th>min_temperature</th>\n",
       "      <th>ano</th>\n",
       "    </tr>\n",
       "  </thead>\n",
       "  <tbody>\n",
       "    <tr>\n",
       "      <th>0</th>\n",
       "      <td>ALTO DA BOA VISTA</td>\n",
       "      <td>83007</td>\n",
       "      <td>-22.965833</td>\n",
       "      <td>-43.279167</td>\n",
       "      <td>347.1</td>\n",
       "      <td>2000-01-01</td>\n",
       "      <td>31.400000</td>\n",
       "      <td>21.2</td>\n",
       "      <td>2000</td>\n",
       "    </tr>\n",
       "    <tr>\n",
       "      <th>1</th>\n",
       "      <td>ALTO DA BOA VISTA</td>\n",
       "      <td>83007</td>\n",
       "      <td>-22.965833</td>\n",
       "      <td>-43.279167</td>\n",
       "      <td>347.1</td>\n",
       "      <td>2000-01-02</td>\n",
       "      <td>26.800000</td>\n",
       "      <td>21.0</td>\n",
       "      <td>2000</td>\n",
       "    </tr>\n",
       "    <tr>\n",
       "      <th>2</th>\n",
       "      <td>ALTO DA BOA VISTA</td>\n",
       "      <td>83007</td>\n",
       "      <td>-22.965833</td>\n",
       "      <td>-43.279167</td>\n",
       "      <td>347.1</td>\n",
       "      <td>2000-01-03</td>\n",
       "      <td>28.510082</td>\n",
       "      <td>19.9</td>\n",
       "      <td>2000</td>\n",
       "    </tr>\n",
       "    <tr>\n",
       "      <th>3</th>\n",
       "      <td>ALTO DA BOA VISTA</td>\n",
       "      <td>83007</td>\n",
       "      <td>-22.965833</td>\n",
       "      <td>-43.279167</td>\n",
       "      <td>347.1</td>\n",
       "      <td>2000-01-04</td>\n",
       "      <td>28.510082</td>\n",
       "      <td>21.2</td>\n",
       "      <td>2000</td>\n",
       "    </tr>\n",
       "    <tr>\n",
       "      <th>4</th>\n",
       "      <td>ALTO DA BOA VISTA</td>\n",
       "      <td>83007</td>\n",
       "      <td>-22.965833</td>\n",
       "      <td>-43.279167</td>\n",
       "      <td>347.1</td>\n",
       "      <td>2000-01-05</td>\n",
       "      <td>33.400000</td>\n",
       "      <td>20.7</td>\n",
       "      <td>2000</td>\n",
       "    </tr>\n",
       "    <tr>\n",
       "      <th>...</th>\n",
       "      <td>...</td>\n",
       "      <td>...</td>\n",
       "      <td>...</td>\n",
       "      <td>...</td>\n",
       "      <td>...</td>\n",
       "      <td>...</td>\n",
       "      <td>...</td>\n",
       "      <td>...</td>\n",
       "      <td>...</td>\n",
       "    </tr>\n",
       "    <tr>\n",
       "      <th>1612878</th>\n",
       "      <td>SAO SIMAO</td>\n",
       "      <td>A770</td>\n",
       "      <td>-21.461111</td>\n",
       "      <td>-47.579444</td>\n",
       "      <td>620.0</td>\n",
       "      <td>2022-12-27</td>\n",
       "      <td>28.800000</td>\n",
       "      <td>21.1</td>\n",
       "      <td>2022</td>\n",
       "    </tr>\n",
       "    <tr>\n",
       "      <th>1612879</th>\n",
       "      <td>SAO SIMAO</td>\n",
       "      <td>A770</td>\n",
       "      <td>-21.461111</td>\n",
       "      <td>-47.579444</td>\n",
       "      <td>620.0</td>\n",
       "      <td>2022-12-28</td>\n",
       "      <td>27.800000</td>\n",
       "      <td>19.5</td>\n",
       "      <td>2022</td>\n",
       "    </tr>\n",
       "    <tr>\n",
       "      <th>1612880</th>\n",
       "      <td>SAO SIMAO</td>\n",
       "      <td>A770</td>\n",
       "      <td>-21.461111</td>\n",
       "      <td>-47.579444</td>\n",
       "      <td>620.0</td>\n",
       "      <td>2022-12-29</td>\n",
       "      <td>28.300000</td>\n",
       "      <td>19.2</td>\n",
       "      <td>2022</td>\n",
       "    </tr>\n",
       "    <tr>\n",
       "      <th>1612881</th>\n",
       "      <td>SAO SIMAO</td>\n",
       "      <td>A770</td>\n",
       "      <td>-21.461111</td>\n",
       "      <td>-47.579444</td>\n",
       "      <td>620.0</td>\n",
       "      <td>2022-12-30</td>\n",
       "      <td>29.100000</td>\n",
       "      <td>20.4</td>\n",
       "      <td>2022</td>\n",
       "    </tr>\n",
       "    <tr>\n",
       "      <th>1612882</th>\n",
       "      <td>SAO SIMAO</td>\n",
       "      <td>A770</td>\n",
       "      <td>-21.461111</td>\n",
       "      <td>-47.579444</td>\n",
       "      <td>620.0</td>\n",
       "      <td>2022-12-31</td>\n",
       "      <td>30.100000</td>\n",
       "      <td>19.9</td>\n",
       "      <td>2022</td>\n",
       "    </tr>\n",
       "  </tbody>\n",
       "</table>\n",
       "<p>887532 rows × 9 columns</p>\n",
       "</div>"
      ],
      "text/plain": [
       "              station_name station_id   latitude  longitude  altitude  \\\n",
       "0        ALTO DA BOA VISTA      83007 -22.965833 -43.279167     347.1   \n",
       "1        ALTO DA BOA VISTA      83007 -22.965833 -43.279167     347.1   \n",
       "2        ALTO DA BOA VISTA      83007 -22.965833 -43.279167     347.1   \n",
       "3        ALTO DA BOA VISTA      83007 -22.965833 -43.279167     347.1   \n",
       "4        ALTO DA BOA VISTA      83007 -22.965833 -43.279167     347.1   \n",
       "...                    ...        ...        ...        ...       ...   \n",
       "1612878          SAO SIMAO       A770 -21.461111 -47.579444     620.0   \n",
       "1612879          SAO SIMAO       A770 -21.461111 -47.579444     620.0   \n",
       "1612880          SAO SIMAO       A770 -21.461111 -47.579444     620.0   \n",
       "1612881          SAO SIMAO       A770 -21.461111 -47.579444     620.0   \n",
       "1612882          SAO SIMAO       A770 -21.461111 -47.579444     620.0   \n",
       "\n",
       "        measure_date  max_temperature  min_temperature   ano  \n",
       "0         2000-01-01        31.400000             21.2  2000  \n",
       "1         2000-01-02        26.800000             21.0  2000  \n",
       "2         2000-01-03        28.510082             19.9  2000  \n",
       "3         2000-01-04        28.510082             21.2  2000  \n",
       "4         2000-01-05        33.400000             20.7  2000  \n",
       "...              ...              ...              ...   ...  \n",
       "1612878   2022-12-27        28.800000             21.1  2022  \n",
       "1612879   2022-12-28        27.800000             19.5  2022  \n",
       "1612880   2022-12-29        28.300000             19.2  2022  \n",
       "1612881   2022-12-30        29.100000             20.4  2022  \n",
       "1612882   2022-12-31        30.100000             19.9  2022  \n",
       "\n",
       "[887532 rows x 9 columns]"
      ]
     },
     "execution_count": 135,
     "metadata": {},
     "output_type": "execute_result"
    }
   ],
   "source": [
    "anos_totais = df_temp['ano'].nunique()\n",
    "stations_completas = df_temp.groupby('station_name')['ano'].nunique()\n",
    "stations_completas = stations_completas[stations_completas == anos_totais].index\n",
    "df_temp_filtrado = df_temp[df_temp['station_name'].isin(stations_completas)]\n",
    "df_temp_filtrado"
   ]
  },
  {
   "cell_type": "code",
   "execution_count": 136,
   "id": "b86ec3ad-dca6-46f7-90f2-9e35663d0853",
   "metadata": {},
   "outputs": [
    {
     "data": {
      "text/plain": [
       "Text(0.5, 0, '')"
      ]
     },
     "execution_count": 136,
     "metadata": {},
     "output_type": "execute_result"
    },
    {
     "data": {
      "image/png": "[encoded data removed]",
      "text/plain": [
       "<Figure size 400x300 with 1 Axes>"
      ]
     },
     "metadata": {},
     "output_type": "display_data"
    }
   ],
   "source": [
    "df_temp_agrupado = df_temp_filtrado.groupby('ano')['max_temperature'].mean()\n",
    "graph = df_temp_agrupado.plot.line(x='ano',y='max_temperature',figsize=(4,3),title='Tempartura anual média (2000-2022)',legend=False,ylabel='ºC')\n",
    "graph.set_xlabel('')"
   ]
  },
  {
   "cell_type": "code",
   "execution_count": 137,
   "id": "e7240f5e-d5b3-463a-aade-9e0ebec54782",
   "metadata": {},
   "outputs": [
    {
     "data": {
      "text/plain": [
       "ano\n",
       "2000    28.37\n",
       "2001    28.92\n",
       "2002    29.24\n",
       "2003    28.89\n",
       "2004    27.90\n",
       "2005    28.35\n",
       "2006    28.34\n",
       "2007    28.93\n",
       "2008    28.28\n",
       "2009    28.57\n",
       "2010    28.71\n",
       "2011    28.18\n",
       "2012    28.76\n",
       "2013    28.25\n",
       "2014    29.07\n",
       "2015    29.46\n",
       "2016    29.18\n",
       "2017    28.75\n",
       "2018    28.77\n",
       "2019    29.66\n",
       "2020    28.81\n",
       "2021    28.75\n",
       "2022    28.51\n",
       "Name: max_temperature, dtype: float64"
      ]
     },
     "execution_count": 137,
     "metadata": {},
     "output_type": "execute_result"
    }
   ],
   "source": [
    "df_temp_agrupado.round(2)"
   ]
  },
  {
   "cell_type": "markdown",
   "id": "5956b5f7-f8f3-4128-8c59-acd152a442ef",
   "metadata": {},
   "source": [
    "<hr>"
   ]
  },
  {
   "cell_type": "markdown",
   "id": "55b505e3-ff1d-41b3-9c2a-f29d21d191e8",
   "metadata": {},
   "source": [
    "<h3>3. Teste de hipótese</h3>"
   ]
  },
  {
   "cell_type": "code",
   "execution_count": 138,
   "id": "c09ae8ea-ee89-4ad0-b079-c0c798e3ffd4",
   "metadata": {},
   "outputs": [
    {
     "name": "stdout",
     "output_type": "stream",
     "text": [
      "Não rejeitamos a hipótese nula: não há uma correlação significativa entre desmatamento e temperatura.\n"
     ]
    }
   ],
   "source": [
    "df_combined = pd.merge(df_desmatamento_ano, df_temp_agrupado, left_on='ano', right_on='ano')\n",
    "corr, p_value = pearsonr(df_combined['desmatado_km2'], df_combined['max_temperature'])\n",
    "if p_value < 0.05:\n",
    "    print(\"Rejeitamos a hipótese nula: há uma correlação significativa entre desmatamento e temperatura.\")\n",
    "else:\n",
    "    print(\"Não rejeitamos a hipótese nula: não há uma correlação significativa entre desmatamento e temperatura.\")"
   ]
  },
  {
   "cell_type": "code",
   "execution_count": 139,
   "id": "64b9bd3b-3bae-4051-bc20-a5087d037aec",
   "metadata": {},
   "outputs": [
    {
     "data": {
      "text/plain": [
       "0.3292022376379423"
      ]
     },
     "execution_count": 139,
     "metadata": {},
     "output_type": "execute_result"
    }
   ],
   "source": [
    "p_value"
   ]
  },
  {
   "cell_type": "code",
   "execution_count": 140,
   "id": "ae7aa05b-44eb-4721-99ef-3d0b4a894403",
   "metadata": {},
   "outputs": [
    {
     "data": {
      "text/plain": [
       "0.21298227641679168"
      ]
     },
     "execution_count": 140,
     "metadata": {},
     "output_type": "execute_result"
    }
   ],
   "source": [
    "corr"
   ]
  },
  {
   "cell_type": "code",
   "execution_count": null,
   "id": "5b2f6244-ec59-4eb9-b795-c0f4c65c81eb",
   "metadata": {},
   "outputs": [],
   "source": []
  }
 ],
 "metadata": {
  "kernelspec": {
   "display_name": "Python 3 (ipykernel)",
   "language": "python",
   "name": "python3"
  },
  "language_info": {
   "codemirror_mode": {
    "name": "ipython",
    "version": 3
   },
   "file_extension": ".py",
   "mimetype": "text/x-python",
   "name": "python",
   "nbconvert_exporter": "python",
   "pygments_lexer": "ipython3",
   "version": "3.12.5"
  }
 },
 "nbformat": 4,
 "nbformat_minor": 5
}
